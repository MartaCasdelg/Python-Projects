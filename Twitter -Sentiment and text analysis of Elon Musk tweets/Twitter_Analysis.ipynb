{
  "nbformat": 4,
  "nbformat_minor": 0,
  "metadata": {
    "colab": {
      "provenance": []
    },
    "kernelspec": {
      "name": "python3",
      "display_name": "Python 3"
    },
    "language_info": {
      "name": "python"
    }
  },
  "cells": [
    {
      "cell_type": "markdown",
      "source": [
        "# Import libraries\n"
      ],
      "metadata": {
        "id": "OnHb2BS_2o6b"
      }
    },
    {
      "cell_type": "code",
      "execution_count": 1,
      "metadata": {
        "id": "9vS57vGdv9LC"
      },
      "outputs": [],
      "source": [
        "# Suppressing Warnings\n",
        "\n",
        "import warnings\n",
        "warnings.filterwarnings('ignore')\n",
        "\n",
        "# Import libraries\n",
        "import tweepy\n",
        "import pandas as pd\n",
        "import numpy as np\n",
        "import re\n",
        "import matplotlib.pyplot as plt\n",
        "import seaborn as sns\n",
        "from textblob import TextBlob\n",
        "\n",
        "%matplotlib inline"
      ]
    },
    {
      "cell_type": "markdown",
      "source": [
        "# Get authentication data"
      ],
      "metadata": {
        "id": "Ib8ouo_n2r4R"
      }
    },
    {
      "cell_type": "code",
      "source": [
        "# Load the authentication data\n",
        "log = pd.read_excel('keys.xlsx')"
      ],
      "metadata": {
        "id": "F-D4LyeWwP0l"
      },
      "execution_count": 2,
      "outputs": []
    },
    {
      "cell_type": "code",
      "source": [
        "# Get twitter API credentials\n",
        "consumer_key = log['ConsumerKey'][0]\n",
        "consumer_secret = log['ConsumerKeySecret'][0]\n",
        "access_token = log['AccessToken'][0]\n",
        "access_token_secret = log['AccessTokenSecret'][0]"
      ],
      "metadata": {
        "id": "dRrLwfWl1iuv"
      },
      "execution_count": 3,
      "outputs": []
    },
    {
      "cell_type": "markdown",
      "source": [
        "# Create API object with credentials"
      ],
      "metadata": {
        "id": "YLOTmwVO2vMJ"
      }
    },
    {
      "cell_type": "code",
      "source": [
        "# Create the authentication object\n",
        "authenticate = tweepy.OAuthHandler(consumer_key, consumer_secret)"
      ],
      "metadata": {
        "id": "Uic0ER4b11__"
      },
      "execution_count": 4,
      "outputs": []
    },
    {
      "cell_type": "code",
      "source": [
        "#Set the access token and access token secret\n",
        "authenticate.set_access_token(key = access_token, secret = access_token_secret)"
      ],
      "metadata": {
        "id": "qhqArfau2Cit"
      },
      "execution_count": 5,
      "outputs": []
    },
    {
      "cell_type": "code",
      "source": [
        "# Create API object\n",
        "api = tweepy.API(auth_handler = authenticate, wait_on_rate_limit = True)"
      ],
      "metadata": {
        "id": "WmMu34YF2Ym6"
      },
      "execution_count": 6,
      "outputs": []
    },
    {
      "cell_type": "markdown",
      "source": [
        "# Obtain data from the api"
      ],
      "metadata": {
        "id": "YgjHecfVAZFl"
      }
    },
    {
      "cell_type": "markdown",
      "source": [
        "To get data from the api using this method you need to have a developer account on the twitter developer portal, as well as a minimum permission level of 'elevated'. \n",
        "\n",
        "If you have an 'essential' permission level, this code will not work for you so you have to make a request to have your permissions extended through the developer portal. Once this is done, you will be able to run this code with your login credentials."
      ],
      "metadata": {
        "id": "6v5xYCXkrta-"
      }
    },
    {
      "cell_type": "markdown",
      "source": [
        "## Getting info from user"
      ],
      "metadata": {
        "id": "ObpEBHK8qX5I"
      }
    },
    {
      "cell_type": "markdown",
      "source": [
        "Extracting data from user (elonmusk) making a loop to get it's name, description, location, followers_count and friends_count. The data is stored in a dictionary which is then converted into a dataframe."
      ],
      "metadata": {
        "id": "Zy4HkuGprLhF"
      }
    },
    {
      "cell_type": "code",
      "source": [
        "user_list = ['elonmusk']\n",
        "\n",
        "# Getting info from bio\n",
        "for user in user_list:\n",
        "  user_info = api.get_user(user)\n",
        "  name = user_info.name\n",
        "  description = user_info.description\n",
        "  location = user_info.location\n",
        "  followers_count = user_info.followers_count\n",
        "  friends_count = user_info.friends_count\n",
        "\n",
        "  user_info = {\n",
        "      'Name':[name],\n",
        "      'Bio':[description],\n",
        "      'Location':[location],\n",
        "      'Followers_count':[followers_count],\n",
        "      'Friends_count':[friends_count]\n",
        "  }\n",
        "\n",
        "# Saving data into a dataframe\n",
        "info = pd.DataFrame(user_info)"
      ],
      "metadata": {
        "id": "2RsX87QuolJi"
      },
      "execution_count": 7,
      "outputs": []
    },
    {
      "cell_type": "code",
      "source": [
        "# Print dataframe with user_info \n",
        "info"
      ],
      "metadata": {
        "colab": {
          "base_uri": "https://localhost:8080/",
          "height": 81
        },
        "id": "9dAKeBZMqDvF",
        "outputId": "e669b74c-03e5-4917-d8fb-5c5c6cd1ef9d"
      },
      "execution_count": 8,
      "outputs": [
        {
          "output_type": "execute_result",
          "data": {
            "text/plain": [
              "        Name Bio Location  Followers_count  Friends_count\n",
              "0  Elon Musk                     130276321            181"
            ],
            "text/html": [
              "\n",
              "  <div id=\"df-adcf5458-089c-4788-8f44-93b3c7581f49\">\n",
              "    <div class=\"colab-df-container\">\n",
              "      <div>\n",
              "<style scoped>\n",
              "    .dataframe tbody tr th:only-of-type {\n",
              "        vertical-align: middle;\n",
              "    }\n",
              "\n",
              "    .dataframe tbody tr th {\n",
              "        vertical-align: top;\n",
              "    }\n",
              "\n",
              "    .dataframe thead th {\n",
              "        text-align: right;\n",
              "    }\n",
              "</style>\n",
              "<table border=\"1\" class=\"dataframe\">\n",
              "  <thead>\n",
              "    <tr style=\"text-align: right;\">\n",
              "      <th></th>\n",
              "      <th>Name</th>\n",
              "      <th>Bio</th>\n",
              "      <th>Location</th>\n",
              "      <th>Followers_count</th>\n",
              "      <th>Friends_count</th>\n",
              "    </tr>\n",
              "  </thead>\n",
              "  <tbody>\n",
              "    <tr>\n",
              "      <th>0</th>\n",
              "      <td>Elon Musk</td>\n",
              "      <td></td>\n",
              "      <td></td>\n",
              "      <td>130276321</td>\n",
              "      <td>181</td>\n",
              "    </tr>\n",
              "  </tbody>\n",
              "</table>\n",
              "</div>\n",
              "      <button class=\"colab-df-convert\" onclick=\"convertToInteractive('df-adcf5458-089c-4788-8f44-93b3c7581f49')\"\n",
              "              title=\"Convert this dataframe to an interactive table.\"\n",
              "              style=\"display:none;\">\n",
              "        \n",
              "  <svg xmlns=\"http://www.w3.org/2000/svg\" height=\"24px\"viewBox=\"0 0 24 24\"\n",
              "       width=\"24px\">\n",
              "    <path d=\"M0 0h24v24H0V0z\" fill=\"none\"/>\n",
              "    <path d=\"M18.56 5.44l.94 2.06.94-2.06 2.06-.94-2.06-.94-.94-2.06-.94 2.06-2.06.94zm-11 1L8.5 8.5l.94-2.06 2.06-.94-2.06-.94L8.5 2.5l-.94 2.06-2.06.94zm10 10l.94 2.06.94-2.06 2.06-.94-2.06-.94-.94-2.06-.94 2.06-2.06.94z\"/><path d=\"M17.41 7.96l-1.37-1.37c-.4-.4-.92-.59-1.43-.59-.52 0-1.04.2-1.43.59L10.3 9.45l-7.72 7.72c-.78.78-.78 2.05 0 2.83L4 21.41c.39.39.9.59 1.41.59.51 0 1.02-.2 1.41-.59l7.78-7.78 2.81-2.81c.8-.78.8-2.07 0-2.86zM5.41 20L4 18.59l7.72-7.72 1.47 1.35L5.41 20z\"/>\n",
              "  </svg>\n",
              "      </button>\n",
              "      \n",
              "  <style>\n",
              "    .colab-df-container {\n",
              "      display:flex;\n",
              "      flex-wrap:wrap;\n",
              "      gap: 12px;\n",
              "    }\n",
              "\n",
              "    .colab-df-convert {\n",
              "      background-color: #E8F0FE;\n",
              "      border: none;\n",
              "      border-radius: 50%;\n",
              "      cursor: pointer;\n",
              "      display: none;\n",
              "      fill: #1967D2;\n",
              "      height: 32px;\n",
              "      padding: 0 0 0 0;\n",
              "      width: 32px;\n",
              "    }\n",
              "\n",
              "    .colab-df-convert:hover {\n",
              "      background-color: #E2EBFA;\n",
              "      box-shadow: 0px 1px 2px rgba(60, 64, 67, 0.3), 0px 1px 3px 1px rgba(60, 64, 67, 0.15);\n",
              "      fill: #174EA6;\n",
              "    }\n",
              "\n",
              "    [theme=dark] .colab-df-convert {\n",
              "      background-color: #3B4455;\n",
              "      fill: #D2E3FC;\n",
              "    }\n",
              "\n",
              "    [theme=dark] .colab-df-convert:hover {\n",
              "      background-color: #434B5C;\n",
              "      box-shadow: 0px 1px 3px 1px rgba(0, 0, 0, 0.15);\n",
              "      filter: drop-shadow(0px 1px 2px rgba(0, 0, 0, 0.3));\n",
              "      fill: #FFFFFF;\n",
              "    }\n",
              "  </style>\n",
              "\n",
              "      <script>\n",
              "        const buttonEl =\n",
              "          document.querySelector('#df-adcf5458-089c-4788-8f44-93b3c7581f49 button.colab-df-convert');\n",
              "        buttonEl.style.display =\n",
              "          google.colab.kernel.accessAllowed ? 'block' : 'none';\n",
              "\n",
              "        async function convertToInteractive(key) {\n",
              "          const element = document.querySelector('#df-adcf5458-089c-4788-8f44-93b3c7581f49');\n",
              "          const dataTable =\n",
              "            await google.colab.kernel.invokeFunction('convertToInteractive',\n",
              "                                                     [key], {});\n",
              "          if (!dataTable) return;\n",
              "\n",
              "          const docLinkHtml = 'Like what you see? Visit the ' +\n",
              "            '<a target=\"_blank\" href=https://colab.research.google.com/notebooks/data_table.ipynb>data table notebook</a>'\n",
              "            + ' to learn more about interactive tables.';\n",
              "          element.innerHTML = '';\n",
              "          dataTable['output_type'] = 'display_data';\n",
              "          await google.colab.output.renderOutput(dataTable, element);\n",
              "          const docLink = document.createElement('div');\n",
              "          docLink.innerHTML = docLinkHtml;\n",
              "          element.appendChild(docLink);\n",
              "        }\n",
              "      </script>\n",
              "    </div>\n",
              "  </div>\n",
              "  "
            ]
          },
          "metadata": {},
          "execution_count": 8
        }
      ]
    },
    {
      "cell_type": "markdown",
      "source": [
        "## Extracting 3500 tweets\n",
        "\n",
        "Getting tweets, along with the number of likes, retweets and date of creation."
      ],
      "metadata": {
        "id": "vcI-KDcAqcB1"
      }
    },
    {
      "cell_type": "code",
      "source": [
        "# Number of tweets to extract\n",
        "number_of_tweets = 3500\n",
        "\n",
        "# Creating empty lists to import data\n",
        "tweets = []\n",
        "retweets = []\n",
        "likes = []\n",
        "time = []\n",
        "\n",
        "# Looping throught every tweet to obtain full text, retweets, likes and date of creation\n",
        "for i in tweepy.Cursor(api.user_timeline, id = 'elonmusk', include_rts = False, tweet_mode = 'extended', lang = 'en').items(number_of_tweets):\n",
        "  tweets.append(i.full_text)\n",
        "  retweets.append(i.retweet_count)\n",
        "  likes.append(i.favorite_count)\n",
        "  time.append(i.created_at)"
      ],
      "metadata": {
        "id": "-Vp9tP4WYha2"
      },
      "execution_count": 9,
      "outputs": []
    },
    {
      "cell_type": "code",
      "source": [
        "df = pd.DataFrame({'Tweets':tweets,'Retweets':retweets,'Likes':likes,'Date':time})"
      ],
      "metadata": {
        "id": "kqgO3F60ajPN"
      },
      "execution_count": 10,
      "outputs": []
    },
    {
      "cell_type": "code",
      "source": [
        "df"
      ],
      "metadata": {
        "colab": {
          "base_uri": "https://localhost:8080/",
          "height": 423
        },
        "id": "mJxV0qL9nOci",
        "outputId": "cdbaf049-bbbd-4de5-b300-c6edcbb3a063"
      },
      "execution_count": 11,
      "outputs": [
        {
          "output_type": "execute_result",
          "data": {
            "text/plain": [
              "                                                 Tweets  Retweets  Likes  \\\n",
              "0     @Teslaconomics So many NN’s, the visualizer to...        97   1450   \n",
              "1                        @RichardDawkins This is insane       151   2153   \n",
              "2                                          @BillyM2k 🤣💯       158   2781   \n",
              "3     The ability of Twitter advertising to reach th...      5739  58421   \n",
              "4     @Teslaconomics Cybertruck cruisers will be nex...       709  13740   \n",
              "...                                                 ...       ...    ...   \n",
              "3012                           @stillgray @jack Exactly       273   7960   \n",
              "3013  @jack Not everything needs to have “bird” in t...      1406  26770   \n",
              "3014                @jack Birdwatch gives me the creeps       985  22041   \n",
              "3015    @SarahKSilverman Community Notes aka @birdwatch       268   7372   \n",
              "3016            @GPrime85 @bennyjohnson @kathygriffin 🤣       459  22999   \n",
              "\n",
              "                    Date  \n",
              "0    2023-03-02 12:26:07  \n",
              "1    2023-03-02 11:38:33  \n",
              "2    2023-03-02 07:59:49  \n",
              "3    2023-03-02 07:46:06  \n",
              "4    2023-03-02 07:27:08  \n",
              "...                  ...  \n",
              "3012 2022-11-07 03:35:15  \n",
              "3013 2022-11-07 03:15:36  \n",
              "3014 2022-11-07 03:07:29  \n",
              "3015 2022-11-07 03:06:19  \n",
              "3016 2022-11-07 02:55:15  \n",
              "\n",
              "[3017 rows x 4 columns]"
            ],
            "text/html": [
              "\n",
              "  <div id=\"df-c7aaafad-1d1f-4a32-8685-92a43f33576a\">\n",
              "    <div class=\"colab-df-container\">\n",
              "      <div>\n",
              "<style scoped>\n",
              "    .dataframe tbody tr th:only-of-type {\n",
              "        vertical-align: middle;\n",
              "    }\n",
              "\n",
              "    .dataframe tbody tr th {\n",
              "        vertical-align: top;\n",
              "    }\n",
              "\n",
              "    .dataframe thead th {\n",
              "        text-align: right;\n",
              "    }\n",
              "</style>\n",
              "<table border=\"1\" class=\"dataframe\">\n",
              "  <thead>\n",
              "    <tr style=\"text-align: right;\">\n",
              "      <th></th>\n",
              "      <th>Tweets</th>\n",
              "      <th>Retweets</th>\n",
              "      <th>Likes</th>\n",
              "      <th>Date</th>\n",
              "    </tr>\n",
              "  </thead>\n",
              "  <tbody>\n",
              "    <tr>\n",
              "      <th>0</th>\n",
              "      <td>@Teslaconomics So many NN’s, the visualizer to...</td>\n",
              "      <td>97</td>\n",
              "      <td>1450</td>\n",
              "      <td>2023-03-02 12:26:07</td>\n",
              "    </tr>\n",
              "    <tr>\n",
              "      <th>1</th>\n",
              "      <td>@RichardDawkins This is insane</td>\n",
              "      <td>151</td>\n",
              "      <td>2153</td>\n",
              "      <td>2023-03-02 11:38:33</td>\n",
              "    </tr>\n",
              "    <tr>\n",
              "      <th>2</th>\n",
              "      <td>@BillyM2k 🤣💯</td>\n",
              "      <td>158</td>\n",
              "      <td>2781</td>\n",
              "      <td>2023-03-02 07:59:49</td>\n",
              "    </tr>\n",
              "    <tr>\n",
              "      <th>3</th>\n",
              "      <td>The ability of Twitter advertising to reach th...</td>\n",
              "      <td>5739</td>\n",
              "      <td>58421</td>\n",
              "      <td>2023-03-02 07:46:06</td>\n",
              "    </tr>\n",
              "    <tr>\n",
              "      <th>4</th>\n",
              "      <td>@Teslaconomics Cybertruck cruisers will be nex...</td>\n",
              "      <td>709</td>\n",
              "      <td>13740</td>\n",
              "      <td>2023-03-02 07:27:08</td>\n",
              "    </tr>\n",
              "    <tr>\n",
              "      <th>...</th>\n",
              "      <td>...</td>\n",
              "      <td>...</td>\n",
              "      <td>...</td>\n",
              "      <td>...</td>\n",
              "    </tr>\n",
              "    <tr>\n",
              "      <th>3012</th>\n",
              "      <td>@stillgray @jack Exactly</td>\n",
              "      <td>273</td>\n",
              "      <td>7960</td>\n",
              "      <td>2022-11-07 03:35:15</td>\n",
              "    </tr>\n",
              "    <tr>\n",
              "      <th>3013</th>\n",
              "      <td>@jack Not everything needs to have “bird” in t...</td>\n",
              "      <td>1406</td>\n",
              "      <td>26770</td>\n",
              "      <td>2022-11-07 03:15:36</td>\n",
              "    </tr>\n",
              "    <tr>\n",
              "      <th>3014</th>\n",
              "      <td>@jack Birdwatch gives me the creeps</td>\n",
              "      <td>985</td>\n",
              "      <td>22041</td>\n",
              "      <td>2022-11-07 03:07:29</td>\n",
              "    </tr>\n",
              "    <tr>\n",
              "      <th>3015</th>\n",
              "      <td>@SarahKSilverman Community Notes aka @birdwatch</td>\n",
              "      <td>268</td>\n",
              "      <td>7372</td>\n",
              "      <td>2022-11-07 03:06:19</td>\n",
              "    </tr>\n",
              "    <tr>\n",
              "      <th>3016</th>\n",
              "      <td>@GPrime85 @bennyjohnson @kathygriffin 🤣</td>\n",
              "      <td>459</td>\n",
              "      <td>22999</td>\n",
              "      <td>2022-11-07 02:55:15</td>\n",
              "    </tr>\n",
              "  </tbody>\n",
              "</table>\n",
              "<p>3017 rows × 4 columns</p>\n",
              "</div>\n",
              "      <button class=\"colab-df-convert\" onclick=\"convertToInteractive('df-c7aaafad-1d1f-4a32-8685-92a43f33576a')\"\n",
              "              title=\"Convert this dataframe to an interactive table.\"\n",
              "              style=\"display:none;\">\n",
              "        \n",
              "  <svg xmlns=\"http://www.w3.org/2000/svg\" height=\"24px\"viewBox=\"0 0 24 24\"\n",
              "       width=\"24px\">\n",
              "    <path d=\"M0 0h24v24H0V0z\" fill=\"none\"/>\n",
              "    <path d=\"M18.56 5.44l.94 2.06.94-2.06 2.06-.94-2.06-.94-.94-2.06-.94 2.06-2.06.94zm-11 1L8.5 8.5l.94-2.06 2.06-.94-2.06-.94L8.5 2.5l-.94 2.06-2.06.94zm10 10l.94 2.06.94-2.06 2.06-.94-2.06-.94-.94-2.06-.94 2.06-2.06.94z\"/><path d=\"M17.41 7.96l-1.37-1.37c-.4-.4-.92-.59-1.43-.59-.52 0-1.04.2-1.43.59L10.3 9.45l-7.72 7.72c-.78.78-.78 2.05 0 2.83L4 21.41c.39.39.9.59 1.41.59.51 0 1.02-.2 1.41-.59l7.78-7.78 2.81-2.81c.8-.78.8-2.07 0-2.86zM5.41 20L4 18.59l7.72-7.72 1.47 1.35L5.41 20z\"/>\n",
              "  </svg>\n",
              "      </button>\n",
              "      \n",
              "  <style>\n",
              "    .colab-df-container {\n",
              "      display:flex;\n",
              "      flex-wrap:wrap;\n",
              "      gap: 12px;\n",
              "    }\n",
              "\n",
              "    .colab-df-convert {\n",
              "      background-color: #E8F0FE;\n",
              "      border: none;\n",
              "      border-radius: 50%;\n",
              "      cursor: pointer;\n",
              "      display: none;\n",
              "      fill: #1967D2;\n",
              "      height: 32px;\n",
              "      padding: 0 0 0 0;\n",
              "      width: 32px;\n",
              "    }\n",
              "\n",
              "    .colab-df-convert:hover {\n",
              "      background-color: #E2EBFA;\n",
              "      box-shadow: 0px 1px 2px rgba(60, 64, 67, 0.3), 0px 1px 3px 1px rgba(60, 64, 67, 0.15);\n",
              "      fill: #174EA6;\n",
              "    }\n",
              "\n",
              "    [theme=dark] .colab-df-convert {\n",
              "      background-color: #3B4455;\n",
              "      fill: #D2E3FC;\n",
              "    }\n",
              "\n",
              "    [theme=dark] .colab-df-convert:hover {\n",
              "      background-color: #434B5C;\n",
              "      box-shadow: 0px 1px 3px 1px rgba(0, 0, 0, 0.15);\n",
              "      filter: drop-shadow(0px 1px 2px rgba(0, 0, 0, 0.3));\n",
              "      fill: #FFFFFF;\n",
              "    }\n",
              "  </style>\n",
              "\n",
              "      <script>\n",
              "        const buttonEl =\n",
              "          document.querySelector('#df-c7aaafad-1d1f-4a32-8685-92a43f33576a button.colab-df-convert');\n",
              "        buttonEl.style.display =\n",
              "          google.colab.kernel.accessAllowed ? 'block' : 'none';\n",
              "\n",
              "        async function convertToInteractive(key) {\n",
              "          const element = document.querySelector('#df-c7aaafad-1d1f-4a32-8685-92a43f33576a');\n",
              "          const dataTable =\n",
              "            await google.colab.kernel.invokeFunction('convertToInteractive',\n",
              "                                                     [key], {});\n",
              "          if (!dataTable) return;\n",
              "\n",
              "          const docLinkHtml = 'Like what you see? Visit the ' +\n",
              "            '<a target=\"_blank\" href=https://colab.research.google.com/notebooks/data_table.ipynb>data table notebook</a>'\n",
              "            + ' to learn more about interactive tables.';\n",
              "          element.innerHTML = '';\n",
              "          dataTable['output_type'] = 'display_data';\n",
              "          await google.colab.output.renderOutput(dataTable, element);\n",
              "          const docLink = document.createElement('div');\n",
              "          docLink.innerHTML = docLinkHtml;\n",
              "          element.appendChild(docLink);\n",
              "        }\n",
              "      </script>\n",
              "    </div>\n",
              "  </div>\n",
              "  "
            ]
          },
          "metadata": {},
          "execution_count": 11
        }
      ]
    },
    {
      "cell_type": "code",
      "source": [
        "df.to_csv('rawdata.csv', index = False)"
      ],
      "metadata": {
        "id": "Elxe8hIiDw20"
      },
      "execution_count": 12,
      "outputs": []
    },
    {
      "cell_type": "markdown",
      "source": [
        "# Data cleaning"
      ],
      "metadata": {
        "id": "_AyS-czhw6w7"
      }
    },
    {
      "cell_type": "markdown",
      "source": [
        "## Text cleaning"
      ],
      "metadata": {
        "id": "xUAP6jzb_HUg"
      }
    },
    {
      "cell_type": "code",
      "source": [
        "# Creating a function to clean the tweets\n",
        "\n",
        "def cleantwt (twt):\n",
        "  emoj = re.compile(\"[\"\n",
        "        u\"\\U0001F600-\\U0001F64F\"  # emoticons\n",
        "        u\"\\U0001F300-\\U0001F5FF\"  # symbols & pictographs\n",
        "        u\"\\U0001F680-\\U0001F6FF\"  # transport & map symbols\n",
        "        u\"\\U0001F1E0-\\U0001F1FF\"  # flags (iOS)\n",
        "        u\"\\U00002500-\\U00002BEF\"  # chinese char\n",
        "        u\"\\U00002702-\\U000027B0\"\n",
        "        u\"\\U000024C2-\\U0001F251\"\n",
        "        u\"\\U0001f926-\\U0001f937\"\n",
        "        u\"\\U00010000-\\U0010ffff\"\n",
        "        u\"\\u2640-\\u2642\" \n",
        "        u\"\\u2600-\\u2B55\"\n",
        "        u\"\\u200d\"\n",
        "        u\"\\u23cf\"\n",
        "        u\"\\u23e9\"\n",
        "        u\"\\u231a\"\n",
        "        u\"\\ufe0f\"  # dingbats\n",
        "        u\"\\u3030\"\n",
        "                      \"]+\", re.UNICODE)\n",
        "\n",
        "  twt = re.sub('RT', '', twt) # remove 'RT' from tweets\n",
        "  twt = re.sub('#[A-Za-z0-9]+', '', twt) # remove the '#' from the tweets\n",
        "  twt = re.sub('\\\\n', '', twt) # remove the '\\n' character\n",
        "  twt = re.sub('https?:\\/\\/\\S+', '', twt) # remove the hyperlinks\n",
        "  twt = re.sub('@[\\S]*', '', twt) # remove @mentions\n",
        "  twt = re.sub('^[\\s]+|[\\s]+$', '', twt) # remove leading and trailing whitespaces\n",
        "  twt = re.sub(emoj, '', twt) # remove emojis\n",
        "  return twt"
      ],
      "metadata": {
        "id": "FDY4Icnqndt3"
      },
      "execution_count": 13,
      "outputs": []
    },
    {
      "cell_type": "code",
      "source": [
        "# Create a new column with the cleaned tweets\n",
        "\n",
        "df['Cleaned_Tweets'] = df['Tweets'].apply(cleantwt)"
      ],
      "metadata": {
        "id": "WuOgf71Uy5SW"
      },
      "execution_count": 14,
      "outputs": []
    },
    {
      "cell_type": "code",
      "source": [
        "# Showing the data\n",
        "df.head()"
      ],
      "metadata": {
        "colab": {
          "base_uri": "https://localhost:8080/",
          "height": 206
        },
        "id": "S5NPH6mBzhII",
        "outputId": "180d2785-d689-4853-8370-0c587ebb2fb0"
      },
      "execution_count": 15,
      "outputs": [
        {
          "output_type": "execute_result",
          "data": {
            "text/plain": [
              "                                              Tweets  Retweets  Likes  \\\n",
              "0  @Teslaconomics So many NN’s, the visualizer to...        97   1450   \n",
              "1                     @RichardDawkins This is insane       151   2153   \n",
              "2                                       @BillyM2k 🤣💯       158   2781   \n",
              "3  The ability of Twitter advertising to reach th...      5739  58421   \n",
              "4  @Teslaconomics Cybertruck cruisers will be nex...       709  13740   \n",
              "\n",
              "                 Date                                     Cleaned_Tweets  \n",
              "0 2023-03-02 12:26:07  So many NN’s, the visualizer tool crashes tryi...  \n",
              "1 2023-03-02 11:38:33                                     This is insane  \n",
              "2 2023-03-02 07:59:49                                                     \n",
              "3 2023-03-02 07:46:06  The ability of Twitter advertising to reach th...  \n",
              "4 2023-03-02 07:27:08  Cybertruck cruisers will be next-level. Design...  "
            ],
            "text/html": [
              "\n",
              "  <div id=\"df-8e1130bc-106e-4efa-8976-d6195e5c9821\">\n",
              "    <div class=\"colab-df-container\">\n",
              "      <div>\n",
              "<style scoped>\n",
              "    .dataframe tbody tr th:only-of-type {\n",
              "        vertical-align: middle;\n",
              "    }\n",
              "\n",
              "    .dataframe tbody tr th {\n",
              "        vertical-align: top;\n",
              "    }\n",
              "\n",
              "    .dataframe thead th {\n",
              "        text-align: right;\n",
              "    }\n",
              "</style>\n",
              "<table border=\"1\" class=\"dataframe\">\n",
              "  <thead>\n",
              "    <tr style=\"text-align: right;\">\n",
              "      <th></th>\n",
              "      <th>Tweets</th>\n",
              "      <th>Retweets</th>\n",
              "      <th>Likes</th>\n",
              "      <th>Date</th>\n",
              "      <th>Cleaned_Tweets</th>\n",
              "    </tr>\n",
              "  </thead>\n",
              "  <tbody>\n",
              "    <tr>\n",
              "      <th>0</th>\n",
              "      <td>@Teslaconomics So many NN’s, the visualizer to...</td>\n",
              "      <td>97</td>\n",
              "      <td>1450</td>\n",
              "      <td>2023-03-02 12:26:07</td>\n",
              "      <td>So many NN’s, the visualizer tool crashes tryi...</td>\n",
              "    </tr>\n",
              "    <tr>\n",
              "      <th>1</th>\n",
              "      <td>@RichardDawkins This is insane</td>\n",
              "      <td>151</td>\n",
              "      <td>2153</td>\n",
              "      <td>2023-03-02 11:38:33</td>\n",
              "      <td>This is insane</td>\n",
              "    </tr>\n",
              "    <tr>\n",
              "      <th>2</th>\n",
              "      <td>@BillyM2k 🤣💯</td>\n",
              "      <td>158</td>\n",
              "      <td>2781</td>\n",
              "      <td>2023-03-02 07:59:49</td>\n",
              "      <td></td>\n",
              "    </tr>\n",
              "    <tr>\n",
              "      <th>3</th>\n",
              "      <td>The ability of Twitter advertising to reach th...</td>\n",
              "      <td>5739</td>\n",
              "      <td>58421</td>\n",
              "      <td>2023-03-02 07:46:06</td>\n",
              "      <td>The ability of Twitter advertising to reach th...</td>\n",
              "    </tr>\n",
              "    <tr>\n",
              "      <th>4</th>\n",
              "      <td>@Teslaconomics Cybertruck cruisers will be nex...</td>\n",
              "      <td>709</td>\n",
              "      <td>13740</td>\n",
              "      <td>2023-03-02 07:27:08</td>\n",
              "      <td>Cybertruck cruisers will be next-level. Design...</td>\n",
              "    </tr>\n",
              "  </tbody>\n",
              "</table>\n",
              "</div>\n",
              "      <button class=\"colab-df-convert\" onclick=\"convertToInteractive('df-8e1130bc-106e-4efa-8976-d6195e5c9821')\"\n",
              "              title=\"Convert this dataframe to an interactive table.\"\n",
              "              style=\"display:none;\">\n",
              "        \n",
              "  <svg xmlns=\"http://www.w3.org/2000/svg\" height=\"24px\"viewBox=\"0 0 24 24\"\n",
              "       width=\"24px\">\n",
              "    <path d=\"M0 0h24v24H0V0z\" fill=\"none\"/>\n",
              "    <path d=\"M18.56 5.44l.94 2.06.94-2.06 2.06-.94-2.06-.94-.94-2.06-.94 2.06-2.06.94zm-11 1L8.5 8.5l.94-2.06 2.06-.94-2.06-.94L8.5 2.5l-.94 2.06-2.06.94zm10 10l.94 2.06.94-2.06 2.06-.94-2.06-.94-.94-2.06-.94 2.06-2.06.94z\"/><path d=\"M17.41 7.96l-1.37-1.37c-.4-.4-.92-.59-1.43-.59-.52 0-1.04.2-1.43.59L10.3 9.45l-7.72 7.72c-.78.78-.78 2.05 0 2.83L4 21.41c.39.39.9.59 1.41.59.51 0 1.02-.2 1.41-.59l7.78-7.78 2.81-2.81c.8-.78.8-2.07 0-2.86zM5.41 20L4 18.59l7.72-7.72 1.47 1.35L5.41 20z\"/>\n",
              "  </svg>\n",
              "      </button>\n",
              "      \n",
              "  <style>\n",
              "    .colab-df-container {\n",
              "      display:flex;\n",
              "      flex-wrap:wrap;\n",
              "      gap: 12px;\n",
              "    }\n",
              "\n",
              "    .colab-df-convert {\n",
              "      background-color: #E8F0FE;\n",
              "      border: none;\n",
              "      border-radius: 50%;\n",
              "      cursor: pointer;\n",
              "      display: none;\n",
              "      fill: #1967D2;\n",
              "      height: 32px;\n",
              "      padding: 0 0 0 0;\n",
              "      width: 32px;\n",
              "    }\n",
              "\n",
              "    .colab-df-convert:hover {\n",
              "      background-color: #E2EBFA;\n",
              "      box-shadow: 0px 1px 2px rgba(60, 64, 67, 0.3), 0px 1px 3px 1px rgba(60, 64, 67, 0.15);\n",
              "      fill: #174EA6;\n",
              "    }\n",
              "\n",
              "    [theme=dark] .colab-df-convert {\n",
              "      background-color: #3B4455;\n",
              "      fill: #D2E3FC;\n",
              "    }\n",
              "\n",
              "    [theme=dark] .colab-df-convert:hover {\n",
              "      background-color: #434B5C;\n",
              "      box-shadow: 0px 1px 3px 1px rgba(0, 0, 0, 0.15);\n",
              "      filter: drop-shadow(0px 1px 2px rgba(0, 0, 0, 0.3));\n",
              "      fill: #FFFFFF;\n",
              "    }\n",
              "  </style>\n",
              "\n",
              "      <script>\n",
              "        const buttonEl =\n",
              "          document.querySelector('#df-8e1130bc-106e-4efa-8976-d6195e5c9821 button.colab-df-convert');\n",
              "        buttonEl.style.display =\n",
              "          google.colab.kernel.accessAllowed ? 'block' : 'none';\n",
              "\n",
              "        async function convertToInteractive(key) {\n",
              "          const element = document.querySelector('#df-8e1130bc-106e-4efa-8976-d6195e5c9821');\n",
              "          const dataTable =\n",
              "            await google.colab.kernel.invokeFunction('convertToInteractive',\n",
              "                                                     [key], {});\n",
              "          if (!dataTable) return;\n",
              "\n",
              "          const docLinkHtml = 'Like what you see? Visit the ' +\n",
              "            '<a target=\"_blank\" href=https://colab.research.google.com/notebooks/data_table.ipynb>data table notebook</a>'\n",
              "            + ' to learn more about interactive tables.';\n",
              "          element.innerHTML = '';\n",
              "          dataTable['output_type'] = 'display_data';\n",
              "          await google.colab.output.renderOutput(dataTable, element);\n",
              "          const docLink = document.createElement('div');\n",
              "          docLink.innerHTML = docLinkHtml;\n",
              "          element.appendChild(docLink);\n",
              "        }\n",
              "      </script>\n",
              "    </div>\n",
              "  </div>\n",
              "  "
            ]
          },
          "metadata": {},
          "execution_count": 15
        }
      ]
    },
    {
      "cell_type": "markdown",
      "source": [
        "Some of the tweets only contained mentions or emojis, so when I applied the cleanup to the dataframe, some rows were left with empty strings in the 'Cleaned_tweets' column. Now, I'm going to delete them."
      ],
      "metadata": {
        "id": "VzEnkSf35Gnb"
      }
    },
    {
      "cell_type": "code",
      "source": [
        "# Drop rows with empty strings ('')\n",
        "\n",
        "df.drop(df[df['Cleaned_Tweets'] == ''].index, inplace = True)"
      ],
      "metadata": {
        "id": "KceELuAa5VVb"
      },
      "execution_count": 16,
      "outputs": []
    },
    {
      "cell_type": "code",
      "source": [
        "# Show dataframe with clean tweets column\n",
        "df.head()"
      ],
      "metadata": {
        "colab": {
          "base_uri": "https://localhost:8080/",
          "height": 206
        },
        "id": "xVfxIkpZ55JY",
        "outputId": "ea150eea-efed-4380-843f-a574bc5885a1"
      },
      "execution_count": 17,
      "outputs": [
        {
          "output_type": "execute_result",
          "data": {
            "text/plain": [
              "                                              Tweets  Retweets  Likes  \\\n",
              "0  @Teslaconomics So many NN’s, the visualizer to...        97   1450   \n",
              "1                     @RichardDawkins This is insane       151   2153   \n",
              "3  The ability of Twitter advertising to reach th...      5739  58421   \n",
              "4  @Teslaconomics Cybertruck cruisers will be nex...       709  13740   \n",
              "5  Twice as many people died in Japan last year a...     14903  76109   \n",
              "\n",
              "                 Date                                     Cleaned_Tweets  \n",
              "0 2023-03-02 12:26:07  So many NN’s, the visualizer tool crashes tryi...  \n",
              "1 2023-03-02 11:38:33                                     This is insane  \n",
              "3 2023-03-02 07:46:06  The ability of Twitter advertising to reach th...  \n",
              "4 2023-03-02 07:27:08  Cybertruck cruisers will be next-level. Design...  \n",
              "5 2023-03-02 02:57:31  Twice as many people died in Japan last year a...  "
            ],
            "text/html": [
              "\n",
              "  <div id=\"df-af599f66-5411-4049-8ddd-1ff3c2a1361b\">\n",
              "    <div class=\"colab-df-container\">\n",
              "      <div>\n",
              "<style scoped>\n",
              "    .dataframe tbody tr th:only-of-type {\n",
              "        vertical-align: middle;\n",
              "    }\n",
              "\n",
              "    .dataframe tbody tr th {\n",
              "        vertical-align: top;\n",
              "    }\n",
              "\n",
              "    .dataframe thead th {\n",
              "        text-align: right;\n",
              "    }\n",
              "</style>\n",
              "<table border=\"1\" class=\"dataframe\">\n",
              "  <thead>\n",
              "    <tr style=\"text-align: right;\">\n",
              "      <th></th>\n",
              "      <th>Tweets</th>\n",
              "      <th>Retweets</th>\n",
              "      <th>Likes</th>\n",
              "      <th>Date</th>\n",
              "      <th>Cleaned_Tweets</th>\n",
              "    </tr>\n",
              "  </thead>\n",
              "  <tbody>\n",
              "    <tr>\n",
              "      <th>0</th>\n",
              "      <td>@Teslaconomics So many NN’s, the visualizer to...</td>\n",
              "      <td>97</td>\n",
              "      <td>1450</td>\n",
              "      <td>2023-03-02 12:26:07</td>\n",
              "      <td>So many NN’s, the visualizer tool crashes tryi...</td>\n",
              "    </tr>\n",
              "    <tr>\n",
              "      <th>1</th>\n",
              "      <td>@RichardDawkins This is insane</td>\n",
              "      <td>151</td>\n",
              "      <td>2153</td>\n",
              "      <td>2023-03-02 11:38:33</td>\n",
              "      <td>This is insane</td>\n",
              "    </tr>\n",
              "    <tr>\n",
              "      <th>3</th>\n",
              "      <td>The ability of Twitter advertising to reach th...</td>\n",
              "      <td>5739</td>\n",
              "      <td>58421</td>\n",
              "      <td>2023-03-02 07:46:06</td>\n",
              "      <td>The ability of Twitter advertising to reach th...</td>\n",
              "    </tr>\n",
              "    <tr>\n",
              "      <th>4</th>\n",
              "      <td>@Teslaconomics Cybertruck cruisers will be nex...</td>\n",
              "      <td>709</td>\n",
              "      <td>13740</td>\n",
              "      <td>2023-03-02 07:27:08</td>\n",
              "      <td>Cybertruck cruisers will be next-level. Design...</td>\n",
              "    </tr>\n",
              "    <tr>\n",
              "      <th>5</th>\n",
              "      <td>Twice as many people died in Japan last year a...</td>\n",
              "      <td>14903</td>\n",
              "      <td>76109</td>\n",
              "      <td>2023-03-02 02:57:31</td>\n",
              "      <td>Twice as many people died in Japan last year a...</td>\n",
              "    </tr>\n",
              "  </tbody>\n",
              "</table>\n",
              "</div>\n",
              "      <button class=\"colab-df-convert\" onclick=\"convertToInteractive('df-af599f66-5411-4049-8ddd-1ff3c2a1361b')\"\n",
              "              title=\"Convert this dataframe to an interactive table.\"\n",
              "              style=\"display:none;\">\n",
              "        \n",
              "  <svg xmlns=\"http://www.w3.org/2000/svg\" height=\"24px\"viewBox=\"0 0 24 24\"\n",
              "       width=\"24px\">\n",
              "    <path d=\"M0 0h24v24H0V0z\" fill=\"none\"/>\n",
              "    <path d=\"M18.56 5.44l.94 2.06.94-2.06 2.06-.94-2.06-.94-.94-2.06-.94 2.06-2.06.94zm-11 1L8.5 8.5l.94-2.06 2.06-.94-2.06-.94L8.5 2.5l-.94 2.06-2.06.94zm10 10l.94 2.06.94-2.06 2.06-.94-2.06-.94-.94-2.06-.94 2.06-2.06.94z\"/><path d=\"M17.41 7.96l-1.37-1.37c-.4-.4-.92-.59-1.43-.59-.52 0-1.04.2-1.43.59L10.3 9.45l-7.72 7.72c-.78.78-.78 2.05 0 2.83L4 21.41c.39.39.9.59 1.41.59.51 0 1.02-.2 1.41-.59l7.78-7.78 2.81-2.81c.8-.78.8-2.07 0-2.86zM5.41 20L4 18.59l7.72-7.72 1.47 1.35L5.41 20z\"/>\n",
              "  </svg>\n",
              "      </button>\n",
              "      \n",
              "  <style>\n",
              "    .colab-df-container {\n",
              "      display:flex;\n",
              "      flex-wrap:wrap;\n",
              "      gap: 12px;\n",
              "    }\n",
              "\n",
              "    .colab-df-convert {\n",
              "      background-color: #E8F0FE;\n",
              "      border: none;\n",
              "      border-radius: 50%;\n",
              "      cursor: pointer;\n",
              "      display: none;\n",
              "      fill: #1967D2;\n",
              "      height: 32px;\n",
              "      padding: 0 0 0 0;\n",
              "      width: 32px;\n",
              "    }\n",
              "\n",
              "    .colab-df-convert:hover {\n",
              "      background-color: #E2EBFA;\n",
              "      box-shadow: 0px 1px 2px rgba(60, 64, 67, 0.3), 0px 1px 3px 1px rgba(60, 64, 67, 0.15);\n",
              "      fill: #174EA6;\n",
              "    }\n",
              "\n",
              "    [theme=dark] .colab-df-convert {\n",
              "      background-color: #3B4455;\n",
              "      fill: #D2E3FC;\n",
              "    }\n",
              "\n",
              "    [theme=dark] .colab-df-convert:hover {\n",
              "      background-color: #434B5C;\n",
              "      box-shadow: 0px 1px 3px 1px rgba(0, 0, 0, 0.15);\n",
              "      filter: drop-shadow(0px 1px 2px rgba(0, 0, 0, 0.3));\n",
              "      fill: #FFFFFF;\n",
              "    }\n",
              "  </style>\n",
              "\n",
              "      <script>\n",
              "        const buttonEl =\n",
              "          document.querySelector('#df-af599f66-5411-4049-8ddd-1ff3c2a1361b button.colab-df-convert');\n",
              "        buttonEl.style.display =\n",
              "          google.colab.kernel.accessAllowed ? 'block' : 'none';\n",
              "\n",
              "        async function convertToInteractive(key) {\n",
              "          const element = document.querySelector('#df-af599f66-5411-4049-8ddd-1ff3c2a1361b');\n",
              "          const dataTable =\n",
              "            await google.colab.kernel.invokeFunction('convertToInteractive',\n",
              "                                                     [key], {});\n",
              "          if (!dataTable) return;\n",
              "\n",
              "          const docLinkHtml = 'Like what you see? Visit the ' +\n",
              "            '<a target=\"_blank\" href=https://colab.research.google.com/notebooks/data_table.ipynb>data table notebook</a>'\n",
              "            + ' to learn more about interactive tables.';\n",
              "          element.innerHTML = '';\n",
              "          dataTable['output_type'] = 'display_data';\n",
              "          await google.colab.output.renderOutput(dataTable, element);\n",
              "          const docLink = document.createElement('div');\n",
              "          docLink.innerHTML = docLinkHtml;\n",
              "          element.appendChild(docLink);\n",
              "        }\n",
              "      </script>\n",
              "    </div>\n",
              "  </div>\n",
              "  "
            ]
          },
          "metadata": {},
          "execution_count": 17
        }
      ]
    },
    {
      "cell_type": "markdown",
      "source": [
        "## Removing duplicates"
      ],
      "metadata": {
        "id": "NV0wmoT0_KOh"
      }
    },
    {
      "cell_type": "code",
      "source": [
        "# Counting duplicate data in dataframe\n",
        "\n",
        "df.duplicated().sum()"
      ],
      "metadata": {
        "colab": {
          "base_uri": "https://localhost:8080/"
        },
        "id": "YFqAvAnu_FxI",
        "outputId": "38f3d40b-6aa3-4c0e-b902-f246fce572f4"
      },
      "execution_count": 18,
      "outputs": [
        {
          "output_type": "execute_result",
          "data": {
            "text/plain": [
              "0"
            ]
          },
          "metadata": {},
          "execution_count": 18
        }
      ]
    },
    {
      "cell_type": "markdown",
      "source": [
        "There are no duplicates in the dataframe, so I can start with the analysis."
      ],
      "metadata": {
        "id": "aA3_Zq2n_cAB"
      }
    },
    {
      "cell_type": "code",
      "source": [
        "df.to_csv('cleandata.csv', index = False)"
      ],
      "metadata": {
        "id": "hNg4EOYdEKuc"
      },
      "execution_count": 19,
      "outputs": []
    },
    {
      "cell_type": "code",
      "source": [
        "shape = df.shape\n",
        "\n",
        "print(f\"There are {shape[0]} tweets after the cleanup.\")"
      ],
      "metadata": {
        "colab": {
          "base_uri": "https://localhost:8080/"
        },
        "id": "3vZ3bJIVCXQv",
        "outputId": "2845e0a4-6d30-4a52-a800-7140c36290f5"
      },
      "execution_count": 20,
      "outputs": [
        {
          "output_type": "stream",
          "name": "stdout",
          "text": [
            "There are 2589 tweets after the cleanup.\n"
          ]
        }
      ]
    },
    {
      "cell_type": "markdown",
      "source": [
        "# Sentiment Analysis"
      ],
      "metadata": {
        "id": "ZnGbg08U-0wG"
      }
    },
    {
      "cell_type": "markdown",
      "source": [
        "A very accurate definition of polarity and subjectivity in sentiment analysis is the following, provided by Christian Meyer on [Quora](https://www.quora.com/What-is-polarity-and-subjectivity-in-sentiment-analysis). \n",
        "\n",
        "* **Polarity** refers to the strength of an opinion. It could be positive or negative. If something has a strong positive feeling or emotion associated with it, such as admiration, trust, love; this will indeed have a certain orientation towards all other aspects of that object’s existence. The same goes for negative polarities. A good example would be the following: ‘I don’t think I’ll buy this item because my previous experience with a similar item wasn’t so good.’ That will have a negative polarity.\n",
        "\n",
        "* **Subjectivity** refers to the degree to which a person is personally involved in an object. What matters the most here are personal connections and individual experiences with that object, which may or may not differ from someone else’s point of view. For example: ‘I’m very happy with my new smartphone because it has the highest performance available on the market.’ Similarly to polarity, strong subjectivity may be negative or positive. The statement here is clearly subjective because the user is actually talking about his experience and how he feels about an object.\n",
        "\n",
        "Having clarified this, I will start the analysis by calculating the polarity and subjectivity of each tweet in the dataframe."
      ],
      "metadata": {
        "id": "hz0OgsjGHDxR"
      }
    },
    {
      "cell_type": "markdown",
      "source": [
        "## Getting subjectivity and polarity"
      ],
      "metadata": {
        "id": "QcmkR7mLKpWj"
      }
    },
    {
      "cell_type": "code",
      "source": [
        "#Create a function to get the subjectivity\n",
        "def getSubjectivity(twt):\n",
        "  return TextBlob(twt).sentiment.subjectivity\n",
        "\n",
        "#Create a function to get the polarity\n",
        "def getPolarity(twt):\n",
        "  return TextBlob(twt).sentiment.polarity"
      ],
      "metadata": {
        "id": "y15kdRvPBRHp"
      },
      "execution_count": 21,
      "outputs": []
    },
    {
      "cell_type": "code",
      "source": [
        "#Create two new columns to save the results of the created functions \n",
        "df['Subjectivity'] = df['Cleaned_Tweets'].apply(getSubjectivity)\n",
        "df['Polarity'] = df['Cleaned_Tweets'].apply(getPolarity)"
      ],
      "metadata": {
        "id": "IvydiONKE_jA"
      },
      "execution_count": 22,
      "outputs": []
    },
    {
      "cell_type": "code",
      "source": [
        "#Show the data\n",
        "df.head()"
      ],
      "metadata": {
        "colab": {
          "base_uri": "https://localhost:8080/",
          "height": 206
        },
        "id": "SZogE2kOFnUe",
        "outputId": "8c58f029-ddac-4450-9354-c4a0792f5634"
      },
      "execution_count": 23,
      "outputs": [
        {
          "output_type": "execute_result",
          "data": {
            "text/plain": [
              "                                              Tweets  Retweets  Likes  \\\n",
              "0  @Teslaconomics So many NN’s, the visualizer to...        97   1450   \n",
              "1                     @RichardDawkins This is insane       151   2153   \n",
              "3  The ability of Twitter advertising to reach th...      5739  58421   \n",
              "4  @Teslaconomics Cybertruck cruisers will be nex...       709  13740   \n",
              "5  Twice as many people died in Japan last year a...     14903  76109   \n",
              "\n",
              "                 Date                                     Cleaned_Tweets  \\\n",
              "0 2023-03-02 12:26:07  So many NN’s, the visualizer tool crashes tryi...   \n",
              "1 2023-03-02 11:38:33                                     This is insane   \n",
              "3 2023-03-02 07:46:06  The ability of Twitter advertising to reach th...   \n",
              "4 2023-03-02 07:27:08  Cybertruck cruisers will be next-level. Design...   \n",
              "5 2023-03-02 02:57:31  Twice as many people died in Japan last year a...   \n",
              "\n",
              "   Subjectivity  Polarity  \n",
              "0      0.500000  0.500000  \n",
              "1      1.000000 -1.000000  \n",
              "3      0.308333  0.041667  \n",
              "4      0.000000  0.000000  \n",
              "5      0.283333  0.250000  "
            ],
            "text/html": [
              "\n",
              "  <div id=\"df-2d5b56ec-edeb-4a5d-862c-00ee9467134b\">\n",
              "    <div class=\"colab-df-container\">\n",
              "      <div>\n",
              "<style scoped>\n",
              "    .dataframe tbody tr th:only-of-type {\n",
              "        vertical-align: middle;\n",
              "    }\n",
              "\n",
              "    .dataframe tbody tr th {\n",
              "        vertical-align: top;\n",
              "    }\n",
              "\n",
              "    .dataframe thead th {\n",
              "        text-align: right;\n",
              "    }\n",
              "</style>\n",
              "<table border=\"1\" class=\"dataframe\">\n",
              "  <thead>\n",
              "    <tr style=\"text-align: right;\">\n",
              "      <th></th>\n",
              "      <th>Tweets</th>\n",
              "      <th>Retweets</th>\n",
              "      <th>Likes</th>\n",
              "      <th>Date</th>\n",
              "      <th>Cleaned_Tweets</th>\n",
              "      <th>Subjectivity</th>\n",
              "      <th>Polarity</th>\n",
              "    </tr>\n",
              "  </thead>\n",
              "  <tbody>\n",
              "    <tr>\n",
              "      <th>0</th>\n",
              "      <td>@Teslaconomics So many NN’s, the visualizer to...</td>\n",
              "      <td>97</td>\n",
              "      <td>1450</td>\n",
              "      <td>2023-03-02 12:26:07</td>\n",
              "      <td>So many NN’s, the visualizer tool crashes tryi...</td>\n",
              "      <td>0.500000</td>\n",
              "      <td>0.500000</td>\n",
              "    </tr>\n",
              "    <tr>\n",
              "      <th>1</th>\n",
              "      <td>@RichardDawkins This is insane</td>\n",
              "      <td>151</td>\n",
              "      <td>2153</td>\n",
              "      <td>2023-03-02 11:38:33</td>\n",
              "      <td>This is insane</td>\n",
              "      <td>1.000000</td>\n",
              "      <td>-1.000000</td>\n",
              "    </tr>\n",
              "    <tr>\n",
              "      <th>3</th>\n",
              "      <td>The ability of Twitter advertising to reach th...</td>\n",
              "      <td>5739</td>\n",
              "      <td>58421</td>\n",
              "      <td>2023-03-02 07:46:06</td>\n",
              "      <td>The ability of Twitter advertising to reach th...</td>\n",
              "      <td>0.308333</td>\n",
              "      <td>0.041667</td>\n",
              "    </tr>\n",
              "    <tr>\n",
              "      <th>4</th>\n",
              "      <td>@Teslaconomics Cybertruck cruisers will be nex...</td>\n",
              "      <td>709</td>\n",
              "      <td>13740</td>\n",
              "      <td>2023-03-02 07:27:08</td>\n",
              "      <td>Cybertruck cruisers will be next-level. Design...</td>\n",
              "      <td>0.000000</td>\n",
              "      <td>0.000000</td>\n",
              "    </tr>\n",
              "    <tr>\n",
              "      <th>5</th>\n",
              "      <td>Twice as many people died in Japan last year a...</td>\n",
              "      <td>14903</td>\n",
              "      <td>76109</td>\n",
              "      <td>2023-03-02 02:57:31</td>\n",
              "      <td>Twice as many people died in Japan last year a...</td>\n",
              "      <td>0.283333</td>\n",
              "      <td>0.250000</td>\n",
              "    </tr>\n",
              "  </tbody>\n",
              "</table>\n",
              "</div>\n",
              "      <button class=\"colab-df-convert\" onclick=\"convertToInteractive('df-2d5b56ec-edeb-4a5d-862c-00ee9467134b')\"\n",
              "              title=\"Convert this dataframe to an interactive table.\"\n",
              "              style=\"display:none;\">\n",
              "        \n",
              "  <svg xmlns=\"http://www.w3.org/2000/svg\" height=\"24px\"viewBox=\"0 0 24 24\"\n",
              "       width=\"24px\">\n",
              "    <path d=\"M0 0h24v24H0V0z\" fill=\"none\"/>\n",
              "    <path d=\"M18.56 5.44l.94 2.06.94-2.06 2.06-.94-2.06-.94-.94-2.06-.94 2.06-2.06.94zm-11 1L8.5 8.5l.94-2.06 2.06-.94-2.06-.94L8.5 2.5l-.94 2.06-2.06.94zm10 10l.94 2.06.94-2.06 2.06-.94-2.06-.94-.94-2.06-.94 2.06-2.06.94z\"/><path d=\"M17.41 7.96l-1.37-1.37c-.4-.4-.92-.59-1.43-.59-.52 0-1.04.2-1.43.59L10.3 9.45l-7.72 7.72c-.78.78-.78 2.05 0 2.83L4 21.41c.39.39.9.59 1.41.59.51 0 1.02-.2 1.41-.59l7.78-7.78 2.81-2.81c.8-.78.8-2.07 0-2.86zM5.41 20L4 18.59l7.72-7.72 1.47 1.35L5.41 20z\"/>\n",
              "  </svg>\n",
              "      </button>\n",
              "      \n",
              "  <style>\n",
              "    .colab-df-container {\n",
              "      display:flex;\n",
              "      flex-wrap:wrap;\n",
              "      gap: 12px;\n",
              "    }\n",
              "\n",
              "    .colab-df-convert {\n",
              "      background-color: #E8F0FE;\n",
              "      border: none;\n",
              "      border-radius: 50%;\n",
              "      cursor: pointer;\n",
              "      display: none;\n",
              "      fill: #1967D2;\n",
              "      height: 32px;\n",
              "      padding: 0 0 0 0;\n",
              "      width: 32px;\n",
              "    }\n",
              "\n",
              "    .colab-df-convert:hover {\n",
              "      background-color: #E2EBFA;\n",
              "      box-shadow: 0px 1px 2px rgba(60, 64, 67, 0.3), 0px 1px 3px 1px rgba(60, 64, 67, 0.15);\n",
              "      fill: #174EA6;\n",
              "    }\n",
              "\n",
              "    [theme=dark] .colab-df-convert {\n",
              "      background-color: #3B4455;\n",
              "      fill: #D2E3FC;\n",
              "    }\n",
              "\n",
              "    [theme=dark] .colab-df-convert:hover {\n",
              "      background-color: #434B5C;\n",
              "      box-shadow: 0px 1px 3px 1px rgba(0, 0, 0, 0.15);\n",
              "      filter: drop-shadow(0px 1px 2px rgba(0, 0, 0, 0.3));\n",
              "      fill: #FFFFFF;\n",
              "    }\n",
              "  </style>\n",
              "\n",
              "      <script>\n",
              "        const buttonEl =\n",
              "          document.querySelector('#df-2d5b56ec-edeb-4a5d-862c-00ee9467134b button.colab-df-convert');\n",
              "        buttonEl.style.display =\n",
              "          google.colab.kernel.accessAllowed ? 'block' : 'none';\n",
              "\n",
              "        async function convertToInteractive(key) {\n",
              "          const element = document.querySelector('#df-2d5b56ec-edeb-4a5d-862c-00ee9467134b');\n",
              "          const dataTable =\n",
              "            await google.colab.kernel.invokeFunction('convertToInteractive',\n",
              "                                                     [key], {});\n",
              "          if (!dataTable) return;\n",
              "\n",
              "          const docLinkHtml = 'Like what you see? Visit the ' +\n",
              "            '<a target=\"_blank\" href=https://colab.research.google.com/notebooks/data_table.ipynb>data table notebook</a>'\n",
              "            + ' to learn more about interactive tables.';\n",
              "          element.innerHTML = '';\n",
              "          dataTable['output_type'] = 'display_data';\n",
              "          await google.colab.output.renderOutput(dataTable, element);\n",
              "          const docLink = document.createElement('div');\n",
              "          docLink.innerHTML = docLinkHtml;\n",
              "          element.appendChild(docLink);\n",
              "        }\n",
              "      </script>\n",
              "    </div>\n",
              "  </div>\n",
              "  "
            ]
          },
          "metadata": {},
          "execution_count": 23
        }
      ]
    },
    {
      "cell_type": "code",
      "source": [
        "# Creating a function to classify or label the sentiments as negative, positive and neutral\n",
        "def getSentiment(value):\n",
        "  if value < 0:\n",
        "    return 'Negative'\n",
        "  elif value > 0:\n",
        "    return 'Positive'\n",
        "  else:\n",
        "    return 'Neutral'"
      ],
      "metadata": {
        "id": "RTEX3QOBFpHF"
      },
      "execution_count": 24,
      "outputs": []
    },
    {
      "cell_type": "code",
      "source": [
        "# Create a new column 'Sentiment'\n",
        "df['Sentiment'] = df['Polarity'].apply(getSentiment)"
      ],
      "metadata": {
        "id": "9XZuKSb2J62k"
      },
      "execution_count": 25,
      "outputs": []
    },
    {
      "cell_type": "code",
      "source": [
        "#show data\n",
        "df.head()"
      ],
      "metadata": {
        "colab": {
          "base_uri": "https://localhost:8080/",
          "height": 206
        },
        "id": "QxLMjDqzKcL5",
        "outputId": "fac3db4d-bf3e-48aa-fb05-1e3b993dd5ef"
      },
      "execution_count": 26,
      "outputs": [
        {
          "output_type": "execute_result",
          "data": {
            "text/plain": [
              "                                              Tweets  Retweets  Likes  \\\n",
              "0  @Teslaconomics So many NN’s, the visualizer to...        97   1450   \n",
              "1                     @RichardDawkins This is insane       151   2153   \n",
              "3  The ability of Twitter advertising to reach th...      5739  58421   \n",
              "4  @Teslaconomics Cybertruck cruisers will be nex...       709  13740   \n",
              "5  Twice as many people died in Japan last year a...     14903  76109   \n",
              "\n",
              "                 Date                                     Cleaned_Tweets  \\\n",
              "0 2023-03-02 12:26:07  So many NN’s, the visualizer tool crashes tryi...   \n",
              "1 2023-03-02 11:38:33                                     This is insane   \n",
              "3 2023-03-02 07:46:06  The ability of Twitter advertising to reach th...   \n",
              "4 2023-03-02 07:27:08  Cybertruck cruisers will be next-level. Design...   \n",
              "5 2023-03-02 02:57:31  Twice as many people died in Japan last year a...   \n",
              "\n",
              "   Subjectivity  Polarity Sentiment  \n",
              "0      0.500000  0.500000  Positive  \n",
              "1      1.000000 -1.000000  Negative  \n",
              "3      0.308333  0.041667  Positive  \n",
              "4      0.000000  0.000000   Neutral  \n",
              "5      0.283333  0.250000  Positive  "
            ],
            "text/html": [
              "\n",
              "  <div id=\"df-325da7e4-f6d0-499d-97ca-75645e17aa88\">\n",
              "    <div class=\"colab-df-container\">\n",
              "      <div>\n",
              "<style scoped>\n",
              "    .dataframe tbody tr th:only-of-type {\n",
              "        vertical-align: middle;\n",
              "    }\n",
              "\n",
              "    .dataframe tbody tr th {\n",
              "        vertical-align: top;\n",
              "    }\n",
              "\n",
              "    .dataframe thead th {\n",
              "        text-align: right;\n",
              "    }\n",
              "</style>\n",
              "<table border=\"1\" class=\"dataframe\">\n",
              "  <thead>\n",
              "    <tr style=\"text-align: right;\">\n",
              "      <th></th>\n",
              "      <th>Tweets</th>\n",
              "      <th>Retweets</th>\n",
              "      <th>Likes</th>\n",
              "      <th>Date</th>\n",
              "      <th>Cleaned_Tweets</th>\n",
              "      <th>Subjectivity</th>\n",
              "      <th>Polarity</th>\n",
              "      <th>Sentiment</th>\n",
              "    </tr>\n",
              "  </thead>\n",
              "  <tbody>\n",
              "    <tr>\n",
              "      <th>0</th>\n",
              "      <td>@Teslaconomics So many NN’s, the visualizer to...</td>\n",
              "      <td>97</td>\n",
              "      <td>1450</td>\n",
              "      <td>2023-03-02 12:26:07</td>\n",
              "      <td>So many NN’s, the visualizer tool crashes tryi...</td>\n",
              "      <td>0.500000</td>\n",
              "      <td>0.500000</td>\n",
              "      <td>Positive</td>\n",
              "    </tr>\n",
              "    <tr>\n",
              "      <th>1</th>\n",
              "      <td>@RichardDawkins This is insane</td>\n",
              "      <td>151</td>\n",
              "      <td>2153</td>\n",
              "      <td>2023-03-02 11:38:33</td>\n",
              "      <td>This is insane</td>\n",
              "      <td>1.000000</td>\n",
              "      <td>-1.000000</td>\n",
              "      <td>Negative</td>\n",
              "    </tr>\n",
              "    <tr>\n",
              "      <th>3</th>\n",
              "      <td>The ability of Twitter advertising to reach th...</td>\n",
              "      <td>5739</td>\n",
              "      <td>58421</td>\n",
              "      <td>2023-03-02 07:46:06</td>\n",
              "      <td>The ability of Twitter advertising to reach th...</td>\n",
              "      <td>0.308333</td>\n",
              "      <td>0.041667</td>\n",
              "      <td>Positive</td>\n",
              "    </tr>\n",
              "    <tr>\n",
              "      <th>4</th>\n",
              "      <td>@Teslaconomics Cybertruck cruisers will be nex...</td>\n",
              "      <td>709</td>\n",
              "      <td>13740</td>\n",
              "      <td>2023-03-02 07:27:08</td>\n",
              "      <td>Cybertruck cruisers will be next-level. Design...</td>\n",
              "      <td>0.000000</td>\n",
              "      <td>0.000000</td>\n",
              "      <td>Neutral</td>\n",
              "    </tr>\n",
              "    <tr>\n",
              "      <th>5</th>\n",
              "      <td>Twice as many people died in Japan last year a...</td>\n",
              "      <td>14903</td>\n",
              "      <td>76109</td>\n",
              "      <td>2023-03-02 02:57:31</td>\n",
              "      <td>Twice as many people died in Japan last year a...</td>\n",
              "      <td>0.283333</td>\n",
              "      <td>0.250000</td>\n",
              "      <td>Positive</td>\n",
              "    </tr>\n",
              "  </tbody>\n",
              "</table>\n",
              "</div>\n",
              "      <button class=\"colab-df-convert\" onclick=\"convertToInteractive('df-325da7e4-f6d0-499d-97ca-75645e17aa88')\"\n",
              "              title=\"Convert this dataframe to an interactive table.\"\n",
              "              style=\"display:none;\">\n",
              "        \n",
              "  <svg xmlns=\"http://www.w3.org/2000/svg\" height=\"24px\"viewBox=\"0 0 24 24\"\n",
              "       width=\"24px\">\n",
              "    <path d=\"M0 0h24v24H0V0z\" fill=\"none\"/>\n",
              "    <path d=\"M18.56 5.44l.94 2.06.94-2.06 2.06-.94-2.06-.94-.94-2.06-.94 2.06-2.06.94zm-11 1L8.5 8.5l.94-2.06 2.06-.94-2.06-.94L8.5 2.5l-.94 2.06-2.06.94zm10 10l.94 2.06.94-2.06 2.06-.94-2.06-.94-.94-2.06-.94 2.06-2.06.94z\"/><path d=\"M17.41 7.96l-1.37-1.37c-.4-.4-.92-.59-1.43-.59-.52 0-1.04.2-1.43.59L10.3 9.45l-7.72 7.72c-.78.78-.78 2.05 0 2.83L4 21.41c.39.39.9.59 1.41.59.51 0 1.02-.2 1.41-.59l7.78-7.78 2.81-2.81c.8-.78.8-2.07 0-2.86zM5.41 20L4 18.59l7.72-7.72 1.47 1.35L5.41 20z\"/>\n",
              "  </svg>\n",
              "      </button>\n",
              "      \n",
              "  <style>\n",
              "    .colab-df-container {\n",
              "      display:flex;\n",
              "      flex-wrap:wrap;\n",
              "      gap: 12px;\n",
              "    }\n",
              "\n",
              "    .colab-df-convert {\n",
              "      background-color: #E8F0FE;\n",
              "      border: none;\n",
              "      border-radius: 50%;\n",
              "      cursor: pointer;\n",
              "      display: none;\n",
              "      fill: #1967D2;\n",
              "      height: 32px;\n",
              "      padding: 0 0 0 0;\n",
              "      width: 32px;\n",
              "    }\n",
              "\n",
              "    .colab-df-convert:hover {\n",
              "      background-color: #E2EBFA;\n",
              "      box-shadow: 0px 1px 2px rgba(60, 64, 67, 0.3), 0px 1px 3px 1px rgba(60, 64, 67, 0.15);\n",
              "      fill: #174EA6;\n",
              "    }\n",
              "\n",
              "    [theme=dark] .colab-df-convert {\n",
              "      background-color: #3B4455;\n",
              "      fill: #D2E3FC;\n",
              "    }\n",
              "\n",
              "    [theme=dark] .colab-df-convert:hover {\n",
              "      background-color: #434B5C;\n",
              "      box-shadow: 0px 1px 3px 1px rgba(0, 0, 0, 0.15);\n",
              "      filter: drop-shadow(0px 1px 2px rgba(0, 0, 0, 0.3));\n",
              "      fill: #FFFFFF;\n",
              "    }\n",
              "  </style>\n",
              "\n",
              "      <script>\n",
              "        const buttonEl =\n",
              "          document.querySelector('#df-325da7e4-f6d0-499d-97ca-75645e17aa88 button.colab-df-convert');\n",
              "        buttonEl.style.display =\n",
              "          google.colab.kernel.accessAllowed ? 'block' : 'none';\n",
              "\n",
              "        async function convertToInteractive(key) {\n",
              "          const element = document.querySelector('#df-325da7e4-f6d0-499d-97ca-75645e17aa88');\n",
              "          const dataTable =\n",
              "            await google.colab.kernel.invokeFunction('convertToInteractive',\n",
              "                                                     [key], {});\n",
              "          if (!dataTable) return;\n",
              "\n",
              "          const docLinkHtml = 'Like what you see? Visit the ' +\n",
              "            '<a target=\"_blank\" href=https://colab.research.google.com/notebooks/data_table.ipynb>data table notebook</a>'\n",
              "            + ' to learn more about interactive tables.';\n",
              "          element.innerHTML = '';\n",
              "          dataTable['output_type'] = 'display_data';\n",
              "          await google.colab.output.renderOutput(dataTable, element);\n",
              "          const docLink = document.createElement('div');\n",
              "          docLink.innerHTML = docLinkHtml;\n",
              "          element.appendChild(docLink);\n",
              "        }\n",
              "      </script>\n",
              "    </div>\n",
              "  </div>\n",
              "  "
            ]
          },
          "metadata": {},
          "execution_count": 26
        }
      ]
    },
    {
      "cell_type": "markdown",
      "source": [
        "## Visualizing the results"
      ],
      "metadata": {
        "id": "NeR4LqVkLCIK"
      }
    },
    {
      "cell_type": "code",
      "source": [
        "# Create scatter plot\n",
        "sns.set_style('darkgrid')\n",
        "plt.figure(figsize = (8,6))\n",
        "\n",
        "markers = {'Positive':'o', 'Neutral':'s','Negative':'X'}\n",
        "\n",
        "sns.scatterplot(data=df, x='Polarity', y='Subjectivity', hue = 'Sentiment', style = 'Sentiment', markers = markers, palette = 'gist_earth').set(xlim=(-1,1))\n",
        "plt.title('Scatter Plot')\n",
        "plt.xlabel('Polarity')\n",
        "plt.ylabel('Subjectivity')\n",
        "\n",
        "plt.tight_layout()"
      ],
      "metadata": {
        "colab": {
          "base_uri": "https://localhost:8080/",
          "height": 441
        },
        "id": "_MXjMD-cKdQq",
        "outputId": "6af3fa85-c4b5-4bb9-b82f-fa2d1020af3c"
      },
      "execution_count": 27,
      "outputs": [
        {
          "output_type": "display_data",
          "data": {
            "text/plain": [
              "<Figure size 576x432 with 1 Axes>"
            ],
            "image/png": "[encoded data removed]"
          },
          "metadata": {}
        }
      ]
    },
    {
      "cell_type": "code",
      "source": [
        "# Create a bar chart to count tweets according to its sentiment value\n",
        "\n",
        "plt.figure(figsize = (8,6))\n",
        "\n",
        "sns.histplot(df, x = 'Sentiment', color = '#ccd5ae', shrink = 0.9).set(xlabel = None)\n",
        "plt.title('Number of tweets by Sentiment')\n",
        "\n",
        "plt.tight_layout()"
      ],
      "metadata": {
        "id": "0xeiNJ_3Mmd9",
        "colab": {
          "base_uri": "https://localhost:8080/",
          "height": 441
        },
        "outputId": "676c3a30-5dd4-4dd2-e1fc-9778b90d1a23"
      },
      "execution_count": 28,
      "outputs": [
        {
          "output_type": "display_data",
          "data": {
            "text/plain": [
              "<Figure size 576x432 with 1 Axes>"
            ],
            "image/png": "[encoded data removed]"
          },
          "metadata": {}
        }
      ]
    },
    {
      "cell_type": "markdown",
      "source": [
        "According to the data, most of Elon Musk's tweets are highly subjective and are perceived as positive or neutral."
      ],
      "metadata": {
        "id": "rOImnoOJ1AMJ"
      }
    },
    {
      "cell_type": "code",
      "source": [
        "# Creating month and year columns for time analysis\n",
        "df['Month'] = pd.DatetimeIndex(df['Date']).month"
      ],
      "metadata": {
        "id": "O_LMlijl7kna"
      },
      "execution_count": 29,
      "outputs": []
    },
    {
      "cell_type": "code",
      "source": [
        "# Creating a plot to show number of likes depending on sentiment through time\n",
        "\n",
        "plt.figure(figsize = (10, 6))\n",
        "\n",
        "months = df['Month'].unique()\n",
        "\n",
        "sns.lineplot(x = 'Month', y = 'Likes', hue = 'Sentiment', ci = None, data = df, palette = 'viridis')\n",
        "plt.title('Number of likes by sentiment and month')\n",
        "plt.xlabel('Month')\n",
        "plt.xticks(ticks = [m for m in months])\n",
        "\n",
        "plt.tight_layout()"
      ],
      "metadata": {
        "colab": {
          "base_uri": "https://localhost:8080/",
          "height": 441
        },
        "id": "RhE_TC7x0vfV",
        "outputId": "b94f7e2a-1504-4619-b73e-35d7e9e86ec7"
      },
      "execution_count": 30,
      "outputs": [
        {
          "output_type": "display_data",
          "data": {
            "text/plain": [
              "<Figure size 720x432 with 1 Axes>"
            ],
            "image/png": "[encoded data removed]"
          },
          "metadata": {}
        }
      ]
    },
    {
      "cell_type": "code",
      "source": [
        "plt.figure(figsize = (10, 5))\n",
        "\n",
        "data = df['Sentiment'].value_counts()\n",
        "colors = sns.color_palette('Set3')\n",
        "labels = ['Positive', 'Neutral', 'Negative']\n",
        "\n",
        "plt.pie(data, labels = labels, autopct = '%.0f%%', colors = colors)\n",
        "plt.title('Number of likes by sentiment')\n",
        "\n",
        "plt.tight_layout()"
      ],
      "metadata": {
        "colab": {
          "base_uri": "https://localhost:8080/",
          "height": 369
        },
        "id": "lM-tqgVAm9ye",
        "outputId": "d71f27b9-77de-4098-f7ec-29d6256610da"
      },
      "execution_count": 31,
      "outputs": [
        {
          "output_type": "display_data",
          "data": {
            "text/plain": [
              "<Figure size 720x360 with 1 Axes>"
            ],
            "image/png": "[encoded data removed]"
          },
          "metadata": {}
        }
      ]
    },
    {
      "cell_type": "code",
      "source": [
        "# Create correlation matrix to see correlation coefficients between sets of variables\n",
        "plt.figure(figsize=(16, 6))\n",
        "\n",
        "heatmap = sns.heatmap(df.corr(), vmin=-1, vmax=1, annot=True, cmap='BrBG')\n",
        "heatmap.set_title('Correlation Heatmap', fontdict={'fontsize':18}, pad=12)\n",
        "\n",
        "plt.tight_layout()"
      ],
      "metadata": {
        "colab": {
          "base_uri": "https://localhost:8080/",
          "height": 441
        },
        "id": "ehOy2SwX4pI_",
        "outputId": "71278750-6f5d-44d5-eed7-c8783c91e082"
      },
      "execution_count": 32,
      "outputs": [
        {
          "output_type": "display_data",
          "data": {
            "text/plain": [
              "<Figure size 1152x432 with 2 Axes>"
            ],
            "image/png": "[encoded data removed]"
          },
          "metadata": {}
        }
      ]
    },
    {
      "cell_type": "markdown",
      "source": [
        "Apparently likes and retweets have a strong positive linear relationship. On the other hand, subjectivity and polarity have a slight positive relationship."
      ],
      "metadata": {
        "id": "QqHHkLyb9OF5"
      }
    },
    {
      "cell_type": "markdown",
      "source": [
        "# Text Analysis"
      ],
      "metadata": {
        "id": "-oD4w1e5LsCs"
      }
    },
    {
      "cell_type": "markdown",
      "source": [
        "## Copy dataframe"
      ],
      "metadata": {
        "id": "m7XdSyuAL4N0"
      }
    },
    {
      "cell_type": "markdown",
      "source": [
        "Now, I am going to analyze which are the most mentioned words, people and organizations. To do this, I will create a new dataframe with the tweets column and I will clean and transform it again but following other steps, since in the previous cleanup mentions to people were eliminated."
      ],
      "metadata": {
        "id": "ZnhEuQlzUQYM"
      }
    },
    {
      "cell_type": "code",
      "source": [
        "# Create new dataframe 'tx' with Tweets column\n",
        "tx = df[['Tweets']].copy()"
      ],
      "metadata": {
        "id": "y7Eo4aQALx0H"
      },
      "execution_count": 33,
      "outputs": []
    },
    {
      "cell_type": "code",
      "source": [
        "tx.head()"
      ],
      "metadata": {
        "colab": {
          "base_uri": "https://localhost:8080/",
          "height": 206
        },
        "id": "HNGECjTFWUQb",
        "outputId": "6b42ac3b-935b-4915-f55c-f60a568ba0c5"
      },
      "execution_count": 34,
      "outputs": [
        {
          "output_type": "execute_result",
          "data": {
            "text/plain": [
              "                                              Tweets\n",
              "0  @Teslaconomics So many NN’s, the visualizer to...\n",
              "1                     @RichardDawkins This is insane\n",
              "3  The ability of Twitter advertising to reach th...\n",
              "4  @Teslaconomics Cybertruck cruisers will be nex...\n",
              "5  Twice as many people died in Japan last year a..."
            ],
            "text/html": [
              "\n",
              "  <div id=\"df-deed9d90-6f48-43a6-afeb-eac991ee84f1\">\n",
              "    <div class=\"colab-df-container\">\n",
              "      <div>\n",
              "<style scoped>\n",
              "    .dataframe tbody tr th:only-of-type {\n",
              "        vertical-align: middle;\n",
              "    }\n",
              "\n",
              "    .dataframe tbody tr th {\n",
              "        vertical-align: top;\n",
              "    }\n",
              "\n",
              "    .dataframe thead th {\n",
              "        text-align: right;\n",
              "    }\n",
              "</style>\n",
              "<table border=\"1\" class=\"dataframe\">\n",
              "  <thead>\n",
              "    <tr style=\"text-align: right;\">\n",
              "      <th></th>\n",
              "      <th>Tweets</th>\n",
              "    </tr>\n",
              "  </thead>\n",
              "  <tbody>\n",
              "    <tr>\n",
              "      <th>0</th>\n",
              "      <td>@Teslaconomics So many NN’s, the visualizer to...</td>\n",
              "    </tr>\n",
              "    <tr>\n",
              "      <th>1</th>\n",
              "      <td>@RichardDawkins This is insane</td>\n",
              "    </tr>\n",
              "    <tr>\n",
              "      <th>3</th>\n",
              "      <td>The ability of Twitter advertising to reach th...</td>\n",
              "    </tr>\n",
              "    <tr>\n",
              "      <th>4</th>\n",
              "      <td>@Teslaconomics Cybertruck cruisers will be nex...</td>\n",
              "    </tr>\n",
              "    <tr>\n",
              "      <th>5</th>\n",
              "      <td>Twice as many people died in Japan last year a...</td>\n",
              "    </tr>\n",
              "  </tbody>\n",
              "</table>\n",
              "</div>\n",
              "      <button class=\"colab-df-convert\" onclick=\"convertToInteractive('df-deed9d90-6f48-43a6-afeb-eac991ee84f1')\"\n",
              "              title=\"Convert this dataframe to an interactive table.\"\n",
              "              style=\"display:none;\">\n",
              "        \n",
              "  <svg xmlns=\"http://www.w3.org/2000/svg\" height=\"24px\"viewBox=\"0 0 24 24\"\n",
              "       width=\"24px\">\n",
              "    <path d=\"M0 0h24v24H0V0z\" fill=\"none\"/>\n",
              "    <path d=\"M18.56 5.44l.94 2.06.94-2.06 2.06-.94-2.06-.94-.94-2.06-.94 2.06-2.06.94zm-11 1L8.5 8.5l.94-2.06 2.06-.94-2.06-.94L8.5 2.5l-.94 2.06-2.06.94zm10 10l.94 2.06.94-2.06 2.06-.94-2.06-.94-.94-2.06-.94 2.06-2.06.94z\"/><path d=\"M17.41 7.96l-1.37-1.37c-.4-.4-.92-.59-1.43-.59-.52 0-1.04.2-1.43.59L10.3 9.45l-7.72 7.72c-.78.78-.78 2.05 0 2.83L4 21.41c.39.39.9.59 1.41.59.51 0 1.02-.2 1.41-.59l7.78-7.78 2.81-2.81c.8-.78.8-2.07 0-2.86zM5.41 20L4 18.59l7.72-7.72 1.47 1.35L5.41 20z\"/>\n",
              "  </svg>\n",
              "      </button>\n",
              "      \n",
              "  <style>\n",
              "    .colab-df-container {\n",
              "      display:flex;\n",
              "      flex-wrap:wrap;\n",
              "      gap: 12px;\n",
              "    }\n",
              "\n",
              "    .colab-df-convert {\n",
              "      background-color: #E8F0FE;\n",
              "      border: none;\n",
              "      border-radius: 50%;\n",
              "      cursor: pointer;\n",
              "      display: none;\n",
              "      fill: #1967D2;\n",
              "      height: 32px;\n",
              "      padding: 0 0 0 0;\n",
              "      width: 32px;\n",
              "    }\n",
              "\n",
              "    .colab-df-convert:hover {\n",
              "      background-color: #E2EBFA;\n",
              "      box-shadow: 0px 1px 2px rgba(60, 64, 67, 0.3), 0px 1px 3px 1px rgba(60, 64, 67, 0.15);\n",
              "      fill: #174EA6;\n",
              "    }\n",
              "\n",
              "    [theme=dark] .colab-df-convert {\n",
              "      background-color: #3B4455;\n",
              "      fill: #D2E3FC;\n",
              "    }\n",
              "\n",
              "    [theme=dark] .colab-df-convert:hover {\n",
              "      background-color: #434B5C;\n",
              "      box-shadow: 0px 1px 3px 1px rgba(0, 0, 0, 0.15);\n",
              "      filter: drop-shadow(0px 1px 2px rgba(0, 0, 0, 0.3));\n",
              "      fill: #FFFFFF;\n",
              "    }\n",
              "  </style>\n",
              "\n",
              "      <script>\n",
              "        const buttonEl =\n",
              "          document.querySelector('#df-deed9d90-6f48-43a6-afeb-eac991ee84f1 button.colab-df-convert');\n",
              "        buttonEl.style.display =\n",
              "          google.colab.kernel.accessAllowed ? 'block' : 'none';\n",
              "\n",
              "        async function convertToInteractive(key) {\n",
              "          const element = document.querySelector('#df-deed9d90-6f48-43a6-afeb-eac991ee84f1');\n",
              "          const dataTable =\n",
              "            await google.colab.kernel.invokeFunction('convertToInteractive',\n",
              "                                                     [key], {});\n",
              "          if (!dataTable) return;\n",
              "\n",
              "          const docLinkHtml = 'Like what you see? Visit the ' +\n",
              "            '<a target=\"_blank\" href=https://colab.research.google.com/notebooks/data_table.ipynb>data table notebook</a>'\n",
              "            + ' to learn more about interactive tables.';\n",
              "          element.innerHTML = '';\n",
              "          dataTable['output_type'] = 'display_data';\n",
              "          await google.colab.output.renderOutput(dataTable, element);\n",
              "          const docLink = document.createElement('div');\n",
              "          docLink.innerHTML = docLinkHtml;\n",
              "          element.appendChild(docLink);\n",
              "        }\n",
              "      </script>\n",
              "    </div>\n",
              "  </div>\n",
              "  "
            ]
          },
          "metadata": {},
          "execution_count": 34
        }
      ]
    },
    {
      "cell_type": "markdown",
      "source": [
        "Note that numbers are missing in the index. This is because, in the dataframe from which we are taking the data, those tweets where removed as they contained only emojis or a mention. \n",
        "\n",
        "Since those tweets did not have interesting content (they were only replies to users), I decided not to include them for the text analysis. Therefore, I will reset the index."
      ],
      "metadata": {
        "id": "nmxuEw0jXwLh"
      }
    },
    {
      "cell_type": "code",
      "source": [
        "# Reset index\n",
        "tx.reset_index(drop = True, inplace = True)"
      ],
      "metadata": {
        "id": "xI6rW6vqWnCD"
      },
      "execution_count": 35,
      "outputs": []
    },
    {
      "cell_type": "markdown",
      "source": [
        "## Clean and split the text"
      ],
      "metadata": {
        "id": "RHh4SvpZL8UA"
      }
    },
    {
      "cell_type": "code",
      "source": [
        "# Creating a function to clean the tweets (similar to cleantwt without cleaning the mentions)\n",
        "\n",
        "def cleantext (text):\n",
        "  emoj = re.compile(\"[\"\n",
        "        u\"\\U0001F600-\\U0001F64F\"  # emoticons\n",
        "        u\"\\U0001F300-\\U0001F5FF\"  # symbols & pictographs\n",
        "        u\"\\U0001F680-\\U0001F6FF\"  # transport & map symbols\n",
        "        u\"\\U0001F1E0-\\U0001F1FF\"  # flags (iOS)\n",
        "        u\"\\U00002500-\\U00002BEF\"  # chinese char\n",
        "        u\"\\U00002702-\\U000027B0\"\n",
        "        u\"\\U000024C2-\\U0001F251\"\n",
        "        u\"\\U0001f926-\\U0001f937\"\n",
        "        u\"\\U00010000-\\U0010ffff\"\n",
        "        u\"\\u2640-\\u2642\" \n",
        "        u\"\\u2600-\\u2B55\"\n",
        "        u\"\\u200d\"\n",
        "        u\"\\u23cf\"\n",
        "        u\"\\u23e9\"\n",
        "        u\"\\u231a\"\n",
        "        u\"\\ufe0f\"  # dingbats\n",
        "        u\"\\u3030\"\n",
        "                      \"]+\", re.UNICODE)\n",
        "\n",
        "  text = re.sub('https?:\\/\\/\\S+', '', text) # remove the hyperlinks\n",
        "  text = re.sub('^[\\s]+|[\\s]+$', '', text) # remove leading and trailing whitespaces\n",
        "  text = re.sub(emoj, '', text) # remove emojis\n",
        "  return text"
      ],
      "metadata": {
        "id": "IgkrQPBuZ4F1"
      },
      "execution_count": 36,
      "outputs": []
    },
    {
      "cell_type": "code",
      "source": [
        "# Create a new column with the cleaned text\n",
        "\n",
        "tx['Cleaned_Text'] = tx['Tweets'].apply(cleantext)"
      ],
      "metadata": {
        "id": "DdakgY1lC7wH"
      },
      "execution_count": 37,
      "outputs": []
    },
    {
      "cell_type": "code",
      "source": [
        "tx = tx['Cleaned_Text']\n",
        "\n",
        "# Save all tweets in a list\n",
        "\n",
        "all_tweets = []\n",
        "\n",
        "for tweet in tx:\n",
        "  all_tweets.append(tweet)\n",
        "\n",
        "\n",
        "# Split tweets in a list of words\n",
        "\n",
        "lines = list()\n",
        "for line in all_tweets:\n",
        "  words = line.split()\n",
        "  for w in words:\n",
        "    lines.append(w)"
      ],
      "metadata": {
        "id": "S_JZA6bfDJxv"
      },
      "execution_count": 38,
      "outputs": []
    },
    {
      "cell_type": "code",
      "source": [
        "# Print a sample\n",
        "print(lines[0:10])"
      ],
      "metadata": {
        "colab": {
          "base_uri": "https://localhost:8080/"
        },
        "id": "m-dE4qq-ij_M",
        "outputId": "29c4ec79-1067-4b5b-a62a-02538fc7c4fe"
      },
      "execution_count": 39,
      "outputs": [
        {
          "output_type": "stream",
          "name": "stdout",
          "text": [
            "['@Teslaconomics', 'So', 'many', 'NN’s,', 'the', 'visualizer', 'tool', 'crashes', 'trying', 'to']\n"
          ]
        }
      ]
    },
    {
      "cell_type": "code",
      "source": [
        "# Remove punctuation from the list\n",
        "lines = [re.sub(r'[^A-Za-z0-9]+', '', x) for x in lines]\n",
        "\n",
        "# Assign all words, except those containing empty string characters, to a new list\n",
        "lines2 = []\n",
        "\n",
        "for word in lines:\n",
        "  if word != '':\n",
        "    lines2.append(word)"
      ],
      "metadata": {
        "id": "Tsb1toTQHiYX"
      },
      "execution_count": 40,
      "outputs": []
    },
    {
      "cell_type": "code",
      "source": [
        "# Print a sample\n",
        "print(lines2[0:10])"
      ],
      "metadata": {
        "colab": {
          "base_uri": "https://localhost:8080/"
        },
        "id": "IXLGqEffis-P",
        "outputId": "d99cf32c-534b-44ae-ce8b-8015bf1538fb"
      },
      "execution_count": 41,
      "outputs": [
        {
          "output_type": "stream",
          "name": "stdout",
          "text": [
            "['Teslaconomics', 'So', 'many', 'NNs', 'the', 'visualizer', 'tool', 'crashes', 'trying', 'to']\n"
          ]
        }
      ]
    },
    {
      "cell_type": "markdown",
      "source": [
        "## Stemming and removing Stop Words"
      ],
      "metadata": {
        "id": "nSvrsJ-hNgLN"
      }
    },
    {
      "cell_type": "markdown",
      "source": [
        "Now that I have removed the punctuations from the list, it remains to stem each word to its root.\n",
        "\n",
        "Stemming is the process of reducing inflected (or sometimes derived) words to their word stem, base or root form—generally a written word form. \n",
        "\n",
        "For example, a stemmer for English operating on the stem cat should identify such strings as cats, catlike, and catty [(wikipedia)](https://en.wikipedia.org/wiki/Stemming#Examples)."
      ],
      "metadata": {
        "id": "Xlt3nvfyLZDW"
      }
    },
    {
      "cell_type": "code",
      "source": [
        "# Use SnowballStemmer to stem the words to their root\n",
        "from nltk.stem.snowball import SnowballStemmer\n",
        "\n",
        "s_stemmer = SnowballStemmer(language = 'english') # passing language parameter\n",
        "\n",
        "stem = []\n",
        "for word in lines2:\n",
        "  stem.append(s_stemmer.stem(word))"
      ],
      "metadata": {
        "id": "DGmxcHF3JP2h"
      },
      "execution_count": 42,
      "outputs": []
    },
    {
      "cell_type": "code",
      "source": [
        "print(stem[0:10])"
      ],
      "metadata": {
        "id": "nfXMF0k9K0Gi",
        "colab": {
          "base_uri": "https://localhost:8080/"
        },
        "outputId": "bfc7f2b6-a8cd-48a2-c81d-cefbe8b5da12"
      },
      "execution_count": 43,
      "outputs": [
        {
          "output_type": "stream",
          "name": "stdout",
          "text": [
            "['teslaconom', 'so', 'mani', 'nns', 'the', 'visual', 'tool', 'crash', 'tri', 'to']\n"
          ]
        }
      ]
    },
    {
      "cell_type": "markdown",
      "source": [
        "Stop words are a set of commonly used words in a language. Examples of stop words in English are “a”, “the”, “is”, “are” and etc.Since I have no interest on them, I'm going to delete them."
      ],
      "metadata": {
        "id": "Rlbyi1dgNpEK"
      }
    },
    {
      "cell_type": "code",
      "source": [
        "# Removing stop words with nltk\n",
        "from nltk.corpus import stopwords\n",
        "import nltk\n",
        "nltk.download('stopwords')\n",
        "\n",
        "\n",
        "# Remove all stop words\n",
        "\n",
        "stem2 = []\n",
        "\n",
        "for word in stem:\n",
        "  if word not in stopwords.words():\n",
        "    stem2.append(word)"
      ],
      "metadata": {
        "colab": {
          "base_uri": "https://localhost:8080/"
        },
        "id": "jy-LBPEwK1II",
        "outputId": "3b4d1c28-8757-47b6-deb1-32319b97f7a9"
      },
      "execution_count": 44,
      "outputs": [
        {
          "output_type": "stream",
          "name": "stderr",
          "text": [
            "[nltk_data] Downloading package stopwords to /root/nltk_data...\n",
            "[nltk_data]   Package stopwords is already up-to-date!\n"
          ]
        }
      ]
    },
    {
      "cell_type": "code",
      "source": [
        "# Print sample\n",
        "print(stem2[0:10])"
      ],
      "metadata": {
        "id": "mAgDLiBoQ-Vv",
        "colab": {
          "base_uri": "https://localhost:8080/"
        },
        "outputId": "459e4311-9301-4856-d1e8-ea33fe111708"
      },
      "execution_count": 45,
      "outputs": [
        {
          "output_type": "stream",
          "name": "stdout",
          "text": [
            "['teslaconom', 'nns', 'visual', 'tool', 'crash', 'render', 'richarddawkin', 'insan', 'abil', 'twitter']\n"
          ]
        }
      ]
    },
    {
      "cell_type": "markdown",
      "source": [
        "## Create a dataframe from the list of words"
      ],
      "metadata": {
        "id": "yqd1Ma2jRYbx"
      }
    },
    {
      "cell_type": "code",
      "source": [
        "tx2 = pd.DataFrame(stem2)"
      ],
      "metadata": {
        "id": "yTcc1KlTRQJ6"
      },
      "execution_count": 46,
      "outputs": []
    },
    {
      "cell_type": "code",
      "source": [
        "tx2.head(10)"
      ],
      "metadata": {
        "colab": {
          "base_uri": "https://localhost:8080/",
          "height": 363
        },
        "id": "RLL_AeYPT7Li",
        "outputId": "88374b62-a7f0-45db-d281-4cb0b927f2cc"
      },
      "execution_count": 47,
      "outputs": [
        {
          "output_type": "execute_result",
          "data": {
            "text/plain": [
              "               0\n",
              "0     teslaconom\n",
              "1            nns\n",
              "2         visual\n",
              "3           tool\n",
              "4          crash\n",
              "5         render\n",
              "6  richarddawkin\n",
              "7          insan\n",
              "8           abil\n",
              "9        twitter"
            ],
            "text/html": [
              "\n",
              "  <div id=\"df-7f5f83b3-8c15-4bfa-812f-04f212d6f500\">\n",
              "    <div class=\"colab-df-container\">\n",
              "      <div>\n",
              "<style scoped>\n",
              "    .dataframe tbody tr th:only-of-type {\n",
              "        vertical-align: middle;\n",
              "    }\n",
              "\n",
              "    .dataframe tbody tr th {\n",
              "        vertical-align: top;\n",
              "    }\n",
              "\n",
              "    .dataframe thead th {\n",
              "        text-align: right;\n",
              "    }\n",
              "</style>\n",
              "<table border=\"1\" class=\"dataframe\">\n",
              "  <thead>\n",
              "    <tr style=\"text-align: right;\">\n",
              "      <th></th>\n",
              "      <th>0</th>\n",
              "    </tr>\n",
              "  </thead>\n",
              "  <tbody>\n",
              "    <tr>\n",
              "      <th>0</th>\n",
              "      <td>teslaconom</td>\n",
              "    </tr>\n",
              "    <tr>\n",
              "      <th>1</th>\n",
              "      <td>nns</td>\n",
              "    </tr>\n",
              "    <tr>\n",
              "      <th>2</th>\n",
              "      <td>visual</td>\n",
              "    </tr>\n",
              "    <tr>\n",
              "      <th>3</th>\n",
              "      <td>tool</td>\n",
              "    </tr>\n",
              "    <tr>\n",
              "      <th>4</th>\n",
              "      <td>crash</td>\n",
              "    </tr>\n",
              "    <tr>\n",
              "      <th>5</th>\n",
              "      <td>render</td>\n",
              "    </tr>\n",
              "    <tr>\n",
              "      <th>6</th>\n",
              "      <td>richarddawkin</td>\n",
              "    </tr>\n",
              "    <tr>\n",
              "      <th>7</th>\n",
              "      <td>insan</td>\n",
              "    </tr>\n",
              "    <tr>\n",
              "      <th>8</th>\n",
              "      <td>abil</td>\n",
              "    </tr>\n",
              "    <tr>\n",
              "      <th>9</th>\n",
              "      <td>twitter</td>\n",
              "    </tr>\n",
              "  </tbody>\n",
              "</table>\n",
              "</div>\n",
              "      <button class=\"colab-df-convert\" onclick=\"convertToInteractive('df-7f5f83b3-8c15-4bfa-812f-04f212d6f500')\"\n",
              "              title=\"Convert this dataframe to an interactive table.\"\n",
              "              style=\"display:none;\">\n",
              "        \n",
              "  <svg xmlns=\"http://www.w3.org/2000/svg\" height=\"24px\"viewBox=\"0 0 24 24\"\n",
              "       width=\"24px\">\n",
              "    <path d=\"M0 0h24v24H0V0z\" fill=\"none\"/>\n",
              "    <path d=\"M18.56 5.44l.94 2.06.94-2.06 2.06-.94-2.06-.94-.94-2.06-.94 2.06-2.06.94zm-11 1L8.5 8.5l.94-2.06 2.06-.94-2.06-.94L8.5 2.5l-.94 2.06-2.06.94zm10 10l.94 2.06.94-2.06 2.06-.94-2.06-.94-.94-2.06-.94 2.06-2.06.94z\"/><path d=\"M17.41 7.96l-1.37-1.37c-.4-.4-.92-.59-1.43-.59-.52 0-1.04.2-1.43.59L10.3 9.45l-7.72 7.72c-.78.78-.78 2.05 0 2.83L4 21.41c.39.39.9.59 1.41.59.51 0 1.02-.2 1.41-.59l7.78-7.78 2.81-2.81c.8-.78.8-2.07 0-2.86zM5.41 20L4 18.59l7.72-7.72 1.47 1.35L5.41 20z\"/>\n",
              "  </svg>\n",
              "      </button>\n",
              "      \n",
              "  <style>\n",
              "    .colab-df-container {\n",
              "      display:flex;\n",
              "      flex-wrap:wrap;\n",
              "      gap: 12px;\n",
              "    }\n",
              "\n",
              "    .colab-df-convert {\n",
              "      background-color: #E8F0FE;\n",
              "      border: none;\n",
              "      border-radius: 50%;\n",
              "      cursor: pointer;\n",
              "      display: none;\n",
              "      fill: #1967D2;\n",
              "      height: 32px;\n",
              "      padding: 0 0 0 0;\n",
              "      width: 32px;\n",
              "    }\n",
              "\n",
              "    .colab-df-convert:hover {\n",
              "      background-color: #E2EBFA;\n",
              "      box-shadow: 0px 1px 2px rgba(60, 64, 67, 0.3), 0px 1px 3px 1px rgba(60, 64, 67, 0.15);\n",
              "      fill: #174EA6;\n",
              "    }\n",
              "\n",
              "    [theme=dark] .colab-df-convert {\n",
              "      background-color: #3B4455;\n",
              "      fill: #D2E3FC;\n",
              "    }\n",
              "\n",
              "    [theme=dark] .colab-df-convert:hover {\n",
              "      background-color: #434B5C;\n",
              "      box-shadow: 0px 1px 3px 1px rgba(0, 0, 0, 0.15);\n",
              "      filter: drop-shadow(0px 1px 2px rgba(0, 0, 0, 0.3));\n",
              "      fill: #FFFFFF;\n",
              "    }\n",
              "  </style>\n",
              "\n",
              "      <script>\n",
              "        const buttonEl =\n",
              "          document.querySelector('#df-7f5f83b3-8c15-4bfa-812f-04f212d6f500 button.colab-df-convert');\n",
              "        buttonEl.style.display =\n",
              "          google.colab.kernel.accessAllowed ? 'block' : 'none';\n",
              "\n",
              "        async function convertToInteractive(key) {\n",
              "          const element = document.querySelector('#df-7f5f83b3-8c15-4bfa-812f-04f212d6f500');\n",
              "          const dataTable =\n",
              "            await google.colab.kernel.invokeFunction('convertToInteractive',\n",
              "                                                     [key], {});\n",
              "          if (!dataTable) return;\n",
              "\n",
              "          const docLinkHtml = 'Like what you see? Visit the ' +\n",
              "            '<a target=\"_blank\" href=https://colab.research.google.com/notebooks/data_table.ipynb>data table notebook</a>'\n",
              "            + ' to learn more about interactive tables.';\n",
              "          element.innerHTML = '';\n",
              "          dataTable['output_type'] = 'display_data';\n",
              "          await google.colab.output.renderOutput(dataTable, element);\n",
              "          const docLink = document.createElement('div');\n",
              "          docLink.innerHTML = docLinkHtml;\n",
              "          element.appendChild(docLink);\n",
              "        }\n",
              "      </script>\n",
              "    </div>\n",
              "  </div>\n",
              "  "
            ]
          },
          "metadata": {},
          "execution_count": 47
        }
      ]
    },
    {
      "cell_type": "markdown",
      "source": [
        "## Creating visualizations"
      ],
      "metadata": {
        "id": "XJV_AFLCUDB7"
      }
    },
    {
      "cell_type": "markdown",
      "source": [
        "### Top 20 words being used in tweets"
      ],
      "metadata": {
        "id": "qL316NajqTIY"
      }
    },
    {
      "cell_type": "code",
      "source": [
        "# Bar plot with top 20 words used\n",
        "\n",
        "y = tx2[0].value_counts()\n",
        "y = y[:20]\n",
        "\n",
        "plt.figure(figsize = (10,5))\n",
        "sns.barplot(y.values, y.index, palette = 'Spectral_r', alpha = 0.8)\n",
        "plt.title('Top 20 Words most used')\n",
        "plt.xlabel('Count of words')"
      ],
      "metadata": {
        "colab": {
          "base_uri": "https://localhost:8080/",
          "height": 368
        },
        "id": "x4WcX_F4T_0T",
        "outputId": "b81a2b86-f9e7-4653-a8c8-c93fa3bd58e2"
      },
      "execution_count": 48,
      "outputs": [
        {
          "output_type": "execute_result",
          "data": {
            "text/plain": [
              "Text(0.5, 0, 'Count of words')"
            ]
          },
          "metadata": {},
          "execution_count": 48
        },
        {
          "output_type": "display_data",
          "data": {
            "text/plain": [
              "<Figure size 720x360 with 1 Axes>"
            ],
            "image/png": "[encoded data removed]"
          },
          "metadata": {}
        }
      ]
    },
    {
      "cell_type": "markdown",
      "source": [
        "### Top persons mentioned in tweets using spacy (NLP)"
      ],
      "metadata": {
        "id": "ClokENsuqaNX"
      }
    },
    {
      "cell_type": "code",
      "source": [
        "# Importing spacy for entity recognition on text data\n",
        "import spacy\n",
        "from spacy import displacy"
      ],
      "metadata": {
        "id": "cGEAXOWNqDrA"
      },
      "execution_count": 49,
      "outputs": []
    },
    {
      "cell_type": "code",
      "source": [
        "# Download spacy model\n",
        "#!python -m spacy download en_core_web_sm"
      ],
      "metadata": {
        "id": "ZA4xZ_qOVRM6"
      },
      "execution_count": 50,
      "outputs": []
    },
    {
      "cell_type": "code",
      "source": [
        "# Load SpaCy model\n",
        "nlp = spacy.load(\"en_core_web_sm\")"
      ],
      "metadata": {
        "id": "l8HWy-qVpsUE"
      },
      "execution_count": 51,
      "outputs": []
    },
    {
      "cell_type": "code",
      "source": [
        "# Convert list into a string\n",
        "string = ' '\n",
        "text = string.join(lines2) # using lines2 instead of stem2 because it contains words unprocessed (more clear to the model)\n",
        "\n",
        "# Converting text into a doc\n",
        "doc = nlp(text)\n",
        "\n",
        "# Creating a loop to store entity and label into lists\n",
        "words = []\n",
        "labels = []\n",
        "\n",
        "for ent in doc.ents:\n",
        "  words.append(ent.text)\n",
        "  labels.append(ent.label_)\n",
        "\n",
        "# Save info into a new dataframe\n",
        "tx3 = pd.DataFrame({'Words':words,'Labels':labels})"
      ],
      "metadata": {
        "id": "2oVoUZ8vqOvE"
      },
      "execution_count": 52,
      "outputs": []
    },
    {
      "cell_type": "code",
      "source": [
        "# Show dataframe\n",
        "tx3.head(10)"
      ],
      "metadata": {
        "colab": {
          "base_uri": "https://localhost:8080/",
          "height": 363
        },
        "id": "zQQi3duQvjWX",
        "outputId": "2aac6def-27f5-4d9a-e47d-e609a5254a56"
      },
      "execution_count": 53,
      "outputs": [
        {
          "output_type": "execute_result",
          "data": {
            "text/plain": [
              "                            Words    Labels\n",
              "0                  RichardDawkins       ORG\n",
              "1                         Twitter       GPE\n",
              "2                         Twitter    PERSON\n",
              "3  Designed for Bladerunner Twice       ORG\n",
              "4                           Japan       GPE\n",
              "5                       last year      DATE\n",
              "6        Population freefall Rest       ORG\n",
              "7                        LillyPad       ORG\n",
              "8                             12V  CARDINAL\n",
              "9                             48V  CARDINAL"
            ],
            "text/html": [
              "\n",
              "  <div id=\"df-34b9b557-6403-4c2c-aeeb-a65ad9b0e260\">\n",
              "    <div class=\"colab-df-container\">\n",
              "      <div>\n",
              "<style scoped>\n",
              "    .dataframe tbody tr th:only-of-type {\n",
              "        vertical-align: middle;\n",
              "    }\n",
              "\n",
              "    .dataframe tbody tr th {\n",
              "        vertical-align: top;\n",
              "    }\n",
              "\n",
              "    .dataframe thead th {\n",
              "        text-align: right;\n",
              "    }\n",
              "</style>\n",
              "<table border=\"1\" class=\"dataframe\">\n",
              "  <thead>\n",
              "    <tr style=\"text-align: right;\">\n",
              "      <th></th>\n",
              "      <th>Words</th>\n",
              "      <th>Labels</th>\n",
              "    </tr>\n",
              "  </thead>\n",
              "  <tbody>\n",
              "    <tr>\n",
              "      <th>0</th>\n",
              "      <td>RichardDawkins</td>\n",
              "      <td>ORG</td>\n",
              "    </tr>\n",
              "    <tr>\n",
              "      <th>1</th>\n",
              "      <td>Twitter</td>\n",
              "      <td>GPE</td>\n",
              "    </tr>\n",
              "    <tr>\n",
              "      <th>2</th>\n",
              "      <td>Twitter</td>\n",
              "      <td>PERSON</td>\n",
              "    </tr>\n",
              "    <tr>\n",
              "      <th>3</th>\n",
              "      <td>Designed for Bladerunner Twice</td>\n",
              "      <td>ORG</td>\n",
              "    </tr>\n",
              "    <tr>\n",
              "      <th>4</th>\n",
              "      <td>Japan</td>\n",
              "      <td>GPE</td>\n",
              "    </tr>\n",
              "    <tr>\n",
              "      <th>5</th>\n",
              "      <td>last year</td>\n",
              "      <td>DATE</td>\n",
              "    </tr>\n",
              "    <tr>\n",
              "      <th>6</th>\n",
              "      <td>Population freefall Rest</td>\n",
              "      <td>ORG</td>\n",
              "    </tr>\n",
              "    <tr>\n",
              "      <th>7</th>\n",
              "      <td>LillyPad</td>\n",
              "      <td>ORG</td>\n",
              "    </tr>\n",
              "    <tr>\n",
              "      <th>8</th>\n",
              "      <td>12V</td>\n",
              "      <td>CARDINAL</td>\n",
              "    </tr>\n",
              "    <tr>\n",
              "      <th>9</th>\n",
              "      <td>48V</td>\n",
              "      <td>CARDINAL</td>\n",
              "    </tr>\n",
              "  </tbody>\n",
              "</table>\n",
              "</div>\n",
              "      <button class=\"colab-df-convert\" onclick=\"convertToInteractive('df-34b9b557-6403-4c2c-aeeb-a65ad9b0e260')\"\n",
              "              title=\"Convert this dataframe to an interactive table.\"\n",
              "              style=\"display:none;\">\n",
              "        \n",
              "  <svg xmlns=\"http://www.w3.org/2000/svg\" height=\"24px\"viewBox=\"0 0 24 24\"\n",
              "       width=\"24px\">\n",
              "    <path d=\"M0 0h24v24H0V0z\" fill=\"none\"/>\n",
              "    <path d=\"M18.56 5.44l.94 2.06.94-2.06 2.06-.94-2.06-.94-.94-2.06-.94 2.06-2.06.94zm-11 1L8.5 8.5l.94-2.06 2.06-.94-2.06-.94L8.5 2.5l-.94 2.06-2.06.94zm10 10l.94 2.06.94-2.06 2.06-.94-2.06-.94-.94-2.06-.94 2.06-2.06.94z\"/><path d=\"M17.41 7.96l-1.37-1.37c-.4-.4-.92-.59-1.43-.59-.52 0-1.04.2-1.43.59L10.3 9.45l-7.72 7.72c-.78.78-.78 2.05 0 2.83L4 21.41c.39.39.9.59 1.41.59.51 0 1.02-.2 1.41-.59l7.78-7.78 2.81-2.81c.8-.78.8-2.07 0-2.86zM5.41 20L4 18.59l7.72-7.72 1.47 1.35L5.41 20z\"/>\n",
              "  </svg>\n",
              "      </button>\n",
              "      \n",
              "  <style>\n",
              "    .colab-df-container {\n",
              "      display:flex;\n",
              "      flex-wrap:wrap;\n",
              "      gap: 12px;\n",
              "    }\n",
              "\n",
              "    .colab-df-convert {\n",
              "      background-color: #E8F0FE;\n",
              "      border: none;\n",
              "      border-radius: 50%;\n",
              "      cursor: pointer;\n",
              "      display: none;\n",
              "      fill: #1967D2;\n",
              "      height: 32px;\n",
              "      padding: 0 0 0 0;\n",
              "      width: 32px;\n",
              "    }\n",
              "\n",
              "    .colab-df-convert:hover {\n",
              "      background-color: #E2EBFA;\n",
              "      box-shadow: 0px 1px 2px rgba(60, 64, 67, 0.3), 0px 1px 3px 1px rgba(60, 64, 67, 0.15);\n",
              "      fill: #174EA6;\n",
              "    }\n",
              "\n",
              "    [theme=dark] .colab-df-convert {\n",
              "      background-color: #3B4455;\n",
              "      fill: #D2E3FC;\n",
              "    }\n",
              "\n",
              "    [theme=dark] .colab-df-convert:hover {\n",
              "      background-color: #434B5C;\n",
              "      box-shadow: 0px 1px 3px 1px rgba(0, 0, 0, 0.15);\n",
              "      filter: drop-shadow(0px 1px 2px rgba(0, 0, 0, 0.3));\n",
              "      fill: #FFFFFF;\n",
              "    }\n",
              "  </style>\n",
              "\n",
              "      <script>\n",
              "        const buttonEl =\n",
              "          document.querySelector('#df-34b9b557-6403-4c2c-aeeb-a65ad9b0e260 button.colab-df-convert');\n",
              "        buttonEl.style.display =\n",
              "          google.colab.kernel.accessAllowed ? 'block' : 'none';\n",
              "\n",
              "        async function convertToInteractive(key) {\n",
              "          const element = document.querySelector('#df-34b9b557-6403-4c2c-aeeb-a65ad9b0e260');\n",
              "          const dataTable =\n",
              "            await google.colab.kernel.invokeFunction('convertToInteractive',\n",
              "                                                     [key], {});\n",
              "          if (!dataTable) return;\n",
              "\n",
              "          const docLinkHtml = 'Like what you see? Visit the ' +\n",
              "            '<a target=\"_blank\" href=https://colab.research.google.com/notebooks/data_table.ipynb>data table notebook</a>'\n",
              "            + ' to learn more about interactive tables.';\n",
              "          element.innerHTML = '';\n",
              "          dataTable['output_type'] = 'display_data';\n",
              "          await google.colab.output.renderOutput(dataTable, element);\n",
              "          const docLink = document.createElement('div');\n",
              "          docLink.innerHTML = docLinkHtml;\n",
              "          element.appendChild(docLink);\n",
              "        }\n",
              "      </script>\n",
              "    </div>\n",
              "  </div>\n",
              "  "
            ]
          },
          "metadata": {},
          "execution_count": 53
        }
      ]
    },
    {
      "cell_type": "markdown",
      "source": [
        "The model has categorized the entities quite well. It is important to remember that no model is perfect so it is possible that some errors may appear."
      ],
      "metadata": {
        "id": "qMhNWrJ4v1IC"
      }
    },
    {
      "cell_type": "code",
      "source": [
        "# Plotting companies most mentioned in tweets\n",
        "\n",
        "y = tx3[tx3['Labels'] == 'ORG']['Words'].value_counts()\n",
        "y = y[:20]\n",
        "\n",
        "plt.figure(figsize = (10,5))\n",
        "sns.barplot(y.values, y.index, palette = 'PuRd_r', alpha = 0.8)\n",
        "plt.title('Top 20 Companies mentioned')\n",
        "plt.xlabel('Count of words')\n",
        "\n",
        "plt.tight_layout()"
      ],
      "metadata": {
        "colab": {
          "base_uri": "https://localhost:8080/",
          "height": 369
        },
        "id": "TK_QEBU5wgsV",
        "outputId": "b00a3f2b-391d-4992-87bb-139afa666bfd"
      },
      "execution_count": 54,
      "outputs": [
        {
          "output_type": "display_data",
          "data": {
            "text/plain": [
              "<Figure size 720x360 with 1 Axes>"
            ],
            "image/png": "[encoded data removed]"
          },
          "metadata": {}
        }
      ]
    },
    {
      "cell_type": "code",
      "source": [
        "# Plotting persons most mentioned in tweets\n",
        "\n",
        "y = tx3[tx3['Labels'] == 'PERSON']['Words'].value_counts()\n",
        "y = y[:20]\n",
        "\n",
        "plt.figure(figsize = (10,5))\n",
        "sns.barplot(y.values, y.index, palette = 'PuBu_r')\n",
        "plt.title('Top 20 Persons mentioned')\n",
        "plt.xlabel('Count of words')\n",
        "\n",
        "plt.tight_layout()"
      ],
      "metadata": {
        "colab": {
          "base_uri": "https://localhost:8080/",
          "height": 369
        },
        "id": "ag1RR_o1xsEt",
        "outputId": "ea7cccef-37b1-410e-c7b4-11d26028a602"
      },
      "execution_count": 55,
      "outputs": [
        {
          "output_type": "display_data",
          "data": {
            "text/plain": [
              "<Figure size 720x360 with 1 Axes>"
            ],
            "image/png": "[encoded data removed]"
          },
          "metadata": {}
        }
      ]
    }
  ]
}