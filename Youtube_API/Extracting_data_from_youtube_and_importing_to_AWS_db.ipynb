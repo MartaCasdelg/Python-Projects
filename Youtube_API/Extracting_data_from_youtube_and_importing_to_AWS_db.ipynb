{
  "nbformat": 4,
  "nbformat_minor": 0,
  "metadata": {
    "colab": {
      "provenance": []
    },
    "kernelspec": {
      "name": "python3",
      "display_name": "Python 3"
    },
    "language_info": {
      "name": "python"
    }
  },
  "cells": [
    {
      "cell_type": "markdown",
      "source": [
        "# **Data extraction project from the youtube api and its import into an AWS database.**"
      ],
      "metadata": {
        "id": "gxcs0DnGfgWu"
      }
    },
    {
      "cell_type": "markdown",
      "source": [
        "\n",
        "\n",
        "---\n",
        "## **Extractig information from youtube API**\n",
        "\n",
        "\n",
        "---\n",
        "\n",
        "\n"
      ],
      "metadata": {
        "id": "69-oT0428BJv"
      }
    },
    {
      "cell_type": "markdown",
      "source": [
        "For this project, I want to extract information from the videos of a channel and their respective statistics. According to the documentation, to do this it is necessary to make two calls to the api. One will collect just the videos of a channel (its id, title and publication date), while the other one will get the statistics (likes, comments, views).\n",
        "\n",
        "To create a call we will use the requests library with the get() method. However, before starting it is important to have registered as a developer and to have a key to make calls to the api (in the code cell, I have hidden my key by changing it to a series of x's). You can find how to do it in the read me of this repository. Other libraries I will use in this part are the pandas library (to create a dataframe to store the data) and time (to add a waiting period between a call to the api and the next part of the code)."
      ],
      "metadata": {
        "id": "HImNWQGF0V5W"
      }
    },
    {
      "cell_type": "code",
      "source": [
        "#Import libraries\n",
        "import requests\n",
        "import pandas as pd\n",
        "import time"
      ],
      "metadata": {
        "id": "YxLeMwXSaVNg"
      },
      "execution_count": 1,
      "outputs": []
    },
    {
      "cell_type": "code",
      "source": [
        "#Assign key and channel id to a variable\n",
        "api_key = 'xxxxxxxxxxxxxxxxxxxxxxxxxxxxxxx'\n",
        "channel_id = 'UCDM4gHuLmONC_NtESLi_V1g' "
      ],
      "metadata": {
        "id": "m6YxqCtr8hDz"
      },
      "execution_count": 2,
      "outputs": []
    },
    {
      "cell_type": "markdown",
      "source": [
        "Back to the calls, it is important to understand **that to make a call we must use a url address provided by the documentation along with a series of parameters that will define the type of information we want to obtain**. \n",
        "Once we have the complete address, we pass it as an argument to the get() method and obtain the results in json() format.\n",
        "\n",
        "As I mentioned before, **we must make two calls to get all the information** we want. However, for the second call it is necessary to have the video_id of each video from which we want to get statistics. That means that we cannot make that call without having made the first one before. And what is even more important, it would be optimal not to pass more than one video_id at a time in this second call.\n",
        "\n",
        "**To solve this problem it is necessary to create two functions. One will make the second call to the api taking video_id as parameter and returning the values of view_count, like_count and comment_count.**"
      ],
      "metadata": {
        "id": "BY09s__Z0j6v"
      }
    },
    {
      "cell_type": "code",
      "source": [
        "def get_video_details(video_id):\n",
        "\n",
        "  #Making api call to obtain statistics information\n",
        "  url_video_stats = 'https://www.googleapis.com/youtube/v3/videos?id='+video_id+'&part=statistics&key='+api_key\n",
        "  response_video_stats = requests.get(url_video_stats).json()\n",
        "\n",
        "  view_count = response_video_stats['items'][0]['statistics']['viewCount']\n",
        "  like_count = response_video_stats['items'][0]['statistics']['likeCount']\n",
        "  comment_count = response_video_stats['items'][0]['statistics']['commentCount']\n",
        "\n",
        "  return view_count, like_count, comment_count"
      ],
      "metadata": {
        "id": "DB0JgSZS8ykF"
      },
      "execution_count": 3,
      "outputs": []
    },
    {
      "cell_type": "markdown",
      "source": [
        "**The other one will make a call to obtain the video_id and other required variables**, and will save it in a variable called \"response\". In this same function **a loop will also be created so that, for each video_id within items, the values are assigned to the variables** (taking advantage of the use of the previous function to obtain the statistics data) and **save them in a dataframe**."
      ],
      "metadata": {
        "id": "KeyfHg2P5n1F"
      }
    },
    {
      "cell_type": "code",
      "source": [
        "def get_videos(df):\n",
        "  #Making API call to obtain video information\n",
        "  pageToken = ''\n",
        "  url = 'https://www.googleapis.com/youtube/v3/search?key='+api_key+'&channelId='+channel_id+'&part=snippet,id&order=date&maxResults=1000'+pageToken\n",
        "\n",
        "  response = requests.get(url).json()\n",
        "  time.sleep(1)\n",
        "\n",
        "  #Creating a loop inside items key\n",
        "  for video in response['items']:\n",
        "    if video['id']['kind'] == 'youtube#video':\n",
        "      video_id = video['id']['videoId']\n",
        "      video_title = video['snippet']['title']\n",
        "      upload_date = video['snippet']['publishedAt']\n",
        "      upload_date = str(upload_date).split(\"T\")[0]\n",
        "\n",
        "      #Using get_video_details function to obtain more information\n",
        "      view_count, like_count, comment_count = get_video_details(video_id)\n",
        "\n",
        "      #Saving all data into pandas df\n",
        "      df = df.append({'video_id': video_id, \n",
        "                      'video_title': video_title, \n",
        "                      'upload_date': upload_date, \n",
        "                      'view_count': view_count, \n",
        "                      'like_count': like_count, \n",
        "                      'comment_count': comment_count},\n",
        "                    ignore_index = True)\n",
        "      \n",
        "  return df"
      ],
      "metadata": {
        "id": "ETv8ezm08xq1"
      },
      "execution_count": 4,
      "outputs": []
    },
    {
      "cell_type": "markdown",
      "source": [
        "In short, this function will do the following. **First it makes a call to the api that returns information in json format of all the videos of a channel** (in this case I have selected the uri vyce channel but you can see the readme to know how to find the id of any other channel).\n",
        "\n",
        "This json has a **key called items that contains all the ids, titles and publication dates of each video**. To access the information for each video separately and store it in a dataframe, we create a **loop that iterates over each video in items**. \n",
        "\n",
        "Then, for the first video, we first check that the content is of type video. If so, the id, title and date information is accessed and stored in several variables. Then, we apply the function get_video_details passing the parameter video_id, which we just saved in the variable and thus obtain the metrics of that particular video. Already having the data of the first video in the variables, we save the values in a dataframe using append(). \n",
        "\n",
        "After this, the second video is passed inside items and the loop is repeated until there are no more videos in the json. **The function finishes returning the dataframe with all the saved data**."
      ],
      "metadata": {
        "id": "F6QgxK0y6InU"
      }
    },
    {
      "cell_type": "markdown",
      "source": [
        "Now, **we have created the functions but we don't have the data yet**. We start by creating an empty dataframe since it is the argument of the get_videos function. Once created, we apply the function and we can see that the dataframe has been filled with the information we wanted."
      ],
      "metadata": {
        "id": "lEWtlURt6iyJ"
      }
    },
    {
      "cell_type": "code",
      "source": [
        "#Create empty dataframe and get data\n",
        "df = pd.DataFrame(columns = ['video_id', 'video_title', 'upload_date', 'view_count', 'like_count', 'comment_count'])\n",
        "df = get_videos(df)"
      ],
      "metadata": {
        "id": "WXg3ziJj8uwo"
      },
      "execution_count": 5,
      "outputs": []
    },
    {
      "cell_type": "code",
      "source": [
        "#Show results\n",
        "df.head(10)"
      ],
      "metadata": {
        "colab": {
          "base_uri": "https://localhost:8080/",
          "height": 363
        },
        "id": "2CGwEnZI_vTM",
        "outputId": "827689de-aa4f-47d7-8565-9741307bbc32"
      },
      "execution_count": 6,
      "outputs": [
        {
          "output_type": "execute_result",
          "data": {
            "text/plain": [
              "      video_id                                        video_title upload_date  \\\n",
              "0  e2g0hPK_4oA           La Decisión Más Importante De Mi Carrera  2023-02-02   \n",
              "1  ZMEo0LDVtDA  💥 Cómo Aprovechar la Crisis Inmobiliaria en Es...  2023-01-18   \n",
              "2  W1Ghb9J8ewE             ¿Habías Oído Hablar de este Trabajo? 😎  2023-01-16   \n",
              "3  BAu1gM-IIGU             Cuánto He Ganado Como Youtuber en 2022  2023-01-09   \n",
              "4  6-N-0Q0cKwc                                       He Fracasado  2023-01-01   \n",
              "5  PjnCguGtmFA  🔴 Lo que se viene en 2023 (ÚLTIMO DIRECTO DEL ...  2022-12-30   \n",
              "6  yStOpp8Gq0c  7 Trabajos Desde Casa y Sin Experiencia Para G...  2022-12-26   \n",
              "7  m1p2etKZawM             ¿Es Suiza un buen lugar para 𝗩𝗜𝗩𝗜𝗥? 🏠⁠  2022-12-23   \n",
              "8  r7LqMHTAuRk   Cómo Te Afecta la Crisis Energética Mundial 2023  2022-12-21   \n",
              "9  jHnPYL-U7Ew  EL ANUNCIO MÁS IMPORTANTE DEL AÑO (para tu bol...  2022-12-19   \n",
              "\n",
              "  view_count like_count comment_count  \n",
              "0      16557       1786           161  \n",
              "1     138205       7225           439  \n",
              "2     103451       3275            62  \n",
              "3      68879       4503           442  \n",
              "4     122587       8971           739  \n",
              "5      32895       1292           150  \n",
              "6     106660       6207           463  \n",
              "7      15213        614            13  \n",
              "8      20956       2026           250  \n",
              "9      71374       6886           278  "
            ],
            "text/html": [
              "\n",
              "  <div id=\"df-fdc40bb7-0b3b-492b-a29e-9c3ef6015cc2\">\n",
              "    <div class=\"colab-df-container\">\n",
              "      <div>\n",
              "<style scoped>\n",
              "    .dataframe tbody tr th:only-of-type {\n",
              "        vertical-align: middle;\n",
              "    }\n",
              "\n",
              "    .dataframe tbody tr th {\n",
              "        vertical-align: top;\n",
              "    }\n",
              "\n",
              "    .dataframe thead th {\n",
              "        text-align: right;\n",
              "    }\n",
              "</style>\n",
              "<table border=\"1\" class=\"dataframe\">\n",
              "  <thead>\n",
              "    <tr style=\"text-align: right;\">\n",
              "      <th></th>\n",
              "      <th>video_id</th>\n",
              "      <th>video_title</th>\n",
              "      <th>upload_date</th>\n",
              "      <th>view_count</th>\n",
              "      <th>like_count</th>\n",
              "      <th>comment_count</th>\n",
              "    </tr>\n",
              "  </thead>\n",
              "  <tbody>\n",
              "    <tr>\n",
              "      <th>0</th>\n",
              "      <td>e2g0hPK_4oA</td>\n",
              "      <td>La Decisión Más Importante De Mi Carrera</td>\n",
              "      <td>2023-02-02</td>\n",
              "      <td>16557</td>\n",
              "      <td>1786</td>\n",
              "      <td>161</td>\n",
              "    </tr>\n",
              "    <tr>\n",
              "      <th>1</th>\n",
              "      <td>ZMEo0LDVtDA</td>\n",
              "      <td>💥 Cómo Aprovechar la Crisis Inmobiliaria en Es...</td>\n",
              "      <td>2023-01-18</td>\n",
              "      <td>138205</td>\n",
              "      <td>7225</td>\n",
              "      <td>439</td>\n",
              "    </tr>\n",
              "    <tr>\n",
              "      <th>2</th>\n",
              "      <td>W1Ghb9J8ewE</td>\n",
              "      <td>¿Habías Oído Hablar de este Trabajo? 😎</td>\n",
              "      <td>2023-01-16</td>\n",
              "      <td>103451</td>\n",
              "      <td>3275</td>\n",
              "      <td>62</td>\n",
              "    </tr>\n",
              "    <tr>\n",
              "      <th>3</th>\n",
              "      <td>BAu1gM-IIGU</td>\n",
              "      <td>Cuánto He Ganado Como Youtuber en 2022</td>\n",
              "      <td>2023-01-09</td>\n",
              "      <td>68879</td>\n",
              "      <td>4503</td>\n",
              "      <td>442</td>\n",
              "    </tr>\n",
              "    <tr>\n",
              "      <th>4</th>\n",
              "      <td>6-N-0Q0cKwc</td>\n",
              "      <td>He Fracasado</td>\n",
              "      <td>2023-01-01</td>\n",
              "      <td>122587</td>\n",
              "      <td>8971</td>\n",
              "      <td>739</td>\n",
              "    </tr>\n",
              "    <tr>\n",
              "      <th>5</th>\n",
              "      <td>PjnCguGtmFA</td>\n",
              "      <td>🔴 Lo que se viene en 2023 (ÚLTIMO DIRECTO DEL ...</td>\n",
              "      <td>2022-12-30</td>\n",
              "      <td>32895</td>\n",
              "      <td>1292</td>\n",
              "      <td>150</td>\n",
              "    </tr>\n",
              "    <tr>\n",
              "      <th>6</th>\n",
              "      <td>yStOpp8Gq0c</td>\n",
              "      <td>7 Trabajos Desde Casa y Sin Experiencia Para G...</td>\n",
              "      <td>2022-12-26</td>\n",
              "      <td>106660</td>\n",
              "      <td>6207</td>\n",
              "      <td>463</td>\n",
              "    </tr>\n",
              "    <tr>\n",
              "      <th>7</th>\n",
              "      <td>m1p2etKZawM</td>\n",
              "      <td>¿Es Suiza un buen lugar para 𝗩𝗜𝗩𝗜𝗥? 🏠⁠</td>\n",
              "      <td>2022-12-23</td>\n",
              "      <td>15213</td>\n",
              "      <td>614</td>\n",
              "      <td>13</td>\n",
              "    </tr>\n",
              "    <tr>\n",
              "      <th>8</th>\n",
              "      <td>r7LqMHTAuRk</td>\n",
              "      <td>Cómo Te Afecta la Crisis Energética Mundial 2023</td>\n",
              "      <td>2022-12-21</td>\n",
              "      <td>20956</td>\n",
              "      <td>2026</td>\n",
              "      <td>250</td>\n",
              "    </tr>\n",
              "    <tr>\n",
              "      <th>9</th>\n",
              "      <td>jHnPYL-U7Ew</td>\n",
              "      <td>EL ANUNCIO MÁS IMPORTANTE DEL AÑO (para tu bol...</td>\n",
              "      <td>2022-12-19</td>\n",
              "      <td>71374</td>\n",
              "      <td>6886</td>\n",
              "      <td>278</td>\n",
              "    </tr>\n",
              "  </tbody>\n",
              "</table>\n",
              "</div>\n",
              "      <button class=\"colab-df-convert\" onclick=\"convertToInteractive('df-fdc40bb7-0b3b-492b-a29e-9c3ef6015cc2')\"\n",
              "              title=\"Convert this dataframe to an interactive table.\"\n",
              "              style=\"display:none;\">\n",
              "        \n",
              "  <svg xmlns=\"http://www.w3.org/2000/svg\" height=\"24px\"viewBox=\"0 0 24 24\"\n",
              "       width=\"24px\">\n",
              "    <path d=\"M0 0h24v24H0V0z\" fill=\"none\"/>\n",
              "    <path d=\"M18.56 5.44l.94 2.06.94-2.06 2.06-.94-2.06-.94-.94-2.06-.94 2.06-2.06.94zm-11 1L8.5 8.5l.94-2.06 2.06-.94-2.06-.94L8.5 2.5l-.94 2.06-2.06.94zm10 10l.94 2.06.94-2.06 2.06-.94-2.06-.94-.94-2.06-.94 2.06-2.06.94z\"/><path d=\"M17.41 7.96l-1.37-1.37c-.4-.4-.92-.59-1.43-.59-.52 0-1.04.2-1.43.59L10.3 9.45l-7.72 7.72c-.78.78-.78 2.05 0 2.83L4 21.41c.39.39.9.59 1.41.59.51 0 1.02-.2 1.41-.59l7.78-7.78 2.81-2.81c.8-.78.8-2.07 0-2.86zM5.41 20L4 18.59l7.72-7.72 1.47 1.35L5.41 20z\"/>\n",
              "  </svg>\n",
              "      </button>\n",
              "      \n",
              "  <style>\n",
              "    .colab-df-container {\n",
              "      display:flex;\n",
              "      flex-wrap:wrap;\n",
              "      gap: 12px;\n",
              "    }\n",
              "\n",
              "    .colab-df-convert {\n",
              "      background-color: #E8F0FE;\n",
              "      border: none;\n",
              "      border-radius: 50%;\n",
              "      cursor: pointer;\n",
              "      display: none;\n",
              "      fill: #1967D2;\n",
              "      height: 32px;\n",
              "      padding: 0 0 0 0;\n",
              "      width: 32px;\n",
              "    }\n",
              "\n",
              "    .colab-df-convert:hover {\n",
              "      background-color: #E2EBFA;\n",
              "      box-shadow: 0px 1px 2px rgba(60, 64, 67, 0.3), 0px 1px 3px 1px rgba(60, 64, 67, 0.15);\n",
              "      fill: #174EA6;\n",
              "    }\n",
              "\n",
              "    [theme=dark] .colab-df-convert {\n",
              "      background-color: #3B4455;\n",
              "      fill: #D2E3FC;\n",
              "    }\n",
              "\n",
              "    [theme=dark] .colab-df-convert:hover {\n",
              "      background-color: #434B5C;\n",
              "      box-shadow: 0px 1px 3px 1px rgba(0, 0, 0, 0.15);\n",
              "      filter: drop-shadow(0px 1px 2px rgba(0, 0, 0, 0.3));\n",
              "      fill: #FFFFFF;\n",
              "    }\n",
              "  </style>\n",
              "\n",
              "      <script>\n",
              "        const buttonEl =\n",
              "          document.querySelector('#df-fdc40bb7-0b3b-492b-a29e-9c3ef6015cc2 button.colab-df-convert');\n",
              "        buttonEl.style.display =\n",
              "          google.colab.kernel.accessAllowed ? 'block' : 'none';\n",
              "\n",
              "        async function convertToInteractive(key) {\n",
              "          const element = document.querySelector('#df-fdc40bb7-0b3b-492b-a29e-9c3ef6015cc2');\n",
              "          const dataTable =\n",
              "            await google.colab.kernel.invokeFunction('convertToInteractive',\n",
              "                                                     [key], {});\n",
              "          if (!dataTable) return;\n",
              "\n",
              "          const docLinkHtml = 'Like what you see? Visit the ' +\n",
              "            '<a target=\"_blank\" href=https://colab.research.google.com/notebooks/data_table.ipynb>data table notebook</a>'\n",
              "            + ' to learn more about interactive tables.';\n",
              "          element.innerHTML = '';\n",
              "          dataTable['output_type'] = 'display_data';\n",
              "          await google.colab.output.renderOutput(dataTable, element);\n",
              "          const docLink = document.createElement('div');\n",
              "          docLink.innerHTML = docLinkHtml;\n",
              "          element.appendChild(docLink);\n",
              "        }\n",
              "      </script>\n",
              "    </div>\n",
              "  </div>\n",
              "  "
            ]
          },
          "metadata": {},
          "execution_count": 6
        }
      ]
    },
    {
      "cell_type": "markdown",
      "source": [
        "\n",
        "\n",
        "---\n",
        "## **Import dataframe to a database**\n",
        "\n",
        "\n",
        "---\n",
        "\n",
        "\n"
      ],
      "metadata": {
        "id": "Qx1F8t5bnx9u"
      }
    },
    {
      "cell_type": "markdown",
      "source": [
        "### **Connecting to the database with python**"
      ],
      "metadata": {
        "id": "5b_j6JLfoIta"
      }
    },
    {
      "cell_type": "markdown",
      "source": [
        "We start by installing and importing a library that will allow us to connect to postgresql from python."
      ],
      "metadata": {
        "id": "0W0rBRZ-B0fJ"
      }
    },
    {
      "cell_type": "code",
      "source": [
        "#Import psycopg2 to connect to a PostgreSQL database from Python\n",
        "!pip install psycopg2\n",
        "import psycopg2 as ps"
      ],
      "metadata": {
        "id": "NFXsIHs1-I6-",
        "colab": {
          "base_uri": "https://localhost:8080/"
        },
        "outputId": "754320d9-4032-4349-88b0-8366147513fa"
      },
      "execution_count": 7,
      "outputs": [
        {
          "output_type": "stream",
          "name": "stdout",
          "text": [
            "Looking in indexes: https://pypi.org/simple, https://us-python.pkg.dev/colab-wheels/public/simple/\n",
            "Requirement already satisfied: psycopg2 in /usr/local/lib/python3.8/dist-packages (2.9.5)\n"
          ]
        }
      ]
    },
    {
      "cell_type": "markdown",
      "source": [
        "We use variables to store the database access credentials (again, I have hidden my keys)."
      ],
      "metadata": {
        "id": "h5lR7EI3INRi"
      }
    },
    {
      "cell_type": "code",
      "source": [
        "#Save credentials of AWS database in variables\n",
        "host_name = 'xxxxxxxxxxxxx.amazonaws.com'\n",
        "dbname = 'xxxxxxx'\n",
        "port = '5432'\n",
        "username = 'xxxxxxxxx'\n",
        "password = 'xxxxxxxxxxxxxxxxxx'\n",
        "conn = None"
      ],
      "metadata": {
        "id": "2bFy3am9oNTe"
      },
      "execution_count": 8,
      "outputs": []
    },
    {
      "cell_type": "markdown",
      "source": [
        "We create a function that returns a variable containing the connection to the database (using the credentials) and, if it does not work, returns an error."
      ],
      "metadata": {
        "id": "LmNc-aPRIdpV"
      }
    },
    {
      "cell_type": "code",
      "source": [
        "#Create a function to connect to AWS database\n",
        "def connect_to_db(host_name, dbname, port, username, password):\n",
        "  try:\n",
        "    conn = ps.connect(host=host_name, database = dbname, user = username, password = password, port = port)\n",
        "  except ps.OperationalError as e:\n",
        "    raise e\n",
        "  else:\n",
        "    print('Connected!')\n",
        "\n",
        "  return conn"
      ],
      "metadata": {
        "id": "IOgQgduG-Dg4"
      },
      "execution_count": 9,
      "outputs": []
    },
    {
      "cell_type": "code",
      "source": [
        "#Using the connect_to_db function\n",
        "conn = connect_to_db(host_name, dbname, port, username, password)"
      ],
      "metadata": {
        "colab": {
          "base_uri": "https://localhost:8080/"
        },
        "id": "N9ca5l66E5Bw",
        "outputId": "2e4e1daf-e8bf-41be-efc7-e8b2df452b34"
      },
      "execution_count": 10,
      "outputs": [
        {
          "output_type": "stream",
          "name": "stdout",
          "text": [
            "Connected!\n"
          ]
        }
      ]
    },
    {
      "cell_type": "markdown",
      "source": [
        "### **Create table and add data to database from python using SQL**"
      ],
      "metadata": {
        "id": "ZEkVQYEPoPNq"
      }
    },
    {
      "cell_type": "markdown",
      "source": [
        "Currently, we have the API data stored in a dataframe."
      ],
      "metadata": {
        "id": "m92V31b9FND3"
      }
    },
    {
      "cell_type": "code",
      "source": [
        "df.head()"
      ],
      "metadata": {
        "colab": {
          "base_uri": "https://localhost:8080/",
          "height": 206
        },
        "id": "aK-eRn_1oSmO",
        "outputId": "2f6d2247-72d6-4c53-f4d0-a8ab1d1f4e57"
      },
      "execution_count": 11,
      "outputs": [
        {
          "output_type": "execute_result",
          "data": {
            "text/plain": [
              "      video_id                                        video_title upload_date  \\\n",
              "0  e2g0hPK_4oA           La Decisión Más Importante De Mi Carrera  2023-02-02   \n",
              "1  ZMEo0LDVtDA  💥 Cómo Aprovechar la Crisis Inmobiliaria en Es...  2023-01-18   \n",
              "2  W1Ghb9J8ewE             ¿Habías Oído Hablar de este Trabajo? 😎  2023-01-16   \n",
              "3  BAu1gM-IIGU             Cuánto He Ganado Como Youtuber en 2022  2023-01-09   \n",
              "4  6-N-0Q0cKwc                                       He Fracasado  2023-01-01   \n",
              "\n",
              "  view_count like_count comment_count  \n",
              "0      16557       1786           161  \n",
              "1     138205       7225           439  \n",
              "2     103451       3275            62  \n",
              "3      68879       4503           442  \n",
              "4     122587       8971           739  "
            ],
            "text/html": [
              "\n",
              "  <div id=\"df-2fe611f2-6850-4eb8-8d52-92cf42a1ef11\">\n",
              "    <div class=\"colab-df-container\">\n",
              "      <div>\n",
              "<style scoped>\n",
              "    .dataframe tbody tr th:only-of-type {\n",
              "        vertical-align: middle;\n",
              "    }\n",
              "\n",
              "    .dataframe tbody tr th {\n",
              "        vertical-align: top;\n",
              "    }\n",
              "\n",
              "    .dataframe thead th {\n",
              "        text-align: right;\n",
              "    }\n",
              "</style>\n",
              "<table border=\"1\" class=\"dataframe\">\n",
              "  <thead>\n",
              "    <tr style=\"text-align: right;\">\n",
              "      <th></th>\n",
              "      <th>video_id</th>\n",
              "      <th>video_title</th>\n",
              "      <th>upload_date</th>\n",
              "      <th>view_count</th>\n",
              "      <th>like_count</th>\n",
              "      <th>comment_count</th>\n",
              "    </tr>\n",
              "  </thead>\n",
              "  <tbody>\n",
              "    <tr>\n",
              "      <th>0</th>\n",
              "      <td>e2g0hPK_4oA</td>\n",
              "      <td>La Decisión Más Importante De Mi Carrera</td>\n",
              "      <td>2023-02-02</td>\n",
              "      <td>16557</td>\n",
              "      <td>1786</td>\n",
              "      <td>161</td>\n",
              "    </tr>\n",
              "    <tr>\n",
              "      <th>1</th>\n",
              "      <td>ZMEo0LDVtDA</td>\n",
              "      <td>💥 Cómo Aprovechar la Crisis Inmobiliaria en Es...</td>\n",
              "      <td>2023-01-18</td>\n",
              "      <td>138205</td>\n",
              "      <td>7225</td>\n",
              "      <td>439</td>\n",
              "    </tr>\n",
              "    <tr>\n",
              "      <th>2</th>\n",
              "      <td>W1Ghb9J8ewE</td>\n",
              "      <td>¿Habías Oído Hablar de este Trabajo? 😎</td>\n",
              "      <td>2023-01-16</td>\n",
              "      <td>103451</td>\n",
              "      <td>3275</td>\n",
              "      <td>62</td>\n",
              "    </tr>\n",
              "    <tr>\n",
              "      <th>3</th>\n",
              "      <td>BAu1gM-IIGU</td>\n",
              "      <td>Cuánto He Ganado Como Youtuber en 2022</td>\n",
              "      <td>2023-01-09</td>\n",
              "      <td>68879</td>\n",
              "      <td>4503</td>\n",
              "      <td>442</td>\n",
              "    </tr>\n",
              "    <tr>\n",
              "      <th>4</th>\n",
              "      <td>6-N-0Q0cKwc</td>\n",
              "      <td>He Fracasado</td>\n",
              "      <td>2023-01-01</td>\n",
              "      <td>122587</td>\n",
              "      <td>8971</td>\n",
              "      <td>739</td>\n",
              "    </tr>\n",
              "  </tbody>\n",
              "</table>\n",
              "</div>\n",
              "      <button class=\"colab-df-convert\" onclick=\"convertToInteractive('df-2fe611f2-6850-4eb8-8d52-92cf42a1ef11')\"\n",
              "              title=\"Convert this dataframe to an interactive table.\"\n",
              "              style=\"display:none;\">\n",
              "        \n",
              "  <svg xmlns=\"http://www.w3.org/2000/svg\" height=\"24px\"viewBox=\"0 0 24 24\"\n",
              "       width=\"24px\">\n",
              "    <path d=\"M0 0h24v24H0V0z\" fill=\"none\"/>\n",
              "    <path d=\"M18.56 5.44l.94 2.06.94-2.06 2.06-.94-2.06-.94-.94-2.06-.94 2.06-2.06.94zm-11 1L8.5 8.5l.94-2.06 2.06-.94-2.06-.94L8.5 2.5l-.94 2.06-2.06.94zm10 10l.94 2.06.94-2.06 2.06-.94-2.06-.94-.94-2.06-.94 2.06-2.06.94z\"/><path d=\"M17.41 7.96l-1.37-1.37c-.4-.4-.92-.59-1.43-.59-.52 0-1.04.2-1.43.59L10.3 9.45l-7.72 7.72c-.78.78-.78 2.05 0 2.83L4 21.41c.39.39.9.59 1.41.59.51 0 1.02-.2 1.41-.59l7.78-7.78 2.81-2.81c.8-.78.8-2.07 0-2.86zM5.41 20L4 18.59l7.72-7.72 1.47 1.35L5.41 20z\"/>\n",
              "  </svg>\n",
              "      </button>\n",
              "      \n",
              "  <style>\n",
              "    .colab-df-container {\n",
              "      display:flex;\n",
              "      flex-wrap:wrap;\n",
              "      gap: 12px;\n",
              "    }\n",
              "\n",
              "    .colab-df-convert {\n",
              "      background-color: #E8F0FE;\n",
              "      border: none;\n",
              "      border-radius: 50%;\n",
              "      cursor: pointer;\n",
              "      display: none;\n",
              "      fill: #1967D2;\n",
              "      height: 32px;\n",
              "      padding: 0 0 0 0;\n",
              "      width: 32px;\n",
              "    }\n",
              "\n",
              "    .colab-df-convert:hover {\n",
              "      background-color: #E2EBFA;\n",
              "      box-shadow: 0px 1px 2px rgba(60, 64, 67, 0.3), 0px 1px 3px 1px rgba(60, 64, 67, 0.15);\n",
              "      fill: #174EA6;\n",
              "    }\n",
              "\n",
              "    [theme=dark] .colab-df-convert {\n",
              "      background-color: #3B4455;\n",
              "      fill: #D2E3FC;\n",
              "    }\n",
              "\n",
              "    [theme=dark] .colab-df-convert:hover {\n",
              "      background-color: #434B5C;\n",
              "      box-shadow: 0px 1px 3px 1px rgba(0, 0, 0, 0.15);\n",
              "      filter: drop-shadow(0px 1px 2px rgba(0, 0, 0, 0.3));\n",
              "      fill: #FFFFFF;\n",
              "    }\n",
              "  </style>\n",
              "\n",
              "      <script>\n",
              "        const buttonEl =\n",
              "          document.querySelector('#df-2fe611f2-6850-4eb8-8d52-92cf42a1ef11 button.colab-df-convert');\n",
              "        buttonEl.style.display =\n",
              "          google.colab.kernel.accessAllowed ? 'block' : 'none';\n",
              "\n",
              "        async function convertToInteractive(key) {\n",
              "          const element = document.querySelector('#df-2fe611f2-6850-4eb8-8d52-92cf42a1ef11');\n",
              "          const dataTable =\n",
              "            await google.colab.kernel.invokeFunction('convertToInteractive',\n",
              "                                                     [key], {});\n",
              "          if (!dataTable) return;\n",
              "\n",
              "          const docLinkHtml = 'Like what you see? Visit the ' +\n",
              "            '<a target=\"_blank\" href=https://colab.research.google.com/notebooks/data_table.ipynb>data table notebook</a>'\n",
              "            + ' to learn more about interactive tables.';\n",
              "          element.innerHTML = '';\n",
              "          dataTable['output_type'] = 'display_data';\n",
              "          await google.colab.output.renderOutput(dataTable, element);\n",
              "          const docLink = document.createElement('div');\n",
              "          docLink.innerHTML = docLinkHtml;\n",
              "          element.appendChild(docLink);\n",
              "        }\n",
              "      </script>\n",
              "    </div>\n",
              "  </div>\n",
              "  "
            ]
          },
          "metadata": {},
          "execution_count": 11
        }
      ]
    },
    {
      "cell_type": "markdown",
      "source": [
        "The goal is to get that data into a cloud database (in this case AWS). To do this, we must first create a table, which we can accomplish by creating an SQL query and executing it from python."
      ],
      "metadata": {
        "id": "Bq0A5GaPFRGL"
      }
    },
    {
      "cell_type": "code",
      "source": [
        "#Create table function\n",
        "def create_table(curr):\n",
        "  create_table_command = (\"\"\"CREATE TABLE IF NOT EXISTS videos(\n",
        "                      video_id VARCHAR(25) PRIMARY KEY,\n",
        "                      video_title TEXT NOT NULL,\n",
        "                      upload_date DATE NOT NULL DEFAULT CURRENT_DATE,\n",
        "                      view_count INTEGER NOT NULL,\n",
        "                      like_count INTEGER NOT NULL,\n",
        "                      comment_count INTEGER NOT NULL\n",
        "                    );\"\"\")\n",
        "  \n",
        "  curr.execute(create_table_command)"
      ],
      "metadata": {
        "id": "ub_DwALoFykz"
      },
      "execution_count": 12,
      "outputs": []
    },
    {
      "cell_type": "markdown",
      "source": [
        "The query creates the table respecting the order of the columns of the dataframe. On the other hand, it is inside a function called create_table whose purpose is to execute the query. \n",
        "\n",
        "The parameter curr is the one that will allow to perform the query and extract the data from the database. To do this, curr must contain the connection variable (conn) that we built before together with the cursor() command. This command allows us to execute the queries and obtain results from the database. "
      ],
      "metadata": {
        "id": "AFbC6Dz6Gurq"
      }
    },
    {
      "cell_type": "code",
      "source": [
        "#Define curr \n",
        "curr = conn.cursor()"
      ],
      "metadata": {
        "id": "LEbVZUDiqrxE"
      },
      "execution_count": 13,
      "outputs": []
    },
    {
      "cell_type": "code",
      "source": [
        "#Using create_table function\n",
        "create_table(curr)\n",
        "\n",
        "#Commit the code\n",
        "conn.commit()"
      ],
      "metadata": {
        "id": "iIjJrkM1rcqD"
      },
      "execution_count": 14,
      "outputs": []
    },
    {
      "cell_type": "markdown",
      "source": [
        "Once this is done, the table will have been created, which we can check if we do a SELECT in postgreSQL.\n",
        "\n"
      ],
      "metadata": {
        "id": "Qygm9MGwze3u"
      }
    },
    {
      "cell_type": "markdown",
      "source": [
        "![2023-02-02 11_06_29-pgAdmin 4.png](data:image/png;base64,iVBORw0KGgoAAAANSUhEUgAAA4wAAAFVCAYAAACkZGFsAAAAAXNSR0IArs4c6QAAAARnQU1BAACxjwv8YQUAAAAJcEhZcwAAEnQAABJ0Ad5mH3gAAAASdEVYdFNvZnR3YXJlAEdyZWVuc2hvdF5VCAUAAFY/SURBVHhe7d17cHRVnf/733/nv9+fv//mn1SNlbKO9VhT41NWyTOlTixL4/ESR8do6WTKKaJnThSPUUczx9LoUEYKEX9CahjIOEjrIwQp7UEMiIRngACD4SIBlHCRcJEoYLhIFHWd9Vl7r+61d6/dvTvpTt/er6pvwdO9u7N7r31Zn1577/4fe8+9YFQPPPw4RVEURVEURVEURdUqExgBAAAAAPAIjAAAAACAKAIjAAAAACCKwAgAAAAAiCIwAgAAAACiCIwAAAAAgCgCIwAAAAAgisAIAAAAAIgiMAIAAAAAogiMAAAAAIAoAiO6Ymtry7z//e83t956a/oIAAAAgEHTkcD4wgsvmIsuusi8/vWvN2NjY+b48ePmK1/5ivnVr36VTjG6/vjHP5pTp06Z9773veZlL3uZGR8fNx/+8IfNT3/6U/OnP/0pnaq/PfXUU+Yd73iHWVpaSh/J+u1vf2vOOOMMV/p/2dzcdOuBPjsAAACAwXTowPjkk0+a97znPeaVr3yl+cIXvmCuueYac/7555vXve51LkD+7Gc/S6ccPS+99JI555xzXFD84Ac/aKrVqrnsssvMBz7wAfeY/n8QQuNBAuNB3Xzzze5LB/0XAAAAQG8dKjAqEC0uLrpgeO+996aPJnyQVDh65pln0kdHy49//GPz8pe/3HznO99xI42eD5IK2RqJ63cERgAAAGA0HSow3n///ea0004zX//616MjZevr6y4w6b9SFDz8+1x66aXpI8mpnNddd51561vf6gKEQunll1/uwpb4kPKRj3zEve41r3mN+/f111/vRu9+8IMfuOm822+/3bziFa8w3//+99NHusvP3/ve975oYP7lL39p3va2t5kvfvGL7jMVha6iZfaLX/zCfXad4upHd59++un0WeOWiZbpVVdd5eZB/3/ttde6/5533nnpVIlHHnnEvOENbyhsx4MExljw0ynKmk/Nr9pIp+neeOON7m/6dUCv8aW/qb8tWkZqO78+6HTX5eVldzq05+dTf2NlZcX9nS996Uvmy1/+svt8+pwhLQetVw8//HD6CAAAAIDQoQKjQpk6/v/93/+dPpL1xBNPmMnJyVpAKRsYFSB0uuarXvUq99obbrihFgAUEvS8DykKpH/1V3/lQoJes7u76wLSpz/9afO73/3OvZ/o9bHQ0C0+hJ199tnpI1kKQJ/73OfcjWH29vbaCow6zVdB52Mf+5gbxVQofPvb354ZzdWyVNtomek9dZqw5umTn/xk7W96eg+FaYXqmE4ERs2X5k/zqflVsFcbaR6vvPJKtzw0zY9+9CP3Ov1X/9YXB3ru3HPPdeFY18ZqfbjkkkvcOvPxj3/cPP/88+5v+PnUOvGmN73Jze8Pf/hDc9ttt7nPF36J8Nxzz5nTTz+9YT0BAAAAUHeowOhHsRT4YvJBo2xg9P/WqZx+xEv//cY3vlELfT6k5K+T1HQaKVNQVWAVBQrdaOYow0H+M8VoOWh5aLmUDYx+Oo0u+qAkuonOq1/96loo8oExf52kRukUxO+++273b4UxjXLmQ2SoqN282LznA6O+VND8aETR09/TtZ0Kffv7++6x/OtEpzvrs4Xrg+i9FIj9qLGfT50KrVOiPQVPfYmggK7PK/498yPRAAAAAOqOJDD6IFEUPPLhSv+NjQb600oVJmIhxfPTaeRM/Psf1emoUjYw+uVX9Hnyy8y/bz7oKHwp9PnpitrGj3xqxFV+/etfm3e+852Fp6OKnwcFuWYVzns++PmA9u///u9NQ3ssMBaNDudHCYvWL9FIdfglgpYPp6MCAAAAzfXlCKOeD4NIvloFRh+e/IiSwtVRh4P8Z4rR59Ty0HIpGxh9oCoqP11R2yhYKWApaClwKVzrekCdtlnEz4NGNXU6aL4UzHU9YrPAqHaoVCq1ay796bQvvviie97Lv07C5ZSn5/zoaNH6JeGXCH4Z6PTcoxpxBgAAAAbRkVzD6K/jK+rQxwKjAp6udYsFFI2KNQuMolEp3VRGo1K9CAd+JK/VNYzvete73CmT7QZG/e5lbNncd999brpmYV6hSaN9GvXTyFvRjXm8ZkFMYvMeC36iv6PrChUYFRz18yvhnWLbCYwaET3zzDNLBUY/GqnTbx966CHXNkc54gwAAAAMokMFRh/0On2XVIW9ViOCRQHL0zV6CkW6OYpC61GHAz9/nb5Lqj6XrkFs9XmaBUYf5NVuClHNTkeVTgRGBTYth/DnRR577DEXmFtdw9iJU1LFf4mgdYLTUQEAAIDWDhUYFXTa+R1G/QTC3NxcQyjyd7H0gfGuu+5yo08a/QoDhm7y8pOf/MQ9VhSwPH+jm7/4i79wYaMX4UAjeWV/h9GPlul6Qo2geppvLV8fgp599lkzMzPjRtXCn9HQ6/Veel6aBUb9fQXVY8eOueXT7HRU6URgVFvmQ5ofZW32Omn3pjdF86n30c+v6DNzOioAAADQ2qECoygYKhSq466ftlBI0umSOtVQASG8g6l885vfdKexnnXWWe4USgUJdeL1mA+MPlDpMQUb/QSDTmPU33n3u99tHn/88ZaBUfS3FD56FQ70OfRzEAqNuhtotVp1pc+hz5a/g6lGYvW4Rsz0mXXNn5ahXh+GIB+U9D5aLppWy0kjj340t1lgFP+3Wp2OKp0IjNvb2+6zqP38qcb6iQxd06h28nw4VJDc2NhwAdgvx7I/q1E0n/5LBM0Xp6MCAAAArR06MIpGDhUSFQjUGdfIlTr3Ol1Qp16GdJMT/ZaiAo8Ci0KPfqBfHX0fGEUhQZ368IfaFRb04+9SJjAqrCqM9jIcaGTx1KlT7qYw+rxaLlo+CjsKU2Fg1Ge+/PLL3TzrM+uzKxDqZjP5ELS1teXCj95Ppf/XT2v492sVGDWKqdMzW52OKp0IjPLoo4+6MKy2959PbaPP7en/deqoppmYmDAPPvhg7fH8+lD0w/1F8ynf/va3G0Y6AQAAAMR1JDDG3HnnneaNb3yjK50q2SqUdING0Xp1OmozOpVUI2MKehop68Xop0byXvva17Y8HXWYKHRqJJbTUQEAAIByuhYYRaOLn/nMZxqubzwKCge6vrJfw4Hm6d/+7d/caanh9Y1HQeH9G9/4RqnTUYeJbrLzlre8hdNRAQAAgJK6Ghh7QUFMp0H6a/rCUyJHnUK0biik60a1bHT66yjQ6bf+GliF5PCmQgAAAACKDV1g1IiZ7s7qr1086tG7fqafrvjUpz7lrg/UNaejclqmTrvV6b8Ki/mbMAEAAAAoNnSBEQAAAADQGQRGAAAAAEAUgREAAAAAEEVgBAAAAABEERgBAAAAAFEERgAAAABAVCYw/sXpX6UiBQAAAACjiMBYogAAAABgFBEYSxQAAAAAjCICY4kCAAAAgFGUCYwURVEURVEURVEU5SsTGH/19HNDUwAAAACAwyEwAgAAAACiCIwAAAAAgCgCIwAAAAAgisAIAAAAAIgaucB4zzN/oCiqRwUAAIDBQmCkKOrICgAAAIOFwEhR1JEVAAAABguBkaKoIysAAAAMFgIjRVFHVgAAABgsBEaK6mndZs4YGzNjY39nvnZ/7PlYPWG+9j77moXbIs/1dwEAAGCwjGhg3DM3VavmW28+y/zr//iSqwve/B/m8svuN5tB5/buh+8wV3zoAnPxdLy+dd7dtenvuvPH5uTfX2AuOfNGc/MT9fdorMfNNWdeFH0/1SWfvdrckHv9XffdYb732QvMhf8zmdd//bOv2b99i7nJTbdnbriwYi6JvFemPnSFufa+/cz79qr8sorO57Rth6ufNHfb6e645erIdBeZk2f/2Fx33/MN73v3w3ebql1OF6Rt+q9/fZG5vPqQuSOYpvaef3/SrN1Zf4+77rzRXOoer5jqLXu1x7tfPjCOmTNOxZ6PFYERAAAAR+PIA+PaNde5zvH/9da3mZ8/8Eh0mk5UkXueed4GrIvqoSJXF372FnNb2rm9+74bzSV/Hp9OdcEZ9WnvOLVqLtTjb77CnGoWGJ94yHxvqvG9avWak+b6h/30+2bzVNVc/GeR6VTTV9lw+ZS57rPnxJ8P639dYKpBQOpl1ZZVQV18ySMuMG5eXSlsp3/9swvM94Jgd5dtq5OviUxn6+Lz7q2FxvA9L77wIXOXe/x5c9OFF6TTn2VOXv1U7X37swiMAAAAOBpHFhgVDhUSP/f5L7jqVWC8++HbzMm/TILBty7xo0/Pm1tPXW1OTp1vLq0+7sKKOre1wPjnF5m1FqNz7QfG1sHEzWsagi780FXm+nRUTSOOV3zofHPSzn8SeIJq4/3bre8utHPaZHGVXVa1cDd1VTqaal+r0dYPJSPDF3zoRnOrm/ZJc80Z6Wjx9BXmOtdWe+amyyrJ3/k/zjdXpOEyE0Knr07eV8tsOn2MwNjVAgAAwGA5ksD4yGO75sP/9//jRhf1754GxjuvNhf/LxsMSoy49TYwBqNees/aqGOL6lpgVEjpfWBU5V9/950/NpdoFDYIhknVg+TKmcnpw5nAmK4Dd915lbnYn+57oOWWnlZaEOC+u2Cfe9+l5sb03zde/HdulD1bnzffDV6TqVOfz0x7xqlmgbF+imtSRW2WvkcwbdEpsbH5/ZuLn4hO68rPb/CZfQEAAGCw9OQaxl4GxnueuNdc/uY0HLy5YqpXP5K5xi2sngbGJx4x1XTUq37qZInqaGB8wtxYCxtJwKiHivC59upwgXHf3HrZfwSP75vbqul0b67mrv/Uc37a5LlMYLR18YX3mlMXnl/790GXWxKqIqHv/kvN39jw1Oz6xMLX1p7Lvt4FUAWyfGBMg1omzKWPZf5+Ok+Z16eP5YNg8vfzoTMJpUWhsTZ/kbAKAACAwTJ6gTG9LvAb4XWBr7nIrF5yt7k1F16aXsPYYtQrfJ9M1QJdpMJgqmD713r8HHNpOwGmk4HxfhsMcqNQ9fo7GxgOdkpkbVnZeVyZyt3Q5sL7G683/OuTZu3U3ebay642V5x5kVnRCLF9PAnS++bmdCRWp6j6a0prf+uWK8yK3uM1J811Dwfv+efnpCGzYk66LxDOMhe6tj7ocktCVD4YusAVGWkLqzgwFgWz2AhjcYjLj3Dm/10rFy6zIa9w2mbFCCMAAMDQGMHAmHRc77rvXnPlmRekwSWtv/yPzB0yexoYH77brKaBcfVUG3ft7OgIY1A+BBScdtlO1QNjY1342Ttqd57NjwaGtfLZW9K70erU3WSEMLwJka+7bqkmgfEvK+baIDBe8Per5tKwHaZXzeohl1tjuGo+EuerMDBGAlxSkcBYOK1/zr9/s3mKPOfbvei92ywAAAAMlpENjLV64hFz3YUnzTd8MAwCX29PSb3fXJGOfH2rmvzMRHS6fHUlMCYB5W8uvtQFimanV5ap2rJ6TcVcefW95tQtvu43N923V/ustcD4f15gLj37CnMyDXj1m92odIrqRUnbTV/d8JMmm1efTP7WX6+6dqkFxg/92LZ7/c6o37rkDlP9++T/D7zc3GmdQbDKBLXiKgqM8dNBVY2BMZlWwa6o0vcvOPU0qRYjmuH7HfCLAwAAAAwWAmNa+m1Ad+OU//E1c8Utyc1wenvTm6fMtWckP5dx4Wdvy/w+ZNPqQmB0YcQHBBc4WoegZlV2WdUCYzqae5duWOTaKDlN1wfLO06lp526UcSwnZ43N5yXjj6mIbMWGM+4xdysNlf72tddc98j5srDBsZasE4ClxtxLBGsuj7CmKk2Rxhj5Ucd2z1V1RYAAAAGy8gFRv24+xVnnDRX5n6cXeHwWwoP//N887307qm9DYwKN+l72nm6/FQ9ICXXYf7YfC/3o/SuOh0YIwExEyAPUAcNjPqpjFNnf80FQN3Epvba2um72RsE6WdJLnU/S3KWueSy7G87utNXn3je3Hbn/eaGO580dz3xeAcCo63aqGISvsqMxhYGxsLRwEhgLBv2bLVzDWNRFc6zygfKyPMAAAAYLCMWGJ+rBw4bDFY+tGquOO8qW6vmW2ngUDjxd9qsX8N4jrnkzKr53oVXZeuyext/uP/PzzeXnt047dqp9LTSWqD7klk54wr397PT3mJuqI2S6Wch/I/yn2Uu/qymr5rLP3tBEqQUbtPR0Fp1YYSx03XwwBiGwDAc7pub/Z1Ta8spaFP9nfRnSTKBMf07SXUoMPrg9j4bqEqOwDULXy7cZUJccHpoPrSnQS0fGvX+B7tLavJZGr8cKHo8qWSek8oHZgAAAAyWIwuMCom+E5kvPRd7zWGqiK5ZvObsNHDl680nzTXBbzPWA2NBBYGnFoIKauXse5PRwCAwRiv/+5B2+rXP+pAb1jnm5GVHMMLYhTpMYHTh8JKLksf/8j/MNbWR36fMqQvTx8PKtWn3A2M9MJUZ7VM1Ha2zlTzvt5ckPBaf7pqGubBscP3aqfy0jdclNoyG3v+EC7xhAPTV9LPVRhgbpwMAAMBg6ckI41FUEd9xvfvhh8z1l11tvneeRgOvNteciv0e41Pm5toNWRrLncrop33icXNTZJqkdDMXH1qS0yDj06keMZsNIWrfbN55t7nmkqvs/Nq67A5zU+ZavbD8+99vbn2i+Wm0Pat0WWWWX6TuttPdEJ3Ot8v95ubMctg3d9jltJaO1l559f3mttyyrL3nfeEpviot4z5fbgNVSSBlhBEAAGCwjWxgpCiqi1W7ljP7OAAAAAYLgZGiqM5WwbWUKgAAAAwWAiNFUZ0rd/Oc4jutAgAAYLAQGCmKOrICAADAYCEwUhR1ZAUAAIDBQmCkKOrICgAAAINl5AIjAAAAAKAcAiMAAAAAIIrACAAAAACIIjACAAAAAKIIjAAAAACAKAIjAAAAACCKwAgAAAAAiCIwAgAAAACiCIwAAAAAgCgCIwAAAAAgisAIAAAAAIgiMAIAAAAAogiMAAAAAIAoAiMAAAAAIIrACAAAAACIIjACAAAAAKIIjAAAAACAKAIjAAAAACCKwAgAAAAAiCIwAgAAAACiCIwAAAAAgCgCIwAAAAAgisAIAAAAAIgiMAIAAAAAogiMAAAAAIAoAiMAAAAAIIrACAAAAACIIjACAAAAAKIIjAAAAACAKAIjAAAAACCKwAgAAAAAiCIwAgAAAACiCIwAAAAAgCgCIwAAAAAgisAIAAAAAIgiMAIAAAAAogiMAAAAAIAoAiMAAAAAIIrACAAAAACIIjACAAAAAKIIjAAAAACAKAIjAAAAACCKwAgAAAAAiCIwAgAAAACiCIwAAAAAgCgCIwAAAAAgisAIAAAAAIgiMAIAAAAAogiMAAAAAIAoAiMAAAAAIIrACAAAAACIIjACAAAAAKIIjAAAAACAKAIjAAAAACCKwAgAAAAAiCIwAgAAAACiCIwAAAAAgCgCIwAAAAAgisAIAAAAAIgiMAIAAAAAogiMAAAAAIAoAiMAAAAAIIrACAAAAACIIjACAAAAAKIIjAAAAACAKAIjAAAAACCKwAgAAAAAiCIwAgAAAACihjYw/uGPf6QoiqIoiqIoiqIOUUMbGF/c/x1FURRFURRFURR1iMoExudfeJGiKIqiKIqiKIqiXGUC4wv2AYqiKIqiKIqiKIpSZQLjH/7wB4qiKIqiKIqiKIpylQmMAAAAAAB4BEYAAAAAQBSBEQAAAAAQRWAEAAAAAEQRGAEAAAAAUQRGAAAAAEAUgREAAAAAEEVgBAAAAABEERgBHMjW1pZ5//vfb2699db0kcTm5qZ597vfbcbGxsznPvc588ILL5hzzz3XfP7znze//e1v06m6r2j+AAAAUN6hAuNTTz1l3vGOd7iOoa9XvvKV5tOf/rS57777zJ/+9Kd0yv7w85//3Hz0ox9186h5fetb32q+973vmd/97nfpFMhbWlpyy+qLX/yieemll9JHG918883mZS97mVsftF7gaPlt8X3ve5/59a9/nT5ap6B2xhlnuOpUaFMwPH78uDl16lT6iDEPP/yweeMb32g+8IEPmB/+8IduP6Dta2FhwXzkIx8xzz//fDpl98XmDwAAAO3pSGBUR/CGG25wVa1WXWdxfHzcXH755QcKjQofCin6b6dce+21Lihqfk+ePOk6s/Pz824+P/WpTx2oI3v//feb0047zVx66aXpI93RjeVRlg+Mr3/9610YiFGQVKDUdATG3gi/vNFoXj7cHyYwtvPaH/zgB+ZVr3qVufvuu9NHuu8wnw0AAADNdSQwKlSE1Fn9xje+4QLaQUJOpwOSH/X4+Mc/ngmGCrPXX3+9m8+DhL5RCYwvf/nL3ejh97///fTRLC1fBcpXvOIVBMYeCQOj1meNroUOE6raea22BW0T2jaOymE+GwAAAJrrSmCUvb0988EPftB88pOfzJzy+atf/cp85StfcaeKqXOr00IV2hTefADT477CAPLHP/7RnV723ve+1wUYdYy/8IUvmKeffto9X+Sb3/ymefWrX23uvffe9JE6zZvmUdc6aZ6lqNOrz6n52d7ernXOffnpfef1n/7pn8w111zjPp+ef9Ob3lT7nFLUyQ2XaavlcRQ0H//wD/9gPvzhD7uKjcRq+Sowqi3y86fle9lll7nnNf9he3v5afTflZUV8+KLL6ZTlJtG7/nTn/7UzadGjlUa/X700UfTKRL+iwK1iZ8njThr2vy6/Itf/MI9rvcqWt/CaVT6+7p+7ij59UZ/+z3veY+ZnZ01zz77bPps8fqmZaNTyPXZtE3p7IA777yz1j5aHlpGYfkvSMIvMvzfD6fLbxP5v61rG5eXlzP7gquuuspt516rbb7s/IXUNvl1RG3o+c/ypS99ya0nRduwlFkvAQAABlnXAqOo4/SGN7zBPPLII+7fTz75pOvM6oYY6hiq8+U7q+rUaWTymWeeMT/60Y9c50v/1b/VaVQnTR0zjWIpcOr0V53yqk7pJz7xiUxHNLS/v+9GFufm5lwHNUYdzNe85jXmZz/7We3fzQKjQq/m6yc/+Yl7nUZT9W/Nv+8ca1Tub//2b93nVBhRR1wd3h//+MfuvYo60eEybbY8jormQ/Ooz6F2uu2229JnEs8995w5/fTT3Smp3/rWt9y86zOI5v+cc85xy/KSSy5xbXbWWWe5ZXPllVe6adSuCg16b60vmkb/1b913Zs65GWmkRtvvNGdDvnP//zPbt3SPL/97W9vuK5P0+m1ClVqD13HqlCg+QrXZa0PCgAf+9jH3HT+/dSWagfxo9f6ckTTqPT/ev/8KF83heuNPru2E62XPtzE1jd98aHP57dHzbs+q+Zdy0jUvo899pgLWCr9v399GMi0TmqZ6G9qm9C2kd8mwr+tLx60XWrd0HYcrhvazjXfZbb5svPn6f/DtvfbppaD3/79stTf0RdJ4TYc7hfKrpcAAACDrKuBMR+81OlSB+zBBx90/xZ1KtWh190U1bmUWEdPo3/qcJ5//vm1TrDoNMlm10zp/d/1rndl3j8v//daBUYfiPS8pvMjGuI7x/qbv/zlL9NHk/lQh1OdWnWWY51oiS3T2PI4KpoPfRa1mdrpy1/+cmb5K0BqhEj/1XIIl49Ch55TgPHUBouLi7URXd8+Z555Zu199d+LLrrIvPa1r3V/t8w0+mJAz+fvxKn5UuBQOBAte7VBfgROQeMtb3lLbbn79tHoUziqqhFMjVbrWj357ne/m/myQfReGo06++yz00e6L1xvtIzVTlo3ddMZya9vmkYhP7+e+iCnttZyl/xrvdh6Gdt2Yq9fX1/PBFNRm379618373znO13AL7vNl50/3/b5NvVfZPmzIfyy1GN6ztPf099Vm0uZ9RIAAGDQHWlgjIl19mId0SKtpm01j5J/j04ExnznVb797W/XOpJF08Xmt9Vn7KbwM+vU07e97W21gOFDh0YYNdKjgOSnVcdZoSU81ddT2PLL13fiVRq5jSkzTZF8G/l/qy1Cvj38cvfT+WDo6bPoM/npfPDRKNRRjvzm5dcbH4B9OMqvb0888YSZnJw05513nps+pHCtkH377be7fxetq7H1skxg1HqjL3Bi64aC4sbGRibM5+X/btn584Ev36aikUF/NkRsGxTNm9Z/vy4dZr0EAAAYFEceGHWt0Gc+85nadUu+ws5evqPn6dt/nT6oEQid3hm+Pj+t50cBjnqEMd95Fb2/74gXTRdbpvn5O0rhZ/af19/8xt/sRkFSwmn95wvbKKxw+eqaOZ3WqTbVtWoXX3yx2d3ddc95Zabx17tpJFfXpoV/z7dR0bL08+uXu5+uqPx0ulZNwVjzpXVa65leW7SudUtsvdFpvzrFU6dx5te32Lrr+ed8sMq/1osty9i2k3990fvFlNnmi94vP3+x+fX0mN82Y8tS/OPhMiuzXgIAAAyyrgZGjV6E1zDqG351JnXdom5Ao9f764/Czl6sY6cO+L/8y7+41yuw6FQxvd5f3xfrBEo3rmHU35VYp7tZZzjslBZNF1umseVxVMLPrM67TttTe2l0Re2gwOh/biOc1n8+daI1YqXru8LKjyLpvXX6qMKX3lOBT6M+YfBqNo1GNBVcNYKk6+i0Xmk+/HWmvo2KlqWfX7/c/XQ6vTA/7yp/qqfob2vUVcFMo62aL10X+NBDD6VTdF9svdHy0rV0WlY6lTZc35oFRm0HWma9Doxlt/mi98vPX2x+PZ0ae5DAKGXWXQAAgEHVtcCokT1dBxXeJVWnLPrrk7xYZy/WsdNpnDqdM99Za9YJ9NR56+RdUvW5pd3AOOinpIpOwdSyvOWWW1xwDH/QP5xWj2m0LbwWLkbLX9P7dUT0/+p8+2VVZho/kqzH/PVkkm+jovXIt4df7v70RT+aGqO/o3VGFf5N3YVTf7NX1zCG/I1tdGqq7nbr17denpKqZaXr/vypzCG1q9pS60/Zbb7s/B32lFT/uJ+fMuslAADAoOtKYFRnT3fH1LVdYWdS0+kaoDAwamRGHf2ws5fv6Inv+IfXnqnj+Z3vfKdlmGr3dxg12qBTzML3VEdQwdIHImkWGPM3E9Fomm604kfnfKc5H6D9aZ7hMo0tj6Oi+Qg/s/8iQHcV9Te78fLT6iZHOiVSoSsMVPq8ClV6TKFE4SQfzBRafPAoM41fF8MbkIi/Y6hvI3/dWaub3ui5mZkZ90VC+DMaem/d/VTPa53QaHk+FPs7x4Zt2G1F26LmV3ca9adz+u1M22gvb3qjdUPbXbj+aF41Ouyvky27zZedP9/2ZW96k1+W/nG/LpVZLwEAAAZdRwKjOmD+VD1db6TT8XRalk7RCzvvGp1Sx1U/O6AOo073e93rXpfpyIpGAjWKpREqf+qi7+wppGhURK/Xa3xHOOy0xlx77bWug6r5PXnypHv9/Py8m89PfepTmQ6kOqvqtOonFPwt9TXP6hzq9frc4XT/+I//6IKJgpDvvGqedC2dXqsOpAKK/n54V0i/PBQ69PpKpeLCYv7nHWLL46hoPsLPLDr1U58vP0KUn9aHD31utZlfPzSypWWkz6HlpZ9IULtqlEfT6C6UWi98uC4zjQ9Aak/9fp5+A1N3TNW/Na/5LwQ0T/6nFYp+VsNP59tRbaS/oVEqtZ1ovQvfS9PoZz30Xn6ao+C3xXzIES0fbaP57azMz2qIX7aaVuHIn46bD2RSNjD6dUPT+p/V0E9naBvzP6uhacps8+3Mn/4/bC+9p9pXr83/rEZ+WfrH/bpUZr0EAAAYdB0JjOqU+VLnSTe1UactDIuif6tDHf5gujrVuk4pHHlUB1AdMHXsJiYmaqd2aaRHP8mgEKDn9APeClC63ip/18uYn//85+ajH/2oe63/+woL4Sll3l133eVGWfxn0u+tafQjDET6PP/5n//p/r7mSaMlvnOsayZ16pv+ht4j9qPf+pzqLOv1fn7UgVXnPuysFi2Po5APgeJHfvzNbrzYtLopjOZdHXJ9Rv1XXxSE15Pmp9HyVngIR/bKTuN/F0/toeV4xx13uHUr/9MH+fUwttwl/yPv+n9dDxi2YziNwoyu21TgCqfpNr8t5uff8z8HEoY2afXD/d4DDzxQ2x7OPfdc91gskJUNjBL74f7rrrsuc7fZstt82fmTsj/cn1+W/vHwy4cy6yUAAMAgO1RgRKOizjH6m78GsihwAQAAAKOIwNhhBMb+d9NNNzWMOml0WKdDxm6IAgAAAIwqAmOHERj7m0611G/l6TpEf12lv+5MpzSGNyACAAAARh2BscMIjP3P/8C/rjXUdXtcdwYAAADEERgBAAAAAFEERgAAAABAFIERAAAAABBFYAQAAAAARBEYAQAAAABRBEYAAAAAQFQmMP7F6V+lhrQAAAAAoF0ExhEpAAAAAGgXgXFECgAAAADaxTWMAAAAAICoTGCkKIqiKIqiKIqiKF+ZwPirp5+jKIqiKIqiKIqiKFcERoqiKIqiKIqiKCpaTQPjg488aW667R5z7X/dbq6+/id9VZqvn9y13dcVm+9Rq5/cdX/DcumHumPrAXPfA4+ax3efaVjvY6Xp7tt+zL0u/15HXYM876pRWvYURVEURVGDXoWB8a57HzK3371tnv7Nc+all/6QXvLYP7Z+9rB5cf/3fV0KTN3U7ffvhH5tp+eef9E89cxz5s57HjKPP9m88//Yk0+bO+32oOn1utj7HWW1M+8KNv0076pRWfYURVEURVHDUNHAqJFFhcV+RmAkMHaq1Pl/omDESKFAgSX2un6opvOusGifj72uX2pYlz1FURRFUdSwVDQw6nRPjSz2MwIjgbFT9etnnnOnGYYbhq97tx81v3762ejr+qGazft9dt41GhZ7Xb/UsC57iqIoiqKoYaloYNQ1i/2OwEhg7FQ9+/yL5vatBzIbhi9ds6bnY6/rh2o17/1yGmpRDeuypyiKoiiKGpaKBkaCSGeKwDgY7aTSDU3CDcOXHo9N3081yPOuGsZlT1EURVEUNSxFYOxiDVJgXFxcNMeOHXN17rnnpo8eHoGx+zXI864axmVPURRFURQ1LDUSgXHrnvvM4hf+xfy/H/9E6fryWWdH36udGpTA+NWvftWMjY1lSo91AoGx+zXI864axmVPURRFURQ1LDUSgfHzi1+MhsJmNYyBcWNjw5w4caIhHPra2tpyFXtOpdfqPdox6oHx6Wf2zNa9P3P1nz/4oasbb7rZ/fuBBzuzbAY5cKkGef6L5p2iKIqiKGpYaiQCow+Bneqgl61+C4ynnXZaNAj6ahUYVQqN7ehEYFS7xUaI9Vg/hq7Hn3jSrF5+RelR7f/99fNdiIy9V5nqduDSlyf5ee7EFyq+uj3/3ayieacoiqIoihqWOlBg3NvbMysrK+5at3ZKr9FrO+EggTH2XDer3wKjD31eGASblZf/dxkHDYyxkNKqDhNiOhVaFBY/vfD/ReevVSk4xt6zVXU7cMXmVRWb9iDV7fnvZhXNO0VRFEVR1LDUgQKjgl8YKNopvbYTDhMYW13TqA6/Th0M3+MgRWAcvcCodSs2b2Ur9p6tqtuBKzafqti0B6luz383q2jeKYqiKIqihqUOFBh1HZvuphmGijKl17R7DVyRwwTGVtc0+rBySeXbmfdptwiMBw+MR12dCi0Exvar2/NftvwXSSr9f2yafBXNO0VRFEVR1LDUSF3DmP93UelGJZ0Ijf0eGNt11IGx1Uiwr3Y6+EXVqdASrjvt1n9eeVX0PVtVtwNXbF5VsWkPUt2c/3ZCYPhFkqaPTZOvonmnKIqiKIoaliIwRkrTdCI0tlqOZUZbm00z7IGxnbvblu3gF1WnQouuYdR/b9u8w3zzkm81DY869flr//s886Nrr3Ov869tt7oZuFSxeVfFpj1IdXP+y4ZAbe/hZ9PrYtPlq2jeKYqiKIqihqV6etMbhaGD3gin24FRddjQ2Gw5zs/Pu/B12WWXpY800nOa5hOf+ET6SNawB8Z8u7Sq2HuUrU6FFo0SKpjoLqn66YzwOd3RVaNcYTDUOqY7pGr9Ouhn6EbgUuDNL9+i0rSx9yhb3Zh/VT4EqvRYbLow2Csslh2xLpp3iqIoiqKoYame3vTGXwcZPlbWUQRGVdiZbPeUwWbL0YdBVSw0hs8rXMYQGLMVe4+y1anQonUkP18aSdQdUPOVn04Ve89W1Y3AdcONG9H5i1U/BsZ8CPSlx8LQGE6Xf65MFc07RVEURVHUsFRPb3rjH//qV7+aPlJeNwNj/rf9fKdSHf/w8VbVajkWhcYyYVEIjNmKvUfZ6lRoiQVGlUatNm+/MxocVf924cqB78zbjcCl0im1sc8SloJl7LXtVKfnPxYCyz4We79mVTTvFEVRFEVRw1I9vYbRB5B+C4zNKnzfVlVmOeZDY9mwKATGbMXeo2x1KrToVMbYvOlaRZW/bjFfCpR6Lv9lRZnqdOAKq1lo7ERYVHVy/puFwPC5sA4aFlVF805RFEVRFDUsRWBss8L3bVVll2MYEn21CotCYMxW7D3KVidDi0JjPpiE4bDoNZpOobHdm990ct5jFQuNnQqLqk7Nf7OwGE6T/ywHDYuqonmnKIqiKIoaluraTW/yN7PRqaj5aXwAmZ6ezjyef23MMAVGaWdk0SMwZiv2HmWrU6FFI4S6iY1CiErX9+k0VQWsMoFRVfaGK746Ne/NKgyNnQyLqsPOv5aXbjTk56/ViKFCuZ+27N1Qi6po3imKoiiKooalunrTm/BmNu1e8xi+NmbYAqMoNJYNi0JgzFbsPcpWp0JXGPx0baKuS1SAVJBUWFSw0d1T86W7qvrX9WNgVCkoHvYGN7E67Pwr9Pllp2o1Yqjlq9eo2l3W+Sqad4qiKIqiqGGprt30Jn+Dm9NPPz06Xazyr41pJ4hoxEHl/x12Ltut8H1bVbuBrl0ExmzF3qNsdSp0hYExLD+6GHsuX/0aGLtVh53/To4YtltF805RFEVRFDUsNRLXMOYr7Jy3W7H3KyoCI4HRVyww+lM789cIEhjbm38tr06NGLZbRfNOURRFURQ1LEVgbLNi71dUBMbRC4w6HTI2kpgPjDo11b8mHzJ7HRj9jWPaqXAEv93q9PwfZRXNO0VRFEVR1LAUgbHNir1fUREYD9dO4amGreqwpyJ2OrQo9F12+RW1kJgPjCpdD6iAeUnl25nHCYyHm/+jrKJ5pyiKoiiKGpYiMLZZsfcrqn4LjO3eeChWp512Wvpu5RymnRScFARj7RBWJ05FPIrQcsGFK9H5z1evA+NR1yDPf9G8UxRFURRFDUv1NDDqRjhlbnATc1QjV2G1O4rVb4FRy1mBLxYEy5Re225bHaadjrKOIrRoNPFH117nfmajqA5yF9JBDlyqQZ7/onmnKIqiKIoaluppYDyMoxi5Cusgo1j9Fhh7gcDY/RrkeVcN47KnKIqiKIoalhrJwHhURWAkMB5FDfK8q4Zx2VMURVEURQ1LRQPjj/7r9rS7378IjATGTtWzz79obt96ILNh+LrDPq7nY6/rh2o178/18byrhnXZUxRFURRFDUtFA+NNt91jnv7Nc2mXvz8RGAmMnapfP/Ocue+BxzIbhq/7HnjUPv9s9HX9UK3m/Sn7fOx1/VLDuuwpiqIoiqKGpaKB8cFHnjS3372ddvn7E4GRwNipunPrQfPE7m8yG4avx598xtx5z0PR1/VDNZ333f6ed9WwLnuKoiiKoqhhqWhgVN1170MuNGqk8aU//CHt/vcPAiOB8TCl0wl//fSzLpAomITrfr4ee/JpN52m74dTJNuZ98ftvGtb7pd5V43KsqcoiqIoihqGKgyMKo006vRUXdOocNJPtfGTe9wNJ/q5YvM9arV51/3RZdPrumPrQXfKo0bh8ut9rBQONL1el3+vo65BnnfVKC17iqIoiqKoQa+mgZGiKIqiKIqiKIoa3SIwUhRFURRFURRFUdEiMFIURVEURVEURVHRygRGiqIoiqIoiqIoivKVCYzDSp/tD3/4g/njH//o6k9/+pMrAJ03zPuSYUfbjSbafTjRroOLtkO3tbuOjUxgfOmll1z54EhoBLqDA93gou1GE+0+nGjXwUXbodvaXcdGJjD+7ne/M7///e8JjECXcaAbXLTdaKLdhxPtOrhoO3Rbu+vYyATGF198sRYaOTUV6B4OdIOLthtNtPtwol0HF22Hbmt3HRuZwPjCCy+Y/f19Fxp1aiqBEegODnSDi7YbTbT7cKJdBxdth25rdx0bmcD43HPP1UYZ/bWMBEag8zjQDS7abjTR7sOJdh1ctB26rd11bGQC47PPPlsbZcxfywigczjQDS7abjTR7sOJdh1ctB26rd11bGQC497eXi0w5u+W2hG7m2ZtddVUN3bMfvpQT+3vmI3qqlld2zS7fTFDGBVHsS/Z21o3q6tVs769lz7Sh/Z3zWa1YlZW1832gGyDR3Yc2Nsya5UVU1nbMl1twUPtl/fN9nrVrmdrZquPV7NOGObj/ygr1a5Nt8XR2Qb6Ddskuq3ddWxkAuNvfvMb8/zzz7vTUtseYdzfNpWZcTM2sWDWd9PHcva3ls3k2Jg5sbBuCibpoD2zuTxlxsamzPJmwV58b8MsnBgzY5NLpmgSoBsOuy/Z36maueNj5vhc1exEe/m2E1OZsev/uJmrHs0XNPu7O2Z7e9vs7Pm/1rgNNkxjO2LLU3YbPD5fuN/oN0d1HNjfXjUz42NmfLaojTvjcPvlXbM2Z/f7Y9OmUjbx7+26dWB7Z7B2ut3fZofdvtnbse2+vdNXX9CWadf8tri7vmgm7L51prJlP9UBtoGBM7htN3r6s61a2zM7Oi5s7x5Jf6WsdtexkQmMzzzzzKEC4+rsMRe+NvolMK5Mm/HxabNS9LUfgRE9cth9yf7Ompm36+6JhbU+CYz7ZmtF4TD8e/ltMDINgbHQsAbGvQ11to/qONA53d9mh9z+ju0j2G29z4JVmXZtCIwbS3abOWbmVrftfmwEAuMAt93I6dO2amnX7h+P919/vN11bCRHGHXjm0xg3EtGBrYzX1nYXWX6TcbefvD/6bOO+zZ5yz2+s1nQMUmn2Sr6RqT2/HZb35js72p+7GuyM+S+xdB77eysExjRE632JX7dzQzC7KffwO3smv3a/++l4SzhRvC27Pa2s2O2CgJjbZqib/La3t40L5umujBh/96YmV5eN1uaR/tMfRssmKYwMCbfkm5tJZ+xn5Q6DvhRtGAB7qf70J30Mf8t8J6ddieyvAsDY4n2SZZdst+NLr30PZrulwuFbbNtqtHOcrqfdetifQ70uo3VOXPc/r1jsxWzsaVjR/qk1D5b/3073q1tNvqZ3WPJtF6y/oTLxR5zNU1RGzdIjtG+TRoXr2/XbJs5fn6CRilcn9O+gNYP/5xdOGZ7c80saVsfmzSLa5u5vkTvlNmeG7bFzGePBEbX1uk2WluUh9mn0XYxpfbFnm+T8LNl+H1W4/P+zJhdu7Pyy6e+nAtep+XmlvGebQL7erVN7Zibba/Y3BQdp7vWVh1YPuGql8ynX/+T17rPGm4btdm2/ZX1FbeNjZ2YN6ub2ffqpbbWMWukRhjDO6WGgXF/u2Jm7EF+fGa1dq2RO8XmmG3gqWWztbtlVqbt/9uO35rrddiVecOuAHrevi6sesdk3+ysL5mp8PkTc6ay6bst+2Z7bTH7/NiU3Qi2Sxwg98zm0qSdfsIsbiRT79uAmGxIuSIw4og135fY7aI6Z47ZdXNqebO2rus0qBP2sYnFDXugqJpZ7VxnV9MwsWcDYtIRz67fQWC0B5ON5Rn3vv75Y7MrZqO28z/g9uZH6sPXTa+YLXtgqG2DP7o2Po3dbzQExr1NU5k7kZl2emm9b0ZlyhwH/Cja5JJvv6RNx+1jUyvhaWzj5ni4jzw+W9v/NQbGEu2zu2lWZo8Hz9vXTy/ZZVtv49b75Sb2bEBcUJvmX1/vLO9trZr5iezzk25UzX/m4LnxWVN1H67VsaD3Or/NFn/m2rF1ppIeb/22dMIsphtK4zTF9nc3zPJ0dtlPLlRN7fLmyHpzYq5iNtP1pp31+YRGCWrvM2WWN+znSUexw/evv1dvldmeG0YY1xfcvjb72dNtYH/HrKVfjE3YZeza+hD7NNquWJm2k93NipnNfLYTZq5S/wyN+6xjZmbZt48/W8c+ru23Ns24mZpfNPOT4WMTZiE93taXW7btjs0smMXZZP3wNWXXhfouutlxujttddjlk5w5dNws1A7iu2Z9Qet72v+u9RFOmBPhMpxcMGs2GdaWb63C9+qtsuuYR2DUCKM75VQr6kzaMagfIKd1Hv9+NjC602/cCnjCzC5VzGpl2cylK5zvmOxt2RCqlcd2kpZW10x1Zd7t2PxprXtbK2Za/z42bRYrVVOtLJkZ956TZikNgcVygbE2/3YDml82lUrFLPmdLIERR6zlvsRvP1PL6bppd8CLOsjYdd8+oM5i2PnUKVJu2zk+YxZXKqayPF87WCWB0R707PbqRnamF02lWjWVBe3ktT2uuYPVgbc3d/OoilmcOebeb2Ju2ayubdk5DrbB6++NT5MfYbQHy/W0szU5v2Kqa6vpa8bNrDv9q/fKHAfKd9LsZ59aMCt2f7SyMO2eH5tYdPu/fCe1dfvsmY2ldNktVMz6xrpZTcPdxNKGm48y++Vie7ZjMO2mHffzvJjOs+8s2/Z0xwHb5vMra2Zjo2qWXGf3uJlf2zHb66v2cybr3djkfHKzIztjrY4F/aDT22zTz7yjewLY/z82lwRqGziW046pwqfe3odRrU/uzxWx22d1LtnuphaSbcof+6b1WhdwkjCj7bK6VjUr88l6c2wu+YK4rfV5Ys4s2X3QyuJM8gXWdMXcs7Pp1tdZ12k87ta9qoKxe6/eKrM9lw6Mm9tmbTFZdse17LSwDrNPo+2aKtN2trHMgtvH2X3SctWsVVfSfd6E3W/anYsN5Etu29JnW7XPV8zCVLI83DK2n7QWaOzxdamyGhxfbZ2w22/6mNt+J+z2axd0PbzZ8LWsfa1fhqqJ+mNufzxlVra0RFsdp7vQVh1YPuUDo90uZhfdsWMp/QJF6+WjW2tm1S/TcXt8W6nafWA/rGEl17EAgdFdw+gDYrqT045qXjsu/61aNjDurM27MOk7KrK3mXRqk46J70zmVjJ3gLUr6uajaedHHQ3/vNbtBXeQPD5vN570sbhsYPQ7fDeq4WfIbij9eM40hl/rfYnf4epAYtdfu9Ne1E58MumMZjufNii47SbcVrQTV+c+DYx++6yN6FjqhNbCmg8bB93eCq5hDL+0iU2TC4y1zxVsp7WzG2ojM71V5jhQvpPmOwqaxO9Tk1GkbCe1TPvsuUC2Wk1CmNRHoZLOY+v9chO+rew6tKo3EzvPyRdx9dGV5M7T+sIgUetcLyfBxi+b+t9rdSzwc9pbnd5mm3/mXbNV0fabrAt7m8v1kUh1SO32urms1ydhtJn62UHBSKQ/9tnH7rlntWGbsy8yFRf8k/WzvfU5fRO7f3EdzRPpjfDcuqL3TNeVPlFmey4XGI+bqWm1n5b1Sq1PcZh9Gm3XXJm2S/qt2v/4z699ULLPm7SPPWD3iWrLcJ9Y22+68OcDo/q+/timbV376mD79cso3T/6wFg/dmq5z7rlHraFD1tuv97yON35turE8ikdGNMvQ0Xrtr4APeZvAsY1jINDn615YNRKkjSodnJb2/X/d+tkJjDumS13d8RjdiPYca8VvwG5jkJtpY7VMTP33RuSb1jHZ+qdE6u2ok4FO8iobGd11+40/alBtZdx0xv0SJl9idZZ7bSnVjbNTu3/k053pvO5t21WG7aV+kHOhTO/M65tY2HNmMo99xxye+tMYPSdm+h81kZueqtM25XvpIUHddtmq8k32TOr22Yv7KTaNi7VPna/ur4SfPvtSx1KG1Ja7pfTx6Ls/l93+XSXINTaofFz7O9smMrCtOuEhPPgl0VDYGx1LLDrSj/o7Dbb+jP7kDi5tG7WXbtNmrm55L9L63YZa31IRzOa8SOR9XUxKzxttv68D6RJR/ZA63PuS+R6Ow9e6CgXGH37BZ156zD7NNquudZtV18W9TAT8s9n94kudLv9rcKfP2UyPLblAlH6WLgcG/er+eWePNbWcXp7p8Nt1ZnlUzowBn3tzP5Qs0lgHBz6bK0Co9sg9A24hoyXZm2HIDilIhoYs9+GZwNjusLp39MzZnZ2Nqh5s3L9rbUVsvZNi1W+A2tX9FhgDL4lia3EwFEotS+x66f75nBywSzP10cuJNv59IExGPnJHYj2/HZjt8mpmXBbszW/ZNa3fWA86PbWmcDoO0BjxybNTDiPtuYWq/Vv2XuoTNt1LzA2a5/ddKR5zByfsetMJTg1ORMYm+yX08eiaoExXBdyn8O3p23jqfTUf38Kql8WjYGxxbGgT85J7fQ22/Iz6700Qnl8ykxruds23NxMTmM9MTtnpvTfVm1mlQ0d2efrHUlCh1bRdgKjpqvUtpHD7NNou+Zat119WTQPRLnnexQYWx6nd3oVGJsvHwJjHYGxFhi1g0p2lG7H6K+vkNxKqw2jYZg7c+qT3bjc6Vd2hcqsiDbcpRf3JivcicyK6q/Vav+U1OTUjswNAnTudh+uoBh+5fYlfh1Ot7fp+rqb3dkqKCTbSn1b0oEoOCW11vkMtlmxISO5i9lht7fOBMb9rZXk1LtwO7X2d23HJ/h3L5VpO40ONXYWktORigOjb4PkwJvtpJZon73N5BTIE8FpP74D4gJjmf1yE7VTo8L9/o6pBqek+vY7NldfX/wxw3dYGwKjlkXTY0F/6PQ22/oz+1PNk/dy1wsFQbPhW/8Cvk1qZwOJ3e5WF+fM/PK62b4nOTUsf1pjcqqxAu/+wdbnkQuMuvHIplmdU7vWt7HD7NNou+Zat539rKv1z1pfRFWzOD9nFqv3mAfSEDeZOeUyDS+5U1K7HRjLHKc721bdXD7p/o3AOHz02coERttDSToldgU6Pp/sPJ3cSlu/ucKkWaismfW1Su1uUn4D0nnS2qB00f9ydcNsbq6blXl7gDw2Yyru3Pv0+ROzZmVt02yu+4txdZOHZBMsluus1nai42Z6cdWsr1fN8lx6MCYw4oiV3ZeE1y7NVOo3SMjvbP2pcLrL4kp13axVFs20nq/txPUtYHLDEl1Mv2o7NpvrycXr4+lpUYfb3pIDj95/aqlqNja3zK7t/OYDY8M0+bukuu3U3+ShYtY3N81GdclM29AzsegPvL1Vpu1qQc3u21bW7bJcW6ndZS7bSdNo4LKp2vZYX5lLRiImkmtR8p3Ulu3jv/W1oXJuRftcf3MN+1gaGMvsl4vV16HjM0umur5uVpdm0y8Q006S/9x2H75k18P11eXajR58YKx1gu3nXrefW9dbtjoW9INOb7NlPnP9C1o/Uuk7Z/ax8AvbZrReuGPfcTO7rO1uwwaOYNQ33ObssVHPV9ObGfmgUn59btKR1TRpSF5YtZ93y3cue6vU9lwqMKbbQO0mIemXAYfZp9F2TZXbF6f7vPFpu0+y8167EVfy5ZtOA3Vhxn62+cq6fX7NLNduLKR91hEGxpbH6c631eGXj7aHZKRb+/Q1u36vVxbSfWAbgdF/4WnDckXraZ/8rkbZ/b5HYAwDo109kk5gfog6v9La3ZA9ICad1mzVNyC7cVQXko5uUNPLG+6ujXp+u7qYHFRrdTy93a99/+0te5C1K1aktnd3c53VZMNYSDtHmSIw4oiV3pf47SpyKmJmZ6vtckWniQfrtavgILe/Y9bSzka99FtN/oBymO3NHiBtp2pWHRO9zm1T+cBoZyE/zaO5wKhpdjbMsg86vvTbTLWv0HurXNupPWZc5yDzOWzlA2Om7EHb3R7dvkO+k9q8fRK7Nqxk97np3/A3RNBfLtwvX2PubdHGbnTDnWqZf73vwNh9eiW2HtrP4W9uYN/DrdPu8eB1TY8FvdeNbbbVZ6519oNr3RS4NapUH3XaMztb8Tbb3Nwy6ne5n5TK/TTD8bn6aZP7kZ9mGJtaNGu1+S+7PjfryNoO81pykya9rvUXFEejTLu2Exhlb9O2kdrafnatA8X7tEdpu0Mot01qn7eS+9mIcTMTbGexnwLST6Loyyy9/ugCox5qdpw+QFv906q5Ibp+2XK/g3vY5WPpi4t0ZD1bbQRG+9k2XH9BrwuXdW+V3u+nCIyZwGg1/ICw2JVOPyKqHxRNHxH9mPHmxrrZ2NQPeOoHqsMfPE1omq2NNVNd2zBbkW8V/PNr68GPkNqNKvnBaL9iZmu6sm32aj8anrzEsfOwvblu1je27HvtpT98nHTQgHbph3dPnDjh/tuOdvYlyQ+C59bR/eTHb7M/+qttcMtsrK+bTW2ftR/TDV+5bzdfGwrWq2bNbgPZ5xIH3d405f7ullmvVs36ZrKzT+Y9uw1mp7EHt21/4EoncPT5NtPp6j/w22mXXXaZmZycNHs23JZVvu1se+gzrNn2sJ/PtYd+8Nl9mPqBf2XDLm+3TwqWt+zbfZXtTG7l2j7aPgH9KLee1z5ux36u2n4589aR/fL2vaXa2LXN1oZZX9f+ejf9gebs8UDr2Mb6mvth/uT9ta4Gn8POo9bB6rpGotPHLP/Zio4FndBf22yrz5wcV7PHTL2PX4+s3bQzFmkzddhqd1HV37fr0/qabZfoMS/d5vS8tsf00bpm67OaNFnP6u0Z6xPoPTbMWnWtKyMIXdue89ui+kBNP3v6WDBNbfmG+zTarqa7+2JLbWb3s2tuO2tcgknf0H4+LaPc50t+RD97LE2WWfbYllmOWmfS7d3Tvjlc7hJ7by3rouN0u231Xz88J/clY1DH/ReJ1iGWT0LrqH1exwW7jrr9Vm35aP20yyJcd6P7wz37N5J94Xa2Q3BoB1m/pK11zCIw5gNjX7AdTbdy245TQ9mOUO2rD6A7tOM5diz51lj/bacDOnj7kuHb3r761a/WDpztBIjOtF3km+KeG/596lBus7ZjumXDf7TdbOdtVA6Fvd2eD4i2cway7QbF3rb78i62julLxSC7Dq2Drl/S7jpGYOzLwAj0jnY4Kn1r5XdE73nPe9JnW+NA11tqN4WH+fn5Wvvp/8voTNv1Y2Acbmyzw6v32zMOirZDNx1m/ZJ21zECI4ERqFGnU6MTfoRCO6ThH2EcHv7A8YlPfKL27ze/+c1mZ6fc7/11qu0aTy1Ct7DNDq9+2Z7RPtoO3XTY9UvaXccIjARGwPEdT+2EVL7TqW+w2sGBrjf8AcSXv6ahnfaj7QYL2+zwYnseXLQduqkT65e0u44RGAmMQEPHU+U7n+3iQHe0dJCYnk5uVx6Wvm3s9gEEvcM2O5zYngcXbYdu6uT6Je2uYwRGAiNGXCc7nsKB7ujoIKFvF8O2Ux3VAQS9wTY7nNieBxdth27q9Pol7a5jBEYCI0ZYpzuewoHuaBQdQE4//fQjO4Dg6LHNDie258FF26GburF+SbvrGIHRB8bdVTPjG2JxM3msQzYXfQPPmNV++EVY9N5O1cwvrQe/0XMIe2tmcX7NlL/UOdGNjqdwoOu+ogOIrm04DNquv7HNDie258FF26GburV+SbvrGIExFxgX1vfSH4HeNasz2QZSHZuYNYvrQdd8c9E+3hgEd1ZnzPi4fVyT7tv33KqY6UMERhc6OxxkkbW/XTWVNf8D3l20WzUzx9J1w9k326sLZup48sPi48enzEI1H/82zWJuXVTNpCuU1rdJu36UnfdudTyFA1136S5o/XIAqUvWT3ZR3dPzbXZ3w1Qqm8EPaKMTer892+NPtWLW+AmcttF26KZurl/S7vGewJgLjPUOTxoYF9Zdwk9q126ci2ZyfNzMVNPkFwmM+/axibEJ+17BRuzefxgD4/B0FLdXJszYxIrZTv/dHXvuN+pmq/Vu1251xoxPzJvVrV23nu2sL9j1Z9wsbATrz96amdPv2m35dTGt2iTbpjJlX7Ne7sCh32gLd0Cd6nhKuX1JN9ab0Qgt+bZT9eoAUtf+st9dnTFjM6t2T4syer3N7q3Nm/HxebPWRmLki87Wer89b5uViTEzsdLGke+Q/ZlhQduhm7q5fkm7x3sCY6vAGDnYbVds4p9eTU4BzAfGHfs+48dsIMiNEBEYIVvL5sT4gqlnQRv0JscyAVLfGq4v5NrbrT8Lplke3LdBc2yqUurU1HBH1MmOp5TblxAYDyp/EFlcXEyfObyDHwcIjN3W+222fQTG1vpze26B0OHQduimbq5f0u46RmA8QGDcWZ02Y5OVZCQqDIz7ttM0MW5m6uca1pXYSHc3ls3sRHLK0fjxGbO8UZ84OfCumc2VGXN83P7/+HEztbie7Wztbpjl2QlzzK1cx8zUwqqpn6mQduhW18z85Hi9o7a3ZVYXppL3HBs3x2eWTfBnnaL5ch0+97fSCjt/O+tmcea4GXevmTILq8GpnumyWKmumOlj9nUNy3jPVGfHzInlsEOUhKj6Y3tmK3MaZ3Z5JZ3RFVNdmXbLQ39ic9FOO1sNTqnaNxsL9rH55FrCbAc2XV5rm2Yl/Rxjx6bM4np24extrpgZNw/psqva9aFJJ3hr+YT9vBvpvxL7e3v1ZZPasO09vhQsl80lOw+Ldq6a2F83C2OTplLiy0a/I+p0x1Na7Uuarjc27q4vBut4sA4np3kHoXl/wyye0Gm5Oy3ec7iEBxH9SHsnlT4O7G+7/Ybb19jtYmF1xczb/89syoX7o2TbCtur/ro9s1mZM1PaL9jXTMw27o9GVS+3Wccd6+r7oIZjktrYH5PS42m9jcNjX/E2ntgx1cy6tW73wbl161DHl/7S++056ev4yxv88qtsVM3ClD/uz9njSrKEXbun8+sqWL57mxUzl75Gl++Ex2Rpfbxsvv0n69yqWZuftG3f+9BD2w1u2w2Cbq5fUvp4nyIwthkY9+2BakGnAPjg4gPjzo6dftycsGEgc+zz0g25aCNxp7GOT5mljZ3gtMQJs5Se1pps6BNmfnXL7Nrnd7fsxhuetmg7zws6VbZin9/fN/u7W6Zi52d8wc9P2kk7NmtW1jfMxuaOfXzHVKbsZ1lYNzt79jX79kC+MJEZpWo1X/59M4tJp0+OT5iF9eQ1e9tVM2+D9Jw/lyld1uOTi2Z1w87LduM5Tm607MSyqXWLXBg6Yfxi36lMmbEJGx52bNiynzeZrylTSWc8CRDjZtLuoDbs33B/QqN7Y7OmPphn5912WvxpnLHAqOVVcaeK7pot2zEaC0/J2q6YKfs33DJ3bbJqP6d9TWFYsevIdLBzL6LPOl7/rM6GXc9OTJmZqaCT1HCdY/r+/nTpHim3L4msN/aAo9N1k/VRp9xum+r8hBmfW0tD/q6pum0suVZza9muq3ZZ15dC7D3RjnJtpy9vbMch3f729nbMxtKUWy9ry77l/ii/vSXUpuMzFbO1q/fdNZvL9n0ngv0AuqJUu8cCo+0Yztb2f8kxaT44ZzXpJGYODi228RLrVgeOL6Oi3PYcCx3J8vNtsLZwInu5Rqw/Y4+vE+M2rKSXVuxuLpsp206141iJ42Wr7b+2zq2s2+P6ptnxO5MhRNuh28qtY3UExlaB0T6WLX1THtyR0h1EJ83MzKSZnNQGE3ZgA7GNtEYd4TEzmTsPfXN50kytJJub29jsQba+jSXzVx9x23cbergNxgJQ/hq3htGtTKeg9Xz59w37BG4ULTOvNspoVHammsyLWxYtRsJch7MemvY3FuxOMB3VFd1IKDvjmflwnz2c3tkyy25EKm0E+1k1YuUzd8vl5a4jHLdhOfmn+5yZEcv8e+SVCTTJFw8TdqLw4+1tLJnp6QVT2VQnacdsrsyaYzZAZ66Tta/QKGxmZLIHyu1LIsvCBfrcabc7q+5mUbUMrBsG6UC2umIPYFO5dajM8kUzpdpObRB8eZPIL/tW+6PItuK2r/x+YcO+b32bQ3eUavdYYMzs5xUGs/ufhsDYaht360Dzdasjx5cRUW5fHAsdueXn2i3cD+f7M0nbT+YWenimTMvjZYntv3GdG160Hbqt3DpWR2Bs66Y3kVXdHUTHzaTdKjRip9fURh9DDRtpKD0gZs9UzGg48Pr5Cx7TXT4Xa6eApVXrkBV0pnc3zMqcPyXVl+8UtJ6vxvdNQmb9vYLy89J0WXjJ6aJJIE7+f8oPHzq7ZmNlrnZKqi8/H0XBzV1/mj6unWDxiEdseYWPJZ8ze9ps8d9NFLRBzb5t5wkzPrVstlruVdPrHHM74Mb15OiV25c0Lgvd/Cdsy3pl1xV3aqp9fCp3gGu9fNFKqbZz+7xcpz+y7JvvjyLbijvtOpg2KNq0u8q3e/6U1GzD5B/L/7vlNu7WgbncjXUa97vR9/DrUqnjy2goty+OhY7c8ss/1jDNplnK9CGCcg1X4nhZYvvvh+PbUaHt0G3l1rE6AuMBrmHMcAfRYONzN73J3SFVYhtyTXpAPExg1Dc84yfM3OpW7Vug1gFoyyxP2I63/cO10wMynYLW89X4vsl8TSxvBkE7F7ibLouAnZdxd1qq/Rvj9dNNxZ2OOLVoNuoznpmPwuC2o1Mr9Lc12jieWR6tl1f4WPxbucK/68Tes84FoQm77HOrTpHY32q49rEHyu1LGpeF+zwTy2azYb3JjlRt63Rk+9oJ9yVNqPnyRWul2i7dR2R3C7ll33J/FFl/3fvOmao7laq4/dF57bS7b+JYBzD/WP7fLbfx2AhkZt3q4PFlBJTbF3cmdKiN5qrpacJhuWYpcbwssf2PUuig7dBt5daxOgJjpwOj1XBzDoltyDXJNzj5DXJnbcksrSUpqXFjy81f7mAuyWk6vkMW6UzH5knXytXep/V8xd53c2k82xHMa7osQgp1k2alYoNj5u6fuZ2ko9Mf6vPR0BmtSV87N2dOhNdIWtnXRJZX7rH2T0ktvoZxpzprjh2btTvc9IGMpB3yr3M38cmMMA74NYzuW8oW68W2Av+UqazbdWg8vJZWYm2GdpRquxKnDbbeH0W2lfRU14Yv29B1pdo916axDmD+sYZpWm3jJdatzh1fhl+5fXEnQkc6CmUbqWjrbXm8LLH9j1LooO3QbeXWsToCYxcCY7IBjmevZ4xtyAF/c5nlzfS3+DaW3EXHmZveZOYlN39u5Kx+UXLyevt8LRRFOtPuOsGx2g0IahcyB6cEtZqvJNSNuWsaa9/wulHWcTO1tJHe2EB3xZs0U7YX4KZosSxCbkdl5zsbltK7m/obI+xumdX5CTedv/FBs+C2Z8OZpm1+OmksfOQec5+jnZvepJ8nN2Sb/G7nlFlJl3FYfinvrc2Z8eCi9OQmP7kddBt3Se2mcvuSyHrjTum2283UktlIv6ncWV80k7VTdLOnfLuRxomlYEQ29p5oR7m2K3Fjkpb7o2SdHhtfMGu7fj1PTskeC36TdHerYmaP2/1RiX0FDq5Uux8gMLr93dSK2arty1pt41oH7GuarludO74Mu3Lb8wFChwv242bBbph+V5scx+o35tNxuTJ73B6Tw/dtdrxsvf3H1rlhRduh28qtY3UExq4ERsudkmU3MP8TG7ENOSf8+Yr8bY0bN7bG+dPrG257XDu9JxaA7Ga+vVq7/fKxqQWzuq473WVDR7P5kt21eTOpzqC/6YDlrl/yP0cxftzMLNpQmj5XZlnUuFOUwjubphpu65/cet2PhjYLjDYxmtmGb7HzrykRGK3sraYXzcpidhSlgT7PeDjykrajPkdDhcto32w3+RkRcTcGKvk7jN1Udl8SW2/UrlV/y/10ma6nH0gj92MnFoPfsLQB0R60wmuGo++J0sofB/I/fVA1S5PZbaP5/sja3zIr09qvhDe1Sa9Ndrdm1z5pzlQ28xs/Oq1Uux8gMNoNMvkZJ7svq5340GQbT2TXrbnKcsNPtnTs+DLkym3PBwgd9ni0lf5kVXgJxO7GSu2nGZK228yMSrU+Xjbf/gmMebQdDq788T5BYMwFxoX1vdzdNztAd/Tcqrg7wWU2ZPSGQlvudNROSW6q0yys6HqA8dwP9XeCDhzjDXfB7YVh3pcMO9puNPV1u7szJ7hT7kH0+/bc+ng5umg7dFu769jIBMbf/OY35vnnn28ZGN23Kx3+FsR9s+Lem8DYW/tmb2fTLNtglb3j6gFtr5jJ3CkYOlWq9ntgRTT6fMyuCx0cCtTo26Rdb3sfF/v/QIditN1o6p923zPr88eyp5vqt4H5Lc4D6avt+aDHyxFF26Hb2l3HRnKE8fe//31jYMTwc6dU5X5H85DC03Xdj+mvbpcLbTtrZn65/pMeh2ID6OJ85z7TYQ3zvmTY0Xajqa/afW/LXW6QnLJ6zEzMLpvc2fcoqd+25wMfL0cQbYdua3cdG8kRRgIj0D3DvC8ZdrTdaKLdhxPtOrhoO3Rbu+vYyARGDaO/8MILZn9/37z00ksERqBLONANLtpuNNHuw4l2HVy0Hbqt3XVsZALjs88+WwuMjDAC3cOBbnDRdqOJdh9OtOvgou3Qbe2uYyMTGHU66m9/+1t3wxuNMPqwSGAEOosD3eCi7UYT7T6caNfBRduh29pdx0YmMCosxkYXCYxAZ3GgG1y03Wii3YcT7Tq4aDt0W7vr2MgERv9zGly/CHQXB7rBRduNJtp9ONGug4u2Q7e1u46NTGBUWGR0Eeg+DnSDi7YbTbT7cKJdBxdth25rdx3LBMZhrp9t/8L8/IEdc/+Dj7rafugxV7FpKYqiKIqiKIqihrXakQmMGnHT6JtKI3EqncKpkTmN0A1aab79Kah+ZJHRRQAAAAAopyEw+soHRx8ew3/3a+XnMx8UVQAAAACA5hquYQxDlcqHrTBwhY/1WzWbb18AAAAAgNaa3vQmH7QGuQAAAAAA7WkaGAEAAAAAo4vACAAAAACIIjACAAAAAKIIjAAAAACAKAIjAAAAACCKwAgAAAAAiCIwAgAAAACiCIwAAAAAgCgCIwAAAAAgisAIAAAAAIgiMAIAAAAAogiMAAAAAIAoAiMAAAAAIIrACAAAAACIIjACAAAAAKIIjAAAAACAKAIjAAAAACCKwAgAAAAAiCIwAgAAAACiCIwAAAAAgCgCIwAAAAAgisAIAAAAAIgiMAIAAAAAogiMAAAAAIAoAiMAAAAAIIrACAAAAACIIjACAAAAAKIIjAAAAACAKAIjAAAAACCKwAgAAAAAiCIwAgAAAACiCIwAAAAAgCgCIwAAAAAgisAIAAAAAIgiMAIAAAAAogiMAAAAAIAoAiMAAAAAIIrACAAAAACIIjACAAAAAKIIjAAAAACAKAIjAAAAACCKwAgAAAAAiCIwAgAAAACiCIwAAAAAgCgCIwAAAAAgisAIAAAAAIgiMAIAAAAAogiMAAAAAIAoAiMAAAAAIIrACAAAAACIIjACAAAAAKIIjAAAAACAKAIjAAAAACCKwAgAAAAAiCIwAgAAAACiCIwAAAAAgCgCIwAAAAAgisAIAAAAAIgiMAIAAAAAogiMAAAAAIAoAiMAAAAAIIrACAAAAACIIjACAAAAAKIIjAAAAACAKAIjAAAAACCKwAgAAAAAiDDm/wcyUpdZa3gckAAAAABJRU5ErkJggg==)"
      ],
      "metadata": {
        "id": "pGFHuxQSz4Oc"
      }
    },
    {
      "cell_type": "markdown",
      "source": [
        "### **Create functions to update or add information**"
      ],
      "metadata": {
        "id": "sHzIjfW1oT3W"
      }
    },
    {
      "cell_type": "markdown",
      "source": [
        "As you can see, the table is empty. To aggregate the dataframe data we will have to create aggregation and update commands. Why? Because the data we have (video_id, like_count,...) are changing as visits increase and users interact with the content. At the same time, the channel owner can upload new videos. So, it is pertinent in this case to create functions that add the new videos to the table and update the information of the existing ones.\n",
        "\n",
        "We will start by creating the two functions and then use them within another function that will define which function to use, depending on whether the video (from the dataframe) exists or not in the table in which we insert the data."
      ],
      "metadata": {
        "id": "YrvttGsk0R21"
      }
    },
    {
      "cell_type": "code",
      "source": [
        "#Create a function to check if a video already exists in the table and return the row if that is the case\n",
        "def check_if_video_exists(curr, video_id):\n",
        "  query = (\"\"\"SELECT video_id FROM videos WHERE video_id = %s;\"\"\")\n",
        "  curr.execute(query, (video_id,))\n",
        "\n",
        "  return curr.fetchone() is not None"
      ],
      "metadata": {
        "id": "hGOZ3aq1Lg46"
      },
      "execution_count": 15,
      "outputs": []
    },
    {
      "cell_type": "markdown",
      "source": [
        "This function executes a SQL query by using execute and curr, as we saw before.\n",
        "\n",
        "It highlights the use of %s, which is a parameter that acquires the video_id value of the dataframe. Then, the query will look for the video_id value of the videos table that is equal to the video_id value of the dataframe.\n",
        "\n",
        "In the execute parameters we put the query and, as we have used %s inside the query, we must also add the variable from which it takes the value. It is passed forming a tuple, that's why video_id is in parenthesis and with a comma. Finally, we ask the function to return the table row (fetchone()).\n",
        "\n",
        "Then, the function does the following. It uses the parameters curr and video_id to execute a query in the database. This query consists of selecting the video_id that is also in the dataframe. If it finds it, it returns us the row (since it is in the table). If not, it cannot return a result so it returns None."
      ],
      "metadata": {
        "id": "_908LzPINetH"
      }
    },
    {
      "cell_type": "code",
      "source": [
        "#Create a function to update the row that exists in the table\n",
        "def update_row(curr, video_id, video_title, view_count, like_count, comment_count):\n",
        "  query = (\"\"\"UPDATE videos\n",
        "              SET video_title = %s,\n",
        "                view_count = %s,\n",
        "                like_count = %s,\n",
        "                comment_count = %s\n",
        "              WHERE video_id = %s;\"\"\")\n",
        "  vars_to_update = (video_title, view_count, like_count, comment_count, video_id)\n",
        "  curr.execute(query, vars_to_update)"
      ],
      "metadata": {
        "id": "PyYeKAOBQ_Dx"
      },
      "execution_count": 16,
      "outputs": []
    },
    {
      "cell_type": "markdown",
      "source": [
        "Here we do something similar only changing the query. We define a query that updates the data in the videos table where video_id corresponds to the id of our dataframe. We define again the values of the dataframe with the parameter %s.\n",
        "\n",
        "To execute we pass again the query and the variables that will be used for the parameter %s, only that we put them in a variable (vars_to_update) to facilitate the readability of the code.\n",
        "\n",
        "In the parameters of the function we put curr, which is the variable that we created before and uses our connection to the database and the cursor() function to execute the SQL query, together with the variables of our dataframe."
      ],
      "metadata": {
        "id": "0JyokIuFSQNw"
      }
    },
    {
      "cell_type": "code",
      "source": [
        "#Create a function that updates the database using previous functions\n",
        "def update_db(curr,df):\n",
        "  #Create temporary dataframe to store rows that are not in the table (new videos)\n",
        "  temp_df = pd.DataFrame(columns = ['video_id', 'video_title', 'upload_date', 'view_count', 'like_count', 'comment_count'])\n",
        "\n",
        "  #Check if video exists and determine what to do\n",
        "  for i, row in df.iterrows():\n",
        "    if check_if_video_exists(curr, row['video_id']): #If video exists then we will update\n",
        "      update_row(curr, row['video_id'], row['video_title'], row['view_count'], row['like_count'], row['comment_count'])\n",
        "    else: #If video doesn't exists we will append to the table\n",
        "      temp_df = temp_df.append(row)\n",
        "\n",
        "  return temp_df"
      ],
      "metadata": {
        "id": "hheCw1zEosJ2"
      },
      "execution_count": 17,
      "outputs": []
    },
    {
      "cell_type": "markdown",
      "source": [
        "The iterrows() function is a pandas library function that iterates over the rows of a dataframe, returning the row index and a series of row data. So the loop has i (index) and row (row data as a series).\n",
        "\n",
        "The **first part of the loop** checks if the dataframe video already exists in the database table. It does this by executing the function we created earlier, which on the back end is doing a SQL query and returning the row in question if it turns out that the video is already in the table. In case the function returns the row, a function that updates it is applied. \n",
        "\n",
        "This function (update_row) also executes a SQL query in the backend and uses several parameters, among them video_id, video_title, etc. What happens is that we cannot write the names of the parameters as they are because we are inside a loop, where we only have access to an index and a series with data of a row (i, row). That's why we use row['video_id'] for example, to access the concrete data within the series.\n",
        "\n",
        "The **second part of the loop** is executed when the first one does not return a result, which would mean that the video in question is new (not in the table). In that case, what happens is that the row is stored in a temporary dataframe created just before the loop, following the same structure as df.\n",
        "\n",
        "All of the above is included inside the update_db function, which has as arguments the variable curr and the dataframe. Now **what is missing is to add a function that executes an INSERT query to add the rows of the temporary dataframe (temp_df) to the table**. That's why the function ends up returning temp_df."
      ],
      "metadata": {
        "id": "MENXHI1hL6NP"
      }
    },
    {
      "cell_type": "code",
      "source": [
        "#Using update_db function\n",
        "new_vids_df = update_db(curr, df)"
      ],
      "metadata": {
        "id": "4_AUoPc6McxQ"
      },
      "execution_count": 18,
      "outputs": []
    },
    {
      "cell_type": "code",
      "source": [
        "#Commit all SQL commands to the db\n",
        "conn.commit()"
      ],
      "metadata": {
        "id": "QVYkSKISZPGN"
      },
      "execution_count": 19,
      "outputs": []
    },
    {
      "cell_type": "markdown",
      "source": [
        "The **first time we run this query no record will appear in the table** (you can check this by running SELECT * FROM videos in postgreSQL). This happens because as the table was empty (we had just created it) no video had to be updated. As a result, all the records from our dataframe have moved to the temporary dataframe as a result of running update_db, which are now in the new_vids_df variable."
      ],
      "metadata": {
        "id": "alosJJ9aaOlz"
      }
    },
    {
      "cell_type": "code",
      "source": [
        "new_vids_df.head()"
      ],
      "metadata": {
        "colab": {
          "base_uri": "https://localhost:8080/",
          "height": 206
        },
        "id": "y3u5x7YRaLDw",
        "outputId": "d7e3b6b7-a105-43a4-941c-88f044f4fc9c"
      },
      "execution_count": 20,
      "outputs": [
        {
          "output_type": "execute_result",
          "data": {
            "text/plain": [
              "      video_id                                        video_title upload_date  \\\n",
              "0  e2g0hPK_4oA           La Decisión Más Importante De Mi Carrera  2023-02-02   \n",
              "1  ZMEo0LDVtDA  💥 Cómo Aprovechar la Crisis Inmobiliaria en Es...  2023-01-18   \n",
              "2  W1Ghb9J8ewE             ¿Habías Oído Hablar de este Trabajo? 😎  2023-01-16   \n",
              "3  BAu1gM-IIGU             Cuánto He Ganado Como Youtuber en 2022  2023-01-09   \n",
              "4  6-N-0Q0cKwc                                       He Fracasado  2023-01-01   \n",
              "\n",
              "  view_count like_count comment_count  \n",
              "0      16557       1786           161  \n",
              "1     138205       7225           439  \n",
              "2     103451       3275            62  \n",
              "3      68879       4503           442  \n",
              "4     122587       8971           739  "
            ],
            "text/html": [
              "\n",
              "  <div id=\"df-49dcc204-d61f-4f03-999a-b45a879b7ff4\">\n",
              "    <div class=\"colab-df-container\">\n",
              "      <div>\n",
              "<style scoped>\n",
              "    .dataframe tbody tr th:only-of-type {\n",
              "        vertical-align: middle;\n",
              "    }\n",
              "\n",
              "    .dataframe tbody tr th {\n",
              "        vertical-align: top;\n",
              "    }\n",
              "\n",
              "    .dataframe thead th {\n",
              "        text-align: right;\n",
              "    }\n",
              "</style>\n",
              "<table border=\"1\" class=\"dataframe\">\n",
              "  <thead>\n",
              "    <tr style=\"text-align: right;\">\n",
              "      <th></th>\n",
              "      <th>video_id</th>\n",
              "      <th>video_title</th>\n",
              "      <th>upload_date</th>\n",
              "      <th>view_count</th>\n",
              "      <th>like_count</th>\n",
              "      <th>comment_count</th>\n",
              "    </tr>\n",
              "  </thead>\n",
              "  <tbody>\n",
              "    <tr>\n",
              "      <th>0</th>\n",
              "      <td>e2g0hPK_4oA</td>\n",
              "      <td>La Decisión Más Importante De Mi Carrera</td>\n",
              "      <td>2023-02-02</td>\n",
              "      <td>16557</td>\n",
              "      <td>1786</td>\n",
              "      <td>161</td>\n",
              "    </tr>\n",
              "    <tr>\n",
              "      <th>1</th>\n",
              "      <td>ZMEo0LDVtDA</td>\n",
              "      <td>💥 Cómo Aprovechar la Crisis Inmobiliaria en Es...</td>\n",
              "      <td>2023-01-18</td>\n",
              "      <td>138205</td>\n",
              "      <td>7225</td>\n",
              "      <td>439</td>\n",
              "    </tr>\n",
              "    <tr>\n",
              "      <th>2</th>\n",
              "      <td>W1Ghb9J8ewE</td>\n",
              "      <td>¿Habías Oído Hablar de este Trabajo? 😎</td>\n",
              "      <td>2023-01-16</td>\n",
              "      <td>103451</td>\n",
              "      <td>3275</td>\n",
              "      <td>62</td>\n",
              "    </tr>\n",
              "    <tr>\n",
              "      <th>3</th>\n",
              "      <td>BAu1gM-IIGU</td>\n",
              "      <td>Cuánto He Ganado Como Youtuber en 2022</td>\n",
              "      <td>2023-01-09</td>\n",
              "      <td>68879</td>\n",
              "      <td>4503</td>\n",
              "      <td>442</td>\n",
              "    </tr>\n",
              "    <tr>\n",
              "      <th>4</th>\n",
              "      <td>6-N-0Q0cKwc</td>\n",
              "      <td>He Fracasado</td>\n",
              "      <td>2023-01-01</td>\n",
              "      <td>122587</td>\n",
              "      <td>8971</td>\n",
              "      <td>739</td>\n",
              "    </tr>\n",
              "  </tbody>\n",
              "</table>\n",
              "</div>\n",
              "      <button class=\"colab-df-convert\" onclick=\"convertToInteractive('df-49dcc204-d61f-4f03-999a-b45a879b7ff4')\"\n",
              "              title=\"Convert this dataframe to an interactive table.\"\n",
              "              style=\"display:none;\">\n",
              "        \n",
              "  <svg xmlns=\"http://www.w3.org/2000/svg\" height=\"24px\"viewBox=\"0 0 24 24\"\n",
              "       width=\"24px\">\n",
              "    <path d=\"M0 0h24v24H0V0z\" fill=\"none\"/>\n",
              "    <path d=\"M18.56 5.44l.94 2.06.94-2.06 2.06-.94-2.06-.94-.94-2.06-.94 2.06-2.06.94zm-11 1L8.5 8.5l.94-2.06 2.06-.94-2.06-.94L8.5 2.5l-.94 2.06-2.06.94zm10 10l.94 2.06.94-2.06 2.06-.94-2.06-.94-.94-2.06-.94 2.06-2.06.94z\"/><path d=\"M17.41 7.96l-1.37-1.37c-.4-.4-.92-.59-1.43-.59-.52 0-1.04.2-1.43.59L10.3 9.45l-7.72 7.72c-.78.78-.78 2.05 0 2.83L4 21.41c.39.39.9.59 1.41.59.51 0 1.02-.2 1.41-.59l7.78-7.78 2.81-2.81c.8-.78.8-2.07 0-2.86zM5.41 20L4 18.59l7.72-7.72 1.47 1.35L5.41 20z\"/>\n",
              "  </svg>\n",
              "      </button>\n",
              "      \n",
              "  <style>\n",
              "    .colab-df-container {\n",
              "      display:flex;\n",
              "      flex-wrap:wrap;\n",
              "      gap: 12px;\n",
              "    }\n",
              "\n",
              "    .colab-df-convert {\n",
              "      background-color: #E8F0FE;\n",
              "      border: none;\n",
              "      border-radius: 50%;\n",
              "      cursor: pointer;\n",
              "      display: none;\n",
              "      fill: #1967D2;\n",
              "      height: 32px;\n",
              "      padding: 0 0 0 0;\n",
              "      width: 32px;\n",
              "    }\n",
              "\n",
              "    .colab-df-convert:hover {\n",
              "      background-color: #E2EBFA;\n",
              "      box-shadow: 0px 1px 2px rgba(60, 64, 67, 0.3), 0px 1px 3px 1px rgba(60, 64, 67, 0.15);\n",
              "      fill: #174EA6;\n",
              "    }\n",
              "\n",
              "    [theme=dark] .colab-df-convert {\n",
              "      background-color: #3B4455;\n",
              "      fill: #D2E3FC;\n",
              "    }\n",
              "\n",
              "    [theme=dark] .colab-df-convert:hover {\n",
              "      background-color: #434B5C;\n",
              "      box-shadow: 0px 1px 3px 1px rgba(0, 0, 0, 0.15);\n",
              "      filter: drop-shadow(0px 1px 2px rgba(0, 0, 0, 0.3));\n",
              "      fill: #FFFFFF;\n",
              "    }\n",
              "  </style>\n",
              "\n",
              "      <script>\n",
              "        const buttonEl =\n",
              "          document.querySelector('#df-49dcc204-d61f-4f03-999a-b45a879b7ff4 button.colab-df-convert');\n",
              "        buttonEl.style.display =\n",
              "          google.colab.kernel.accessAllowed ? 'block' : 'none';\n",
              "\n",
              "        async function convertToInteractive(key) {\n",
              "          const element = document.querySelector('#df-49dcc204-d61f-4f03-999a-b45a879b7ff4');\n",
              "          const dataTable =\n",
              "            await google.colab.kernel.invokeFunction('convertToInteractive',\n",
              "                                                     [key], {});\n",
              "          if (!dataTable) return;\n",
              "\n",
              "          const docLinkHtml = 'Like what you see? Visit the ' +\n",
              "            '<a target=\"_blank\" href=https://colab.research.google.com/notebooks/data_table.ipynb>data table notebook</a>'\n",
              "            + ' to learn more about interactive tables.';\n",
              "          element.innerHTML = '';\n",
              "          dataTable['output_type'] = 'display_data';\n",
              "          await google.colab.output.renderOutput(dataTable, element);\n",
              "          const docLink = document.createElement('div');\n",
              "          docLink.innerHTML = docLinkHtml;\n",
              "          element.appendChild(docLink);\n",
              "        }\n",
              "      </script>\n",
              "    </div>\n",
              "  </div>\n",
              "  "
            ]
          },
          "metadata": {},
          "execution_count": 20
        }
      ]
    },
    {
      "cell_type": "markdown",
      "source": [
        "Next we will create a command to insert all this data into the table."
      ],
      "metadata": {
        "id": "-9Ax5zyaa9LO"
      }
    },
    {
      "cell_type": "code",
      "source": [
        "#Create a function to insert values into the table\n",
        "def insert_into_table(curr, video_id, video_title, upload_date, view_count, like_count, comment_count):\n",
        "  insert_into_videos = (\"\"\"INSERT INTO videos (video_id, video_title, upload_date, view_count, like_count, comment_count)\n",
        "                            VALUES(%s,%s,%s,%s,%s,%s);\"\"\")\n",
        "  row_to_insert = (video_id, video_title, upload_date, view_count, like_count, comment_count)\n",
        "\n",
        "  curr.execute(insert_into_videos, row_to_insert)"
      ],
      "metadata": {
        "id": "ZjXt0LV3aL_U"
      },
      "execution_count": 21,
      "outputs": []
    },
    {
      "cell_type": "markdown",
      "source": [
        "Done this, we are going to create a function that makes a loop that executes this new function for each video, instead of inserting all the data at once. This way we will avoid performance problems."
      ],
      "metadata": {
        "id": "mlAhyMj6ce-H"
      }
    },
    {
      "cell_type": "code",
      "source": [
        "def append_from_df_to_db(curr, df):\n",
        "  for i, row in df.iterrows():\n",
        "    insert_into_table(curr, row['video_id'], row['video_title'], row['upload_date'], row['view_count'], row['like_count'], row['comment_count'])"
      ],
      "metadata": {
        "id": "rDEOJMTJceQQ"
      },
      "execution_count": 22,
      "outputs": []
    },
    {
      "cell_type": "markdown",
      "source": [
        "Now we can run the function and add the data from the temporary dataframe."
      ],
      "metadata": {
        "id": "XP4IV_eJddPR"
      }
    },
    {
      "cell_type": "code",
      "source": [
        "#Using new function to append new videos from temporary df to the table\n",
        "append_from_df_to_db(curr, new_vids_df)"
      ],
      "metadata": {
        "id": "ATrUHhCidVKC"
      },
      "execution_count": 23,
      "outputs": []
    },
    {
      "cell_type": "code",
      "source": [
        "#Commit SQL queries\n",
        "conn.commit()"
      ],
      "metadata": {
        "id": "BZT-2hO3d0pE"
      },
      "execution_count": 24,
      "outputs": []
    },
    {
      "cell_type": "markdown",
      "source": [
        "Now the data will have been added to the table, which we can check by means of a query."
      ],
      "metadata": {
        "id": "naJmykK0Yr8B"
      }
    },
    {
      "cell_type": "markdown",
      "source": [
        "![2023-02-02 23_09_27-pgAdmin 4.png](data:image/png;base64,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)"
      ],
      "metadata": {
        "id": "6GVUvcMqYyLU"
      }
    }
  ]
}