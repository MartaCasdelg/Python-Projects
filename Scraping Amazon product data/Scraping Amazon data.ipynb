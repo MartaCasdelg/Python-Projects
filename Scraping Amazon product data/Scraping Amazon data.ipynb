{
 "cells": [
  {
   "attachments": {},
   "cell_type": "markdown",
   "metadata": {},
   "source": [
    "# Scraping Amazon product data\n",
    "---"
   ]
  },
  {
   "attachments": {},
   "cell_type": "markdown",
   "metadata": {},
   "source": [
    "## Data Extraction"
   ]
  },
  {
   "attachments": {},
   "cell_type": "markdown",
   "metadata": {},
   "source": [
    "In this project, I will focus on **extracting information from an Amazon product category**. Specifically, I will be scraping information from products under the category \"iphone\". Subsequently, I will store the data in a dataframe and perform a brief data cleansing. To facilitate the readability and comprehension of the code, I will put explanations before each code cell about what is about to be done and how to do it. \n",
    "\n",
    "That said, to begin with it is necessary to import a set of Python libraries. In this case, I will use the requests library to make the calls, the pandas library to create the dataframe where the data will be stored, the time library to set a waiting period between each API call and, finally, I will import BeautifulSoup to parse the html of the web.\n",
    "\n",
    "Additionally I have imported the warnings library to omit the messages that could come out by default when executing the code cells."
   ]
  },
  {
   "cell_type": "code",
   "execution_count": 1,
   "metadata": {},
   "outputs": [],
   "source": [
    "#Importing libraries\n",
    "import requests\n",
    "import pandas as pd\n",
    "import time\n",
    "from bs4 import BeautifulSoup\n",
    "\n",
    "#Suppressing Warnings\n",
    "import warnings\n",
    "warnings.filterwarnings('ignore')"
   ]
  },
  {
   "attachments": {},
   "cell_type": "markdown",
   "metadata": {},
   "source": [
    "Once this is done, we move on to the extraction part. The general idea is to **obtain information about the name, price, rating, number of comments and url image of each product within the category**. To do this, we must obtain the web url that contains the data, which we can find by doing any search on amazon.\n",
    "\n",
    "In this case, my url is ```'https://www.amazon.com/s?field-keywords=iphone'```. The problem is that when we access this link, we will see that the products are in several pages. Therefore, if we use this url we would only obtain data of the first products.\n",
    "\n",
    "To solve this, we must create a list of urls (in text format) containing the links to each of the pages we want to scrap. This is why **I have created a function (pages_to_scrap) that takes as parameter a number given by the user that defines the number of pages to scan**. The function then iterates over a range of numbers from 1 to this number and creates a new url by attaching the current number to the url via the \"page\" parameter. Each url is stored in the variable 'urls'.\n"
   ]
  },
  {
   "cell_type": "code",
   "execution_count": 2,
   "metadata": {},
   "outputs": [],
   "source": [
    "def pages_to_scrap(num_page):\n",
    "    #Create a list with number of pages to scrap \n",
    "    pages = list(range(1,num_page + 1))\n",
    "\n",
    "    #Create a list with complete urls of all pages\n",
    "    urls = []\n",
    "\n",
    "    for page in range(len(pages)):\n",
    "        url = \"https://www.amazon.com/s?field-keywords=iphone&page=\"+str(pages[page])\n",
    "        urls.append(url)\n",
    "\n",
    "    return urls"
   ]
  },
  {
   "attachments": {},
   "cell_type": "markdown",
   "metadata": {},
   "source": [
    "The **next step is to obtain data of the products within each page** (each link within urls). To do this we can use the **get method in each url**, but to make it work it is necessary to set the parameter headers with information from our device (to simulate a web search). Otherwise, Amazon will detect our activity and could block us, since it has a very strict policy regarding data extraction. You can review Alex the analyst's video in the readme.md references to see how to obtain this data.\n",
    "\n",
    "Then, we **create a loop** in which we use the get method for each url within urls, using the headers parameter. **If the response is positive (status code = 200), we continue the extraction. If it is negative, we get an error message**. \n",
    "\n",
    "Now comes the interesting part, to get the data (assuming status code = 200) we must **parse the html** we got in the answer. Doing this, we will be able to use the functions **find** and **find_all** to extract the information we need. **But what should we look for with these functions?** At this point we must be clear that the answer we have parsed actually contains all the html of the Amazon page, which holds the code that displays the information we see on the web when we scroll through the page (product names, prices, etc.). We can see that code if we hit F12 while we are on the web, so we can scroll down and look for the code snippets where the desired information is located. Once we find it, we can use the find and find_all functions to search for keywords in the html code and get that information.\n",
    "\n",
    "Don't worry if you don't know anything about html, you can use the tool at the top left of the window to select elements on the page and inspect them. By hovering the mouse over the page elements, the code snippets where this information is located will be highlighted. Here is an example where I put the mouse over the title of a product. I suggest you to use this tool to familiarize yourself with the structure of the html code.\n",
    "\n",
    <img src="https://github.com/MartaCasdelg/Python-Projects/blob/main/Scraping%20Amazon%20product%20data/Images/html_elements.png">
   ]
  },
  {
   "attachments": {},
   "cell_type": "markdown",
   "metadata": {},
   "source": [
    "Having understood this, we can continue with the code. Now the strategy is to find a part of the code that identifies each product separately. That is, the html class that contains all the information of each product. We can use the previous tool to guide us in this process. By doing this, we will find that all products have a common class, as can be seen in the following image.\n",
    "\n",
    "![img2](https://github.com/MartaCasdelg/Python-Projects/blob/main/Scraping%20Amazon%20product%20data/Images/html_products.png)"
   ]
  },
  {
   "attachments": {},
   "cell_type": "markdown",
   "metadata": {},
   "source": [
    "Each cell contains product information (if we expand it we can see more than what appears in the image), so we are interested in creating a function that iterates through each product and extracts the information we need. \n",
    "\n",
    "To achieve this, we first **save all the products in a variable (divs)** using the function find_all, which use the html class we just found as search parameters. Done this, it only remains to **create a loop for each element inside divs and to store in variables the information that we need**. For it we use the same process of looking for the html class in the code and use the find function to obtain the information. Here is an example: \n",
    "\n",
    "![img3](https://github.com/MartaCasdelg/Python-Projects/blob/main/Scraping%20Amazon%20product%20data/Images/html_price.png)\n"
   ]
  },
  {
   "attachments": {},
   "cell_type": "markdown",
   "metadata": {},
   "source": [
    "As there can be products without name, photo, etc., I added a condition that determines that if the data is not found, it is put ''. \n",
    "\n",
    "Finally, **in each loop iteration the data is saved in a dataframe**. When all products in an url are scanned, a timeout is set in order to avoid generating a large amount of data traffic all at once that could cause Amazon to block us.\n",
    "\n",
    "All the code is wrapped in a function that has, as parameters, a dataframe and the list of urls that we will get with the function that was created previously."
   ]
  },
  {
   "cell_type": "code",
   "execution_count": 3,
   "metadata": {},
   "outputs": [],
   "source": [
    "def get_data(df, urls):\n",
    "    \n",
    "    #Save computer information to simulate a web search\n",
    "    headers = {\"User-Agent\": \"Mozilla/5.0 (Windows NT 10.0; Win64; x64) AppleWebKit/537.36 (KHTML, like Gecko) Chrome/109.0.0.0 Safari/537.36\", \"Accept-Encoding\":\"gzip, deflate\", \"Accept\":\"text/html,application/xhtml+xml,application/xml;q=0.9,*/*;q=0.8\", \"DNT\":\"1\",\"Connection\":\"close\", \"Upgrade-Insecure-Requests\":\"1\"}\n",
    "\n",
    "    #Loop throught each url to obtain information\n",
    "    for url in urls:\n",
    "        response = requests.get(url, headers=headers)\n",
    "\n",
    "        if response.status_code == 200:\n",
    "            #Parse the response in html\n",
    "            soup = BeautifulSoup(response.content, \"html.parser\")\n",
    "\n",
    "            #Find all products, which are in the same html class\n",
    "            divs = soup.find_all(\"div\", class_=\"sg-col-20-of-24 s-result-item s-asin sg-col-0-of-12 sg-col-16-of-20 sg-col s-widget-spacing-small sg-col-12-of-16\")\n",
    "\n",
    "            #Iterate over div elements to obtain product information if search keywords are found, else put ''\n",
    "            for div in divs:\n",
    "                #Obtain text title \n",
    "                span = div.find(\"span\", class_=\"a-size-medium a-color-base a-text-normal\")\n",
    "                title = span.text if span else ''\n",
    "\n",
    "                #Obtain price \n",
    "                span = div.find(\"span\", class_=\"a-offscreen\")\n",
    "                price = span.text if span else ''\n",
    "\n",
    "                #Obtain rating \n",
    "                span = div.find(\"span\", class_=\"a-icon-alt\")\n",
    "                rating = span.text if span else ''\n",
    "\n",
    "                #Obtain number of coments\n",
    "                span = div.find(\"span\", class_=\"a-size-base s-underline-text\")\n",
    "                comments = span.text if span else ''\n",
    "\n",
    "                #Obtain image url\n",
    "                img = div.find(\"img\", class_=\"s-image\")\n",
    "                image = img[\"src\"] if img else ''\n",
    "\n",
    "                #Append information to dataframe\n",
    "                df = df.append({\n",
    "                                \"title\": title,\n",
    "                                \"price\": price,\n",
    "                                \"rating\": rating,\n",
    "                                \"comments\": comments,\n",
    "                                \"image\": image\n",
    "                                },\n",
    "                                ignore_index = True)\n",
    "            \n",
    "            #Set waiting time between each call \n",
    "            time.sleep(10)\n",
    "            \n",
    "        else:\n",
    "            print(\"Error while fetching data for page:\", url)\n",
    "    return df"
   ]
  },
  {
   "attachments": {},
   "cell_type": "markdown",
   "metadata": {},
   "source": [
    "Once the two functions have been defined, we can use them to obtain the data. As a reminder, the first function creates a list of urls and the second one uses its output together with a dataframe (that we will have to create now) to extract and save the data."
   ]
  },
  {
   "cell_type": "code",
   "execution_count": 4,
   "metadata": {},
   "outputs": [],
   "source": [
    "#Using function to set number of pages to scrap and create a list of urls\n",
    "urls = pages_to_scrap(20)"
   ]
  },
  {
   "cell_type": "code",
   "execution_count": 5,
   "metadata": {},
   "outputs": [],
   "source": [
    "#Create dataframe and get data\n",
    "df = pd.DataFrame(columns = [\"title\", \"price\", \"rating\", \"comments\", \"image\"])\n",
    "df = get_data(df, urls)"
   ]
  },
  {
   "cell_type": "code",
   "execution_count": 6,
   "metadata": {},
   "outputs": [
    {
     "data": {
      "text/html": [
       "<div>\n",
       "<style scoped>\n",
       "    .dataframe tbody tr th:only-of-type {\n",
       "        vertical-align: middle;\n",
       "    }\n",
       "\n",
       "    .dataframe tbody tr th {\n",
       "        vertical-align: top;\n",
       "    }\n",
       "\n",
       "    .dataframe thead th {\n",
       "        text-align: right;\n",
       "    }\n",
       "</style>\n",
       "<table border=\"1\" class=\"dataframe\">\n",
       "  <thead>\n",
       "    <tr style=\"text-align: right;\">\n",
       "      <th></th>\n",
       "      <th>title</th>\n",
       "      <th>price</th>\n",
       "      <th>rating</th>\n",
       "      <th>comments</th>\n",
       "      <th>image</th>\n",
       "    </tr>\n",
       "  </thead>\n",
       "  <tbody>\n",
       "    <tr>\n",
       "      <th>0</th>\n",
       "      <td>Apple iPhone 11, 64GB, Black - Unlocked (Renewed)</td>\n",
       "      <td>$300.00</td>\n",
       "      <td>4.3 out of 5 stars</td>\n",
       "      <td>(33,606)</td>\n",
       "      <td>https://m.media-amazon.com/images/I/31PpUfTCiF...</td>\n",
       "    </tr>\n",
       "    <tr>\n",
       "      <th>1</th>\n",
       "      <td>Apple iPhone XR, 64GB, Black - Unlocked (Renewed)</td>\n",
       "      <td>$227.95</td>\n",
       "      <td>4.5 out of 5 stars</td>\n",
       "      <td>(56,602)</td>\n",
       "      <td>https://m.media-amazon.com/images/I/717KHGCJ6e...</td>\n",
       "    </tr>\n",
       "    <tr>\n",
       "      <th>2</th>\n",
       "      <td>Apple iPhone SE (2nd Generation), US Version, ...</td>\n",
       "      <td>$144.00</td>\n",
       "      <td>4.4 out of 5 stars</td>\n",
       "      <td>(8,683)</td>\n",
       "      <td>https://m.media-amazon.com/images/I/812JKRJ1nZ...</td>\n",
       "    </tr>\n",
       "    <tr>\n",
       "      <th>3</th>\n",
       "      <td>Apple iPhone 11 Pro, 64GB, Midnight Green - Un...</td>\n",
       "      <td>$432.00</td>\n",
       "      <td>4.3 out of 5 stars</td>\n",
       "      <td>(16,021)</td>\n",
       "      <td>https://m.media-amazon.com/images/I/51+Uw6N7Bn...</td>\n",
       "    </tr>\n",
       "    <tr>\n",
       "      <th>4</th>\n",
       "      <td>Apple iPhone 12, 64GB, Purple - Unlocked (Rene...</td>\n",
       "      <td>$419.00</td>\n",
       "      <td>4.3 out of 5 stars</td>\n",
       "      <td>(5,977)</td>\n",
       "      <td>https://m.media-amazon.com/images/I/51y+8p7pXt...</td>\n",
       "    </tr>\n",
       "    <tr>\n",
       "      <th>...</th>\n",
       "      <td>...</td>\n",
       "      <td>...</td>\n",
       "      <td>...</td>\n",
       "      <td>...</td>\n",
       "      <td>...</td>\n",
       "    </tr>\n",
       "    <tr>\n",
       "      <th>301</th>\n",
       "      <td>Ulefone Unlocked Smartphones Note 9P Android 1...</td>\n",
       "      <td>$123.99</td>\n",
       "      <td>3.9 out of 5 stars</td>\n",
       "      <td>3,089</td>\n",
       "      <td>https://m.media-amazon.com/images/I/71gxbnt6fw...</td>\n",
       "    </tr>\n",
       "    <tr>\n",
       "      <th>302</th>\n",
       "      <td>TracFone TCL 30 Z, 32GB, Black - Prepaid Smart...</td>\n",
       "      <td>$39.88</td>\n",
       "      <td>3.2 out of 5 stars</td>\n",
       "      <td>26</td>\n",
       "      <td>https://m.media-amazon.com/images/I/718+xprSIB...</td>\n",
       "    </tr>\n",
       "    <tr>\n",
       "      <th>303</th>\n",
       "      <td>Zouzt [RFID Blocking] Datura Flowers Case for ...</td>\n",
       "      <td>$14.99</td>\n",
       "      <td>4.4 out of 5 stars</td>\n",
       "      <td>31</td>\n",
       "      <td>https://m.media-amazon.com/images/I/81JxuVRxmU...</td>\n",
       "    </tr>\n",
       "    <tr>\n",
       "      <th>304</th>\n",
       "      <td>Thuraya satellite Satsleeve + (Plus) for Smart...</td>\n",
       "      <td></td>\n",
       "      <td>2.9 out of 5 stars</td>\n",
       "      <td>8</td>\n",
       "      <td>https://m.media-amazon.com/images/I/71PYF4sosE...</td>\n",
       "    </tr>\n",
       "    <tr>\n",
       "      <th>305</th>\n",
       "      <td>Samsung Galaxy S10e SM-G970U 128GB 6GB RAM US ...</td>\n",
       "      <td>$178.66</td>\n",
       "      <td>4.2 out of 5 stars</td>\n",
       "      <td>96</td>\n",
       "      <td>https://m.media-amazon.com/images/I/71bK3oKRCO...</td>\n",
       "    </tr>\n",
       "  </tbody>\n",
       "</table>\n",
       "<p>306 rows × 5 columns</p>\n",
       "</div>"
      ],
      "text/plain": [
       "                                                 title    price  \\\n",
       "0    Apple iPhone 11, 64GB, Black - Unlocked (Renewed)  $300.00   \n",
       "1    Apple iPhone XR, 64GB, Black - Unlocked (Renewed)  $227.95   \n",
       "2    Apple iPhone SE (2nd Generation), US Version, ...  $144.00   \n",
       "3    Apple iPhone 11 Pro, 64GB, Midnight Green - Un...  $432.00   \n",
       "4    Apple iPhone 12, 64GB, Purple - Unlocked (Rene...  $419.00   \n",
       "..                                                 ...      ...   \n",
       "301  Ulefone Unlocked Smartphones Note 9P Android 1...  $123.99   \n",
       "302  TracFone TCL 30 Z, 32GB, Black - Prepaid Smart...   $39.88   \n",
       "303  Zouzt [RFID Blocking] Datura Flowers Case for ...   $14.99   \n",
       "304  Thuraya satellite Satsleeve + (Plus) for Smart...            \n",
       "305  Samsung Galaxy S10e SM-G970U 128GB 6GB RAM US ...  $178.66   \n",
       "\n",
       "                 rating  comments  \\\n",
       "0    4.3 out of 5 stars  (33,606)   \n",
       "1    4.5 out of 5 stars  (56,602)   \n",
       "2    4.4 out of 5 stars   (8,683)   \n",
       "3    4.3 out of 5 stars  (16,021)   \n",
       "4    4.3 out of 5 stars   (5,977)   \n",
       "..                  ...       ...   \n",
       "301  3.9 out of 5 stars     3,089   \n",
       "302  3.2 out of 5 stars        26   \n",
       "303  4.4 out of 5 stars        31   \n",
       "304  2.9 out of 5 stars         8   \n",
       "305  4.2 out of 5 stars        96   \n",
       "\n",
       "                                                 image  \n",
       "0    https://m.media-amazon.com/images/I/31PpUfTCiF...  \n",
       "1    https://m.media-amazon.com/images/I/717KHGCJ6e...  \n",
       "2    https://m.media-amazon.com/images/I/812JKRJ1nZ...  \n",
       "3    https://m.media-amazon.com/images/I/51+Uw6N7Bn...  \n",
       "4    https://m.media-amazon.com/images/I/51y+8p7pXt...  \n",
       "..                                                 ...  \n",
       "301  https://m.media-amazon.com/images/I/71gxbnt6fw...  \n",
       "302  https://m.media-amazon.com/images/I/718+xprSIB...  \n",
       "303  https://m.media-amazon.com/images/I/81JxuVRxmU...  \n",
       "304  https://m.media-amazon.com/images/I/71PYF4sosE...  \n",
       "305  https://m.media-amazon.com/images/I/71bK3oKRCO...  \n",
       "\n",
       "[306 rows x 5 columns]"
      ]
     },
     "execution_count": 6,
     "metadata": {},
     "output_type": "execute_result"
    }
   ],
   "source": [
    "#Show results\n",
    "df"
   ]
  },
  {
   "attachments": {},
   "cell_type": "markdown",
   "metadata": {},
   "source": [
    "## Data Cleaning"
   ]
  },
  {
   "attachments": {},
   "cell_type": "markdown",
   "metadata": {},
   "source": [
    "We already have our data, but we can do some transformations to clean them up. Specifically, I would like to remove the dollar sign from the price column (since it would not allow us to make calculations if we wanted to do some kind of analysis), remove the final part of the rating ('out of 5 stars') and check for duplicates."
   ]
  },
  {
   "cell_type": "code",
   "execution_count": 7,
   "metadata": {},
   "outputs": [],
   "source": [
    "#Delete dollar sign with ''\n",
    "df['price'] = df['price'].str.replace('$', '')\n",
    "\n",
    "#Delete 'out of 5 stars' in rating column\n",
    "df['rating'] = df['rating'].str.replace(' out of 5 stars', '')"
   ]
  },
  {
   "cell_type": "code",
   "execution_count": 8,
   "metadata": {},
   "outputs": [
    {
     "data": {
      "text/plain": [
       "23"
      ]
     },
     "execution_count": 8,
     "metadata": {},
     "output_type": "execute_result"
    }
   ],
   "source": [
    "#Counting duplicate data in dataframe\n",
    "df.duplicated().sum()"
   ]
  },
  {
   "cell_type": "code",
   "execution_count": 9,
   "metadata": {},
   "outputs": [],
   "source": [
    "# Dropping duplicate rows\n",
    "df.drop_duplicates(inplace = True)"
   ]
  },
  {
   "cell_type": "code",
   "execution_count": 10,
   "metadata": {},
   "outputs": [],
   "source": [
    "#Reset Index\n",
    "df.reset_index(drop = True, inplace = True)"
   ]
  },
  {
   "cell_type": "code",
   "execution_count": 11,
   "metadata": {},
   "outputs": [
    {
     "data": {
      "text/html": [
       "<div>\n",
       "<style scoped>\n",
       "    .dataframe tbody tr th:only-of-type {\n",
       "        vertical-align: middle;\n",
       "    }\n",
       "\n",
       "    .dataframe tbody tr th {\n",
       "        vertical-align: top;\n",
       "    }\n",
       "\n",
       "    .dataframe thead th {\n",
       "        text-align: right;\n",
       "    }\n",
       "</style>\n",
       "<table border=\"1\" class=\"dataframe\">\n",
       "  <thead>\n",
       "    <tr style=\"text-align: right;\">\n",
       "      <th></th>\n",
       "      <th>title</th>\n",
       "      <th>price</th>\n",
       "      <th>rating</th>\n",
       "      <th>comments</th>\n",
       "      <th>image</th>\n",
       "    </tr>\n",
       "  </thead>\n",
       "  <tbody>\n",
       "    <tr>\n",
       "      <th>0</th>\n",
       "      <td>Apple iPhone 11, 64GB, Black - Unlocked (Renewed)</td>\n",
       "      <td>300.00</td>\n",
       "      <td>4.3</td>\n",
       "      <td>(33,606)</td>\n",
       "      <td>https://m.media-amazon.com/images/I/31PpUfTCiF...</td>\n",
       "    </tr>\n",
       "    <tr>\n",
       "      <th>1</th>\n",
       "      <td>Apple iPhone XR, 64GB, Black - Unlocked (Renewed)</td>\n",
       "      <td>227.95</td>\n",
       "      <td>4.5</td>\n",
       "      <td>(56,602)</td>\n",
       "      <td>https://m.media-amazon.com/images/I/717KHGCJ6e...</td>\n",
       "    </tr>\n",
       "    <tr>\n",
       "      <th>2</th>\n",
       "      <td>Apple iPhone SE (2nd Generation), US Version, ...</td>\n",
       "      <td>144.00</td>\n",
       "      <td>4.4</td>\n",
       "      <td>(8,683)</td>\n",
       "      <td>https://m.media-amazon.com/images/I/812JKRJ1nZ...</td>\n",
       "    </tr>\n",
       "    <tr>\n",
       "      <th>3</th>\n",
       "      <td>Apple iPhone 11 Pro, 64GB, Midnight Green - Un...</td>\n",
       "      <td>432.00</td>\n",
       "      <td>4.3</td>\n",
       "      <td>(16,021)</td>\n",
       "      <td>https://m.media-amazon.com/images/I/51+Uw6N7Bn...</td>\n",
       "    </tr>\n",
       "    <tr>\n",
       "      <th>4</th>\n",
       "      <td>Apple iPhone 12, 64GB, Purple - Unlocked (Rene...</td>\n",
       "      <td>419.00</td>\n",
       "      <td>4.3</td>\n",
       "      <td>(5,977)</td>\n",
       "      <td>https://m.media-amazon.com/images/I/51y+8p7pXt...</td>\n",
       "    </tr>\n",
       "    <tr>\n",
       "      <th>...</th>\n",
       "      <td>...</td>\n",
       "      <td>...</td>\n",
       "      <td>...</td>\n",
       "      <td>...</td>\n",
       "      <td>...</td>\n",
       "    </tr>\n",
       "    <tr>\n",
       "      <th>278</th>\n",
       "      <td>Ulefone Unlocked Smartphones Note 9P Android 1...</td>\n",
       "      <td>123.99</td>\n",
       "      <td>3.9</td>\n",
       "      <td>3,089</td>\n",
       "      <td>https://m.media-amazon.com/images/I/71gxbnt6fw...</td>\n",
       "    </tr>\n",
       "    <tr>\n",
       "      <th>279</th>\n",
       "      <td>TracFone TCL 30 Z, 32GB, Black - Prepaid Smart...</td>\n",
       "      <td>39.88</td>\n",
       "      <td>3.2</td>\n",
       "      <td>26</td>\n",
       "      <td>https://m.media-amazon.com/images/I/718+xprSIB...</td>\n",
       "    </tr>\n",
       "    <tr>\n",
       "      <th>280</th>\n",
       "      <td>Zouzt [RFID Blocking] Datura Flowers Case for ...</td>\n",
       "      <td>14.99</td>\n",
       "      <td>4.4</td>\n",
       "      <td>31</td>\n",
       "      <td>https://m.media-amazon.com/images/I/81JxuVRxmU...</td>\n",
       "    </tr>\n",
       "    <tr>\n",
       "      <th>281</th>\n",
       "      <td>Thuraya satellite Satsleeve + (Plus) for Smart...</td>\n",
       "      <td></td>\n",
       "      <td>2.9</td>\n",
       "      <td>8</td>\n",
       "      <td>https://m.media-amazon.com/images/I/71PYF4sosE...</td>\n",
       "    </tr>\n",
       "    <tr>\n",
       "      <th>282</th>\n",
       "      <td>Samsung Galaxy S10e SM-G970U 128GB 6GB RAM US ...</td>\n",
       "      <td>178.66</td>\n",
       "      <td>4.2</td>\n",
       "      <td>96</td>\n",
       "      <td>https://m.media-amazon.com/images/I/71bK3oKRCO...</td>\n",
       "    </tr>\n",
       "  </tbody>\n",
       "</table>\n",
       "<p>283 rows × 5 columns</p>\n",
       "</div>"
      ],
      "text/plain": [
       "                                                 title   price rating  \\\n",
       "0    Apple iPhone 11, 64GB, Black - Unlocked (Renewed)  300.00    4.3   \n",
       "1    Apple iPhone XR, 64GB, Black - Unlocked (Renewed)  227.95    4.5   \n",
       "2    Apple iPhone SE (2nd Generation), US Version, ...  144.00    4.4   \n",
       "3    Apple iPhone 11 Pro, 64GB, Midnight Green - Un...  432.00    4.3   \n",
       "4    Apple iPhone 12, 64GB, Purple - Unlocked (Rene...  419.00    4.3   \n",
       "..                                                 ...     ...    ...   \n",
       "278  Ulefone Unlocked Smartphones Note 9P Android 1...  123.99    3.9   \n",
       "279  TracFone TCL 30 Z, 32GB, Black - Prepaid Smart...   39.88    3.2   \n",
       "280  Zouzt [RFID Blocking] Datura Flowers Case for ...   14.99    4.4   \n",
       "281  Thuraya satellite Satsleeve + (Plus) for Smart...            2.9   \n",
       "282  Samsung Galaxy S10e SM-G970U 128GB 6GB RAM US ...  178.66    4.2   \n",
       "\n",
       "     comments                                              image  \n",
       "0    (33,606)  https://m.media-amazon.com/images/I/31PpUfTCiF...  \n",
       "1    (56,602)  https://m.media-amazon.com/images/I/717KHGCJ6e...  \n",
       "2     (8,683)  https://m.media-amazon.com/images/I/812JKRJ1nZ...  \n",
       "3    (16,021)  https://m.media-amazon.com/images/I/51+Uw6N7Bn...  \n",
       "4     (5,977)  https://m.media-amazon.com/images/I/51y+8p7pXt...  \n",
       "..        ...                                                ...  \n",
       "278     3,089  https://m.media-amazon.com/images/I/71gxbnt6fw...  \n",
       "279        26  https://m.media-amazon.com/images/I/718+xprSIB...  \n",
       "280        31  https://m.media-amazon.com/images/I/81JxuVRxmU...  \n",
       "281         8  https://m.media-amazon.com/images/I/71PYF4sosE...  \n",
       "282        96  https://m.media-amazon.com/images/I/71bK3oKRCO...  \n",
       "\n",
       "[283 rows x 5 columns]"
      ]
     },
     "execution_count": 11,
     "metadata": {},
     "output_type": "execute_result"
    }
   ],
   "source": [
    "#Show results\n",
    "df"
   ]
  },
  {
   "cell_type": "code",
   "execution_count": 12,
   "metadata": {},
   "outputs": [],
   "source": [
    "#Export df to csv\n",
    "df.to_csv('amazon_iphone_data.csv', index=False)"
   ]
  }
 ],
 "metadata": {
  "kernelspec": {
   "display_name": "Python 3",
   "language": "python",
   "name": "python3"
  },
  "language_info": {
   "codemirror_mode": {
    "name": "ipython",
    "version": 3
   },
   "file_extension": ".py",
   "mimetype": "text/x-python",
   "name": "python",
   "nbconvert_exporter": "python",
   "pygments_lexer": "ipython3",
   "version": "3.9.13"
  },
  "orig_nbformat": 4,
  "vscode": {
   "interpreter": {
    "hash": "3008f02642dc3a488414fcc27a6e2c8bae1b8cd220bbe97d1bab81bc3850dfe6"
   }
  }
 },
 "nbformat": 4,
 "nbformat_minor": 2
}
